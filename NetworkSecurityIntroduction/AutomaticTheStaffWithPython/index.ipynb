{
 "cells": [
  {
   "cell_type": "markdown",
   "metadata": {},
   "source": [
    "Ch06 - Manipulating Strings\n",
    "---"
   ]
  },
  {
   "cell_type": "code",
   "execution_count": 1,
   "metadata": {
    "collapsed": false
   },
   "outputs": [
    {
     "name": "stdout",
     "output_type": "stream",
     "text": [
      "nice......□□□□150000\n"
     ]
    }
   ],
   "source": [
    "print('nice'.ljust(10, '.') + '150000'.rjust(10,'□'))"
   ]
  },
  {
   "cell_type": "code",
   "execution_count": 2,
   "metadata": {
    "collapsed": false
   },
   "outputs": [],
   "source": [
    "def printPicnic(itemsDict, leftWidth, rightWidth):\n",
    "    print('PICNIC ITEMS'.center(leftWidth + rightWidth, '-'))\n",
    "    for k, v in itemsDict.items():\n",
    "        print(k.ljust(leftWidth, '.') + str(v).rjust(rightWidth))\n",
    "picnicItems = {'sandwiches': 4, 'apples': 12, 'cups': 4, 'cookies': 8000}"
   ]
  },
  {
   "cell_type": "code",
   "execution_count": 3,
   "metadata": {
    "collapsed": false
   },
   "outputs": [
    {
     "name": "stdout",
     "output_type": "stream",
     "text": [
      "---PICNIC ITEMS--\n",
      "cups........    4\n",
      "apples......   12\n",
      "sandwiches..    4\n",
      "cookies..... 8000\n"
     ]
    }
   ],
   "source": [
    "printPicnic(picnicItems, 12, 5)"
   ]
  },
  {
   "cell_type": "code",
   "execution_count": 4,
   "metadata": {
    "collapsed": false
   },
   "outputs": [
    {
     "name": "stdout",
     "output_type": "stream",
     "text": [
      "-------PICNIC ITEMS-------\n",
      "cups................     4\n",
      "apples..............    12\n",
      "sandwiches..........     4\n",
      "cookies.............  8000\n"
     ]
    }
   ],
   "source": [
    "printPicnic(picnicItems, 20, 6)"
   ]
  },
  {
   "cell_type": "markdown",
   "metadata": {},
   "source": [
    "Ch07 Matching Multiple Groups with the Pipe\n",
    "---\n",
    "\n",
    "Say you want to  find a phone number fron Taipei in a string.\n",
    "\n",
    "Pattern Exmple: 02-211-8800\n",
    "\n",
    "1. length: 9\n",
    "- area code check: 02\n",
    "-  `-`, the  firrst hyphen, after the area code\n",
    "- three more numeric characters,\n",
    "- `-`, another hypheny,\n",
    "- and  nally four more numbers"
   ]
  },
  {
   "cell_type": "code",
   "execution_count": 5,
   "metadata": {
    "collapsed": false
   },
   "outputs": [],
   "source": [
    "def isPhoneNumber(text):\n",
    "    if len(text) != 11:\n",
    "        return False\n",
    "    for i in range(0, 2):\n",
    "        if not text[i].isdecimal():\n",
    "            return False\n",
    "    if text[2] != '-':\n",
    "        return False\n",
    "    for i in range(3, 6):\n",
    "        if not text[i].isdecimal():\n",
    "            return False\n",
    "    if text[6] != '-':\n",
    "        return False\n",
    "    for i in range(7, 11):\n",
    "        if not text[i].isdecimal():\n",
    "            return False\n",
    "    return True"
   ]
  },
  {
   "cell_type": "code",
   "execution_count": 6,
   "metadata": {
    "collapsed": false
   },
   "outputs": [
    {
     "name": "stdout",
     "output_type": "stream",
     "text": [
      "087-222222 is a phone number:\n",
      "False\n"
     ]
    }
   ],
   "source": [
    "print('087-222222 is a phone number:')\n",
    "print(isPhoneNumber('087-222222'))"
   ]
  },
  {
   "cell_type": "code",
   "execution_count": 7,
   "metadata": {
    "collapsed": false
   },
   "outputs": [
    {
     "name": "stdout",
     "output_type": "stream",
     "text": [
      "02-211-8800 is a phone number:\n",
      "True\n"
     ]
    }
   ],
   "source": [
    "print('02-211-8800 is a phone number:')\n",
    "print(isPhoneNumber('02-211-8800'))"
   ]
  },
  {
   "cell_type": "markdown",
   "metadata": {},
   "source": [
    "Find out from a messages\n",
    "---\n",
    "1. test for consective strings with length being 11."
   ]
  },
  {
   "cell_type": "code",
   "execution_count": 8,
   "metadata": {
    "collapsed": false
   },
   "outputs": [
    {
     "name": "stdout",
     "output_type": "stream",
     "text": [
      "1  Phone number found: 02-211-8800\n",
      "2  Phone number found: 02-211-8700\n",
      "_+_ Done and  2  found\n"
     ]
    }
   ],
   "source": [
    "message = 'The representive number of campus number is 02-211-8800 and 02-211-8700 is scanner.'\n",
    "k=1\n",
    "for i in range(len(message)): \n",
    "    chunk = message[i:i+11]\n",
    "    if isPhoneNumber(chunk):\n",
    "       print(k,' Phone number found: ' + chunk)\n",
    "       k=k+1  \n",
    "print('_+_ Done and ',k-1, ' found')"
   ]
  },
  {
   "cell_type": "markdown",
   "metadata": {},
   "source": [
    "Finding Patterns of text with regular expressions\n",
    "---\n",
    "Seem to work fine. However, the stings, '022118800', couldn't be found out:\n"
   ]
  },
  {
   "cell_type": "code",
   "execution_count": 9,
   "metadata": {
    "collapsed": false
   },
   "outputs": [
    {
     "name": "stdout",
     "output_type": "stream",
     "text": [
      "False\n"
     ]
    }
   ],
   "source": [
    "print(isPhoneNumber('022118800'))"
   ]
  },
  {
   "cell_type": "markdown",
   "metadata": {},
   "source": [
    "`re` module\n",
    "---\n",
    "Professional regular expressions module, re, in python does help to such works:\n",
    "\n",
    "1. Import the regex module with `import re`.\n",
    "2. Create a Regex object with the `re.compile()` function. (Remember to use araw string.)\n",
    "3. Pass the string you want to search into the Regex object’s `search()` method. This returns a Match object.\n",
    "4. Call the Match object’s `group()` method to return a string of the actual matched text.\n"
   ]
  },
  {
   "cell_type": "code",
   "execution_count": 10,
   "metadata": {
    "collapsed": false
   },
   "outputs": [
    {
     "data": {
      "text/plain": [
       "'02-211-8800'"
      ]
     },
     "execution_count": 10,
     "metadata": {},
     "output_type": "execute_result"
    }
   ],
   "source": [
    "import re\n",
    "phoneNumRegex1 = re.compile(r'(\\d\\d)-(\\d\\d\\d-\\d\\d\\d\\d)')\n",
    "mo = phoneNumRegex1.search('CGU number is 02-211-8800.')\n",
    "mo.group()"
   ]
  },
  {
   "cell_type": "code",
   "execution_count": 11,
   "metadata": {
    "collapsed": false
   },
   "outputs": [
    {
     "data": {
      "text/plain": [
       "'(02)-211-8800'"
      ]
     },
     "execution_count": 11,
     "metadata": {},
     "output_type": "execute_result"
    }
   ],
   "source": [
    "phoneNumRegex2 = re.compile(r'(\\(\\d\\d\\))-(\\d\\d\\d-\\d\\d\\d\\d)')\n",
    "mo = phoneNumRegex2.search('CGU tel number is (02)-211-8800')\n",
    "mo.group()"
   ]
  },
  {
   "cell_type": "markdown",
   "metadata": {},
   "source": [
    "`(\\()?, (\\))?`: part of the regular expression means that the pattern, `(` or   `)` is an optional group.  "
   ]
  },
  {
   "cell_type": "code",
   "execution_count": 12,
   "metadata": {
    "collapsed": false
   },
   "outputs": [
    {
     "data": {
      "text/plain": [
       "'02-211-8800'"
      ]
     },
     "execution_count": 12,
     "metadata": {},
     "output_type": "execute_result"
    }
   ],
   "source": [
    "phoneNumRegex3 = re.compile(r'((\\()?\\d\\d(\\))?)-(\\d\\d\\d-\\d\\d\\d\\d)')\n",
    "mo = phoneNumRegex3.search('CGU tel number is 02-211-8800')\n",
    "mo.group()"
   ]
  },
  {
   "cell_type": "code",
   "execution_count": 13,
   "metadata": {
    "collapsed": false
   },
   "outputs": [
    {
     "data": {
      "text/plain": [
       "'(02)-211-8800'"
      ]
     },
     "execution_count": 13,
     "metadata": {},
     "output_type": "execute_result"
    }
   ],
   "source": [
    "mo = phoneNumRegex3.search('CGU tel number is (02)-211-8800')\n",
    "mo.group()"
   ]
  },
  {
   "cell_type": "markdown",
   "metadata": {},
   "source": [
    "Other motifiers\n",
    "---\n",
    "- `(...)*`, Matching Zero or More with the Star,\n",
    "- `(...)+`, Matching One or More with the Plus\n",
    "- `(...){2,3}`, repeat a specific number of 2 or 3 times here,\n",
    "- `^, $`, ( called caret or dollar), at beginning or end text.\n",
    "- `.`, (called dot) wild character\n",
    "- `|`, or"
   ]
  },
  {
   "cell_type": "markdown",
   "metadata": {
    "collapsed": true
   },
   "source": [
    "the findall() method\n",
    "---"
   ]
  },
  {
   "cell_type": "code",
   "execution_count": 15,
   "metadata": {
    "collapsed": false
   },
   "outputs": [
    {
     "data": {
      "text/plain": [
       "'02-211-8800'"
      ]
     },
     "execution_count": 15,
     "metadata": {},
     "output_type": "execute_result"
    }
   ],
   "source": [
    "mo = phoneNumRegex3.search('CGU tel number is 02-211-8800 and trnsfer number is (02)-211-8700')\n",
    "mo.group()"
   ]
  },
  {
   "cell_type": "code",
   "execution_count": 16,
   "metadata": {
    "collapsed": false
   },
   "outputs": [
    {
     "data": {
      "text/plain": [
       "([('02', '', '', '211-8800'), ('(02)', '(', ')', '211-8700')],\n",
       " ('(02)', '(', ')', '211-8700'))"
      ]
     },
     "execution_count": 16,
     "metadata": {},
     "output_type": "execute_result"
    }
   ],
   "source": [
    "mo = phoneNumRegex3.findall('CGU tel number is 02-211-8800 and trnsfer number is (02)-211-8700')\n",
    "mo,mo[1],"
   ]
  },
  {
   "cell_type": "code",
   "execution_count": 17,
   "metadata": {
    "collapsed": false
   },
   "outputs": [
    {
     "name": "stdout",
     "output_type": "stream",
     "text": [
      "(02) - 211-8700\n"
     ]
    }
   ],
   "source": [
    "print(mo[1][0],'-',mo[1][3])"
   ]
  },
  {
   "cell_type": "markdown",
   "metadata": {},
   "source": [
    "Character Classes\n",
    "---\n",
    "```\n",
    "\\d Any numeric digit from 0 to 9.\n",
    "\\D Any character that is not a numeric digit from 0 to 9.\n",
    "\\w Any letter, numeric digit, or the underscore character. \n",
    "\\W Any character that is not a letter, numeric digit, or the underscore character\n",
    "\\s Any space, tab, or newline character.\n",
    "\\S Any character that is not a space, tab, or newline.\n",
    "\n",
    "```"
   ]
  },
  {
   "cell_type": "code",
   "execution_count": 18,
   "metadata": {
    "collapsed": true
   },
   "outputs": [],
   "source": [
    "import pyperclip, re"
   ]
  },
  {
   "cell_type": "code",
   "execution_count": 19,
   "metadata": {
    "collapsed": false
   },
   "outputs": [],
   "source": [
    "phoneRegex = re.compile(r'''(\n",
    "    (\\d{3}|\\(\\d{3}\\))?                # area code, 2 digits\n",
    "    (\\s|-|\\.)?                        # separator\n",
    "    (\\d{3})                           # first 3 digits\n",
    "    (\\s|-|\\.)                         # separator\n",
    "    (\\d{4})                           # last 4 digits\n",
    "    (\\s*(ext|x|ext.)\\s*(\\d{2,5}))?    # extension\n",
    "    )''', re.VERBOSE)"
   ]
  },
  {
   "cell_type": "code",
   "execution_count": 20,
   "metadata": {
    "collapsed": true
   },
   "outputs": [],
   "source": [
    "text='CGU tel number is 02-211-8800 and trnsfer number is (02)-211-8700'\n",
    "matches = []\n",
    "for groups in phoneRegex.findall(text):\n",
    "    phoneNum = '-'.join([groups[1], groups[3], groups[5]])\n",
    "    if groups[8] != '':\n",
    "        phoneNum += ' x' + groups[8]\n",
    "    matches.append(phoneNum)"
   ]
  },
  {
   "cell_type": "code",
   "execution_count": 22,
   "metadata": {
    "collapsed": false
   },
   "outputs": [
    {
     "name": "stdout",
     "output_type": "stream",
     "text": [
      "Copied to clipboard:\n",
      "-211-8800\n",
      "-211-8700\n"
     ]
    }
   ],
   "source": [
    "# Copy results to the clipboard.\n",
    "if len(matches) > 0:\n",
    "    pyperclip.copy('\\n'.join(matches)) # get one string at once\n",
    "    print('Copied to clipboard:')\n",
    "    print('\\n'.join(matches))          # get all strings\n",
    "else:\n",
    "    print('No phone numbers or email addresses found.')"
   ]
  },
  {
   "cell_type": "markdown",
   "metadata": {},
   "source": [
    "Passwords Design\n",
    "---\n",
    "Recently, app providers always ask customs or users to strengthen theirs passwords for security. But how does the authentication work?"
   ]
  },
  {
   "cell_type": "code",
   "execution_count": 23,
   "metadata": {
    "collapsed": true
   },
   "outputs": [],
   "source": [
    "import string"
   ]
  },
  {
   "cell_type": "code",
   "execution_count": 24,
   "metadata": {
    "collapsed": false
   },
   "outputs": [
    {
     "data": {
      "text/plain": [
       "'ABCDEFGHIJKLMNOPQRSTUVWXYZ'"
      ]
     },
     "execution_count": 24,
     "metadata": {},
     "output_type": "execute_result"
    }
   ],
   "source": [
    "string.ascii_uppercase "
   ]
  },
  {
   "cell_type": "code",
   "execution_count": 25,
   "metadata": {
    "collapsed": false
   },
   "outputs": [
    {
     "data": {
      "text/plain": [
       "'abcdefghijklmnopqrstuvwxyz'"
      ]
     },
     "execution_count": 25,
     "metadata": {},
     "output_type": "execute_result"
    }
   ],
   "source": [
    "string.ascii_lowercase "
   ]
  },
  {
   "cell_type": "markdown",
   "metadata": {},
   "source": [
    "Requirement\n",
    "---\n",
    "at least 1 digits, one upeercase alphbet, one lower alphbet, and one punctuation. "
   ]
  },
  {
   "cell_type": "code",
   "execution_count": 26,
   "metadata": {
    "collapsed": true
   },
   "outputs": [],
   "source": [
    "def is_strong_password(s):\n",
    "    # define 8-digit strengthened passwords\n",
    "    lenth_regex = re.compile(r'.{8,}')\n",
    "    upper_regex = re.compile(r'[ABCDEFGHIJKLMNOPQRSTUVWXYZ]')\n",
    "    lower_regex = re.compile(r'[abcdefghijklmnopqrstuvwxyz]')\n",
    "    digit_regex = re.compile(r'[0123456789]')\n",
    "    punctuation_regex = re.compile(r'[!\"#$%&\\'()*+,-./:;<=>?@[\\]^_`{|}~]')\n",
    "    if lenth_regex.search(s) and \\\n",
    "        upper_regex.search(s) and \\\n",
    "        lower_regex.search(s) and \\\n",
    "        digit_regex.search(s) and \\\n",
    "        punctuation_regex.search(s):\n",
    "            return 'Welcome!'\n",
    "    return False"
   ]
  },
  {
   "cell_type": "code",
   "execution_count": 27,
   "metadata": {
    "collapsed": false
   },
   "outputs": [
    {
     "data": {
      "text/plain": [
       "'Welcome!'"
      ]
     },
     "execution_count": 27,
     "metadata": {},
     "output_type": "execute_result"
    }
   ],
   "source": [
    "passwd='0Us#dwq_'\n",
    "is_strong_password(passwd)"
   ]
  },
  {
   "cell_type": "code",
   "execution_count": null,
   "metadata": {
    "collapsed": true
   },
   "outputs": [],
   "source": []
  },
  {
   "cell_type": "code",
   "execution_count": null,
   "metadata": {
    "collapsed": true
   },
   "outputs": [],
   "source": []
  }
 ],
 "metadata": {
  "kernelspec": {
   "display_name": "Python 3",
   "language": "python",
   "name": "python3"
  },
  "language_info": {
   "codemirror_mode": {
    "name": "ipython",
    "version": 3
   },
   "file_extension": ".py",
   "mimetype": "text/x-python",
   "name": "python",
   "nbconvert_exporter": "python",
   "pygments_lexer": "ipython3",
   "version": "3.5.2"
  }
 },
 "nbformat": 4,
 "nbformat_minor": 1
}
