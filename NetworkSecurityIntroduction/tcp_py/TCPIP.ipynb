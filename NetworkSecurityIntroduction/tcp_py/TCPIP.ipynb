{
 "cells": [
  {
   "cell_type": "markdown",
   "metadata": {},
   "source": [
    "TCP/IP Introduction\n",
    "===\n",
    "The Internet is based on rules about how to make connections, exchange data, terminate connections, handle timeouts, and so on. These are called protocols, and they are arranged in layers.\n",
    "\n",
    "The very lowest layer governs aspects such as electrical signals; each higher layer builds on those below. In the middle, more or less, is the IP (Internet Protocol) layer, which specifies how network locations are addressed and how packets (chunks) of data flow. In the layer above that, two protocols describe how to move bytes between locations:"
   ]
  },
  {
   "cell_type": "markdown",
   "metadata": {},
   "source": [
    "- UDP (User Datagram Protocol):\n",
    "This is used for short exchanges. A datagram is a tiny message sent in a single burst, like a note on a postcard.\n",
    "- TCP (Transmission Control Protocol):\n",
    "This protocol is used for longer-lived connections. It sends streams of bytes and ensures that they arrive in order without duplication.\n",
    "\n",
    "Note\n",
    "---\n",
    "To distinguish the different computer devices on the internet, each object is assigned a *unique* ip. But Your local machine always has the IP address <font color=\"brown\">127.0.0.1</font> and the name <font color=\"brown\">localhost</font>. You might see this called the <font color=\"brown\">loopback interface</font>. "
   ]
  },
  {
   "cell_type": "code",
   "execution_count": 1,
   "metadata": {
    "collapsed": false
   },
   "outputs": [],
   "source": [
    "# readout the network card setting\n",
    "!ifconfig -a >netconfig.txt"
   ]
  },
  {
   "cell_type": "markdown",
   "metadata": {},
   "source": [
    "The first three lines are listed as follows:\n",
    "\n",
    "```\n",
    "lo0: flags=8049<UP,LOOPBACK,RUNNING,MULTICAST> mtu 16384\n",
    "\toptions=1203<RXCSUM,TXCSUM,TXSTATUS,SW_TIMESTAMP>\n",
    "\tinet 127.0.0.1 netmask 0xff000000 \n",
    "```    "
   ]
  },
  {
   "cell_type": "markdown",
   "metadata": {},
   "source": [
    "Most of the Internet with which we interact—the Web, database servers, and so on—is based on the TCP protocol running atop the IP protocol; so called, **TCP/IP**."
   ]
  },
  {
   "cell_type": "markdown",
   "metadata": {},
   "source": [
    "The lowest level of network programming uses a **socket**, which  coding is tedious. We will introduce it by examples. "
   ]
  },
  {
   "cell_type": "markdown",
   "metadata": {},
   "source": [
    "UDP Example\n",
    "===\n",
    "The client sends a string in a UDP datagram to a server, and the server returns a packet of data containing a string. \n",
    "\n",
    "1. udp server code\n",
    "\n",
    "```python\n",
    "from datetime import datetime\n",
    "import socket\n",
    "\n",
    "# test on one's box with 6789 port\n",
    "server_address = ('localhost', 6789)\n",
    "max_size = 4096\n",
    "\n",
    "print('Starting the server at', datetime.now())\n",
    "print('Waiting for a client to call.')\n",
    "server = socket.socket(socket.AF_INET, socket.SOCK_DGRAM)\n",
    "server.bind(server_address)\n",
    "\n",
    "data, client = server.recvfrom(max_size)\n",
    "\n",
    "print('At', datetime.now(), client, 'said', data)\n",
    "server.sendto(b'Are you talking to me?', client)\n",
    "server.close()\n",
    "```"
   ]
  }
 ],
 "metadata": {
  "kernelspec": {
   "display_name": "Python 3",
   "language": "python",
   "name": "python3"
  },
  "language_info": {
   "codemirror_mode": {
    "name": "ipython",
    "version": 3
   },
   "file_extension": ".py",
   "mimetype": "text/x-python",
   "name": "python",
   "nbconvert_exporter": "python",
   "pygments_lexer": "ipython3",
   "version": "3.5.2"
  }
 },
 "nbformat": 4,
 "nbformat_minor": 1
}
