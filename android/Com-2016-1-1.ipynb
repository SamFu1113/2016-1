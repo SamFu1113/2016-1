{
 "cells": [
  {
   "cell_type": "markdown",
   "metadata": {
    "internals": {
     "slide_helper": "subslide_end",
     "slide_type": "subslide"
    },
    "slide_helper": "subslide_end",
    "slideshow": {
     "slide_type": "slide"
    }
   },
   "source": [
    " Digital Innovation\n",
    " ===\n",
    " Intelligent Interface of Human-Machine\n",
    " ---\n",
    " Tutor: cch (diffusion)"
   ]
  },
  {
   "cell_type": "markdown",
   "metadata": {
    "internals": {
     "frag_helper": "fragment_end",
     "frag_number": 5,
     "slide_helper": "subslide_end",
     "slide_type": "subslide"
    },
    "slide_helper": "slide_end",
    "slideshow": {
     "slide_type": "subslide"
    }
   },
   "source": [
    "      Nothing is no more popular than HTML!"
   ]
  },
  {
   "cell_type": "markdown",
   "metadata": {
    "internals": {
     "frag_helper": "fragment_end",
     "frag_number": 5,
     "slide_helper": "subslide_end",
     "slide_type": "subslide"
    },
    "slide_helper": "subslide_end",
    "slideshow": {
     "slide_type": "slide"
    }
   },
   "source": [
    "HTML\n",
    "===\n",
    "A popular format of data suit for any device and anybody!\n",
    "\n",
    "Template\n",
    "---     \n",
    "```XML\n",
    "<html> \n",
    "   <meta name=\"viewport\" content=\"user-scalable=no, initial-scale=1, maximum-scale=1, minimum-scale=1, width=device-width, height=device-height, target-densitydpi=device-dpi\" />\n",
    "   <head>Page Title</head>\n",
    "   <script type=\"text/javascript\">...</script>\n",
    "   <style type=\"text/css\">...</style>\n",
    "   <body>\n",
    "      I'm here.\n",
    "   </body> \n",
    "</html>\n",
    "```     "
   ]
  },
  {
   "cell_type": "markdown",
   "metadata": {
    "internals": {
     "frag_helper": "fragment_end",
     "frag_number": 5,
     "slide_helper": "subslide_end",
     "slide_type": "subslide"
    },
    "slide_helper": "subslide_end",
    "slideshow": {
     "slide_type": "subslide"
    }
   },
   "source": [
    "- (verbatim mode) I'm here, \n",
    "- <big>I'm here</big>, ( by &lt;big&gt;... &lt;/big&gt; tag)\n",
    "- <i>I'm here</i>, ( by &lt;i&gt;... &lt;i&gt; tag)\n",
    "- <font color=\"red\">I'm here</font>, ( by &lt;font color=\"red\"&gt;... &lt;/color&gt; tag)"
   ]
  },
  {
   "cell_type": "markdown",
   "metadata": {
    "collapsed": false
   },
   "source": [
    "here.html\n",
    "---\n",
    "\n",
    "I'm here.<br>\n",
    "<font color=\"red\"> I'm here.</font><br>\n",
    "<code style=\"background-color:red;color:white;\"> I'm here.</code><br>"
   ]
  },
  {
   "cell_type": "markdown",
   "metadata": {},
   "source": [
    "Code \n",
    "---\n",
    "```html\n",
    "<html> \n",
    "   <meta name=\"viewport\" content=\"user-scalable=no, initial-scale=1, \n",
    "     maximum-scale=1, minimum-scale=1, \n",
    "     width=device-width, height=device-height\" />\n",
    "   <body>\n",
    "      I'm here.<br>\n",
    "       <font color=\"red\"> I'm here.</font><br>\n",
    "       <code style=\"background-color:red;color:white;\"> I'm here.</code><br>\n",
    "   </body> \n",
    "</html>\n",
    "```"
   ]
  },
  {
   "cell_type": "markdown",
   "metadata": {
    "internals": {
     "frag_helper": "fragment_end",
     "frag_number": 5,
     "slide_helper": "subslide_end",
     "slide_type": "subslide"
    },
    "slide_helper": "subslide_end",
    "slideshow": {
     "slide_type": "subslide"
    }
   },
   "source": [
    "Note\n",
    "---\n",
    " The *meta* tag with \"viewport\" used above is initially introduced for recent mobile devices device but is also popular in general HTML codes. "
   ]
  },
  {
   "cell_type": "markdown",
   "metadata": {
    "internals": {
     "frag_helper": "fragment_end",
     "frag_number": 5,
     "slide_helper": "subslide_end",
     "slide_type": "subslide"
    },
    "slide_helper": "subslide_end",
    "slideshow": {
     "slide_type": "subslide"
    }
   },
   "source": [
    "HTML Programming Environment\n",
    "---\n",
    "\n",
    "- HTML, CSS and Javascript\n",
    "\n",
    "- Development Tool: Seamonkey,Gimp"
   ]
  },
  {
   "cell_type": "markdown",
   "metadata": {
    "internals": {
     "frag_helper": "fragment_end",
     "frag_number": 5,
     "slide_helper": "subslide_end",
     "slide_type": "subslide"
    },
    "slide_helper": "slide_end",
    "slideshow": {
     "slide_type": "subslide"
    }
   },
   "source": [
    "\n",
    "        "
   ]
  },
  {
   "cell_type": "markdown",
   "metadata": {
    "internals": {
     "frag_helper": "fragment_end",
     "frag_number": 5,
     "slide_type": "subslide"
    },
    "slideshow": {
     "slide_type": "slide"
    }
   },
   "source": [
    "Second Lecture (Interactivity)\n",
    "===\n",
    "\n",
    "Input a number, $X$, and calculate its square power, $X^2$:\n"
   ]
  },
  {
   "cell_type": "markdown",
   "metadata": {
    "internals": {
     "frag_helper": "fragment_end",
     "frag_number": 21,
     "slide_helper": "subslide_end"
    },
    "slide_helper": "subslide_end",
    "slideshow": {
     "slide_type": "fragment"
    }
   },
   "source": [
    "<script type=\"text/javascript\">\n",
    "      function calcSquare(real)\n",
    "      {\n",
    "       // deal the values of variables passed from HTML codes\n",
    "        var result=real*real;       \n",
    "        document.getElementById('boldStuff').innerHTML = result; \n",
    "      }  \n",
    "</script>\n",
    "\n",
    "<form action=\"#\">\n",
    "   <div style=\"font-family: Georgia, serif;background-color:gainsboro; border:solid black; width:500px; padding:20px;\">\n",
    "   Input:\n",
    "   <input id=\"real\" type=\"numeric\" name=\"real\" min=\"0\" max=\"100\" step=\"1\" value=\"6\"> \n",
    "   <br>\n",
    "   <p>\n",
    "   Squre of input = <b id=\"boldStuff\">36</b>\n",
    "   <br>\n",
    "   <input value=\"Calculate\" onclick=\"calcSquare(this.form.real.value)\" type=\"button\"> \n",
    "   </div>\n",
    "</form>"
   ]
  },
  {
   "cell_type": "markdown",
   "metadata": {
    "internals": {
     "frag_helper": "fragment_end",
     "frag_number": 21,
     "slide_type": "subslide"
    },
    "slideshow": {
     "slide_type": "subslide"
    }
   },
   "source": [
    "Main HTML Part\n",
    "---\n",
    "\n",
    "define a form, waiting for data input to work:"
   ]
  },
  {
   "cell_type": "markdown",
   "metadata": {
    "internals": {
     "frag_helper": "fragment_end",
     "frag_number": 23,
     "slide_helper": "subslide_end"
    },
    "slide_helper": "subslide_end",
    "slideshow": {
     "slide_type": "fragment"
    }
   },
   "source": [
    "```html\n",
    "   <form action=\"#\">\n",
    "     Input:\n",
    "     <input id=\"real\" type=\"numeric\" name=\"real\"\n",
    "            min=\"0\" max=\"100\" step=\"1\" value=\"6\"> \n",
    "     <br>\n",
    "        Squre of input = <b id=\"boldStuff\">36</b>\n",
    "     <br>\n",
    "     <input value=\"Calculate\"\n",
    "        onclick=\"calcSquare(this.form.real.value)\" \n",
    "        type=\"button\"> \n",
    "   </form>\n",
    "   ```"
   ]
  },
  {
   "cell_type": "markdown",
   "metadata": {
    "internals": {
     "frag_helper": "fragment_end",
     "frag_number": 23,
     "slide_type": "subslide"
    },
    "slideshow": {
     "slide_type": "subslide"
    }
   },
   "source": [
    "Javascript Function\n",
    "---\n",
    "Calculate the square of Input:"
   ]
  },
  {
   "cell_type": "markdown",
   "metadata": {
    "internals": {
     "frag_helper": "fragment_end",
     "frag_number": 25
    },
    "slideshow": {
     "slide_type": "fragment"
    }
   },
   "source": [
    "```javascript\n",
    "    <script type=\"text/javascript\">\n",
    "        function calcSquare(real)\n",
    "        {          \n",
    "          var result=real*real;\n",
    "          document.getElementById('boldStuff').innerHTML = result; \n",
    "        }  \n",
    "    </script>\n",
    "```"
   ]
  },
  {
   "cell_type": "markdown",
   "metadata": {
    "internals": {
     "frag_helper": "fragment_end",
     "frag_number": 26,
     "slide_helper": "subslide_end"
    },
    "slide_helper": "slide_end",
    "slideshow": {
     "slide_type": "fragment"
    }
   },
   "source": [
    "or\n",
    "\n",
    "```javascript\n",
    "    <script type=\"text/javascript\">\n",
    "        function calcSquare()\n",
    "        {\n",
    "          var realval=document.getElementById('real').value;\n",
    "          var result=realval*realval;\n",
    "          document.getElementById('boldStuff').innerHTML = result; \n",
    "        }  \n",
    "    </script>```\n"
   ]
  },
  {
   "cell_type": "markdown",
   "metadata": {},
   "source": [
    "<form action=\"#\">\n",
    "   Input:\n",
    "   <input id=\"real\" type=\"numeric\" name=\"real\" min=\"0\" max=\"100\" step=\"1\" value=\"6\"> \n",
    "   <br>\n",
    "   <p>\n",
    "   Squre of input = <b id=\"boldStuff\">36</b>\n",
    "   <br>\n",
    "   <input value=\"Calculate\" onclick=\"calcSquare(this.form.real.value)\" type=\"button\"> \n",
    "</form>\n",
    "<script>\n",
    "      function calcSquare(input)\n",
    "      {\n",
    "        // deal the values of variables passed from HTML codes\n",
    "        var result=input*input;       \n",
    "        document.getElementById('boldStuff').innerHTML = result; \n",
    "      }  \n",
    "</script>"
   ]
  },
  {
   "cell_type": "markdown",
   "metadata": {
    "internals": {
     "frag_helper": "fragment_end",
     "frag_number": 26,
     "slide_helper": "subslide_end",
     "slide_type": "subslide"
    },
    "slide_helper": "subslide_end",
    "slideshow": {
     "slide_type": "subslide"
    }
   },
   "source": [
    "Note\n",
    "---\n",
    "\n",
    "- above result enhanced by some CSS\n",
    "\n",
    "```XML\n",
    "   <div style=\"font-family: Georgia, serif;background-color:gainsboro; border:solid black; width:300px; padding:20px;\">\n",
    "\n",
    "```"
   ]
  },
  {
   "cell_type": "markdown",
   "metadata": {
    "internals": {
     "frag_helper": "fragment_end",
     "frag_number": 26,
     "slide_helper": "subslide_end",
     "slide_type": "subslide"
    },
    "slide_helper": "subslide_end",
    "slideshow": {
     "slide_type": "subslide"
    }
   },
   "source": [
    "- same effect by standard CSS syntax\n",
    "\n",
    "```CSS\n",
    "   <style type=\"text/css\">\n",
    "      form,input {\n",
    "            font-family:  Georgia, serif;\n",
    "      }\n",
    "   </style>   \n",
    "```"
   ]
  },
  {
   "cell_type": "markdown",
   "metadata": {},
   "source": [
    "<div style=\"font-family: Georgia, serif;background-color:gainsboro; border:solid black; width:300px; padding:20px;\">\n",
    "<form action=\"#\">\n",
    "   Input:\n",
    "   <input id=\"real\" type=\"numeric\" name=\"real\" min=\"0\" max=\"100\" step=\"1\" value=\"6\"> \n",
    "   <br>\n",
    "   <p>\n",
    "   Squre of input = <b id=\"boldStuff\">36</b>\n",
    "   <br>\n",
    "   <input value=\"Calculate\" onclick=\"calcSquare(this.form.real.value)\" type=\"button\"> \n",
    "</form>\n",
    "</div>\n",
    "<script>\n",
    "      function calcSquare(input)\n",
    "      {\n",
    "        // deal the values of variables passed from HTML codes\n",
    "        var result=input*input;\n",
    "        var kernel = IPython.notebook.kernel;\n",
    "        var callbacks = {'output' : handle_output};\n",
    "        document.getElementById('boldStuff').innerHTML = result; \n",
    "      }  \n",
    "</script>"
   ]
  },
  {
   "cell_type": "markdown",
   "metadata": {},
   "source": [
    "Code\n",
    "---\n",
    "```html\n",
    "<html> \n",
    "   <meta name=\"viewport\" content=\"user-scalable=no, initial-scale=1, maximum-scale=1, minimum-scale=1, width=device-width, height=device-height\" />\n",
    "   <style type=\"text/css\">\n",
    "      form {\n",
    "            font-family:  Georgia, serif;\n",
    "            background-color:gainsboro; \n",
    "            border:solid black; \n",
    "            width:300px; \n",
    "            padding:20px;\n",
    "      }\n",
    "      input {\n",
    "            font-family:  Georgia, serif;\n",
    "      } \n",
    "   </style>\n",
    "    \n",
    "   <body>\n",
    "      <form action=\"#\">\n",
    "     Input:\n",
    "     <input id=\"real\" type=\"numeric\" name=\"real\"\n",
    "            min=\"0\" max=\"100\" step=\"1\" value=\"6\"> \n",
    "     <p />\n",
    "        Squre of input = <b id=\"boldStuff\">36</b>\n",
    "     <br>\n",
    "     <input value=\"Calculate\"\n",
    "        onclick=\"calcSquare(this.form.real.value)\" \n",
    "        type=\"button\"> \n",
    "   </form>\n",
    "   <script type=\"text/javascript\">\n",
    "        function calcSquare(real)\n",
    "        {          \n",
    "          var result=real*real;\n",
    "          document.getElementById('boldStuff').innerHTML = result; \n",
    "        }  \n",
    "    </script>  \n",
    "   </body> \n",
    "</html>\n",
    "```"
   ]
  },
  {
   "cell_type": "markdown",
   "metadata": {
    "internals": {
     "frag_helper": "fragment_end",
     "frag_number": 26,
     "slide_helper": "subslide_end",
     "slide_type": "subslide"
    },
    "slide_helper": "slide_end",
    "slideshow": {
     "slide_type": "slide"
    }
   },
   "source": [
    "Computer Practice\n",
    "===\n",
    "\n",
    "- Complete the example file in HTML format.\n"
   ]
  },
  {
   "cell_type": "markdown",
   "metadata": {
    "internals": {
     "frag_helper": "fragment_end",
     "frag_number": 26,
     "slide_helper": "subslide_end",
     "slide_type": "subslide"
    },
    "slide_helper": "slide_end",
    "slideshow": {
     "slide_type": "slide"
    }
   },
   "source": [
    "Next Lecture\n",
    "---\n",
    "How to make an App with the HTML contents:\n",
    " \n",
    "- [Hello World (ipynb)](1/index.ipynb)   \n",
    "- [Hello World (HTML)](1/index.html)     "
   ]
  },
  {
   "cell_type": "markdown",
   "metadata": {
    "internals": {
     "frag_helper": "fragment_end",
     "frag_number": 26,
     "slide_helper": "subslide_end",
     "slide_type": "subslide"
    },
    "slide_helper": "slide_end",
    "slideshow": {
     "slide_type": "slide"
    }
   },
   "source": [
    "\n",
    "<h2>App's Internationalization (i18n)</h2>\n",
    "1. Startup **Android Studio** (or **Eclipse**) and create a project, named \"test\";\n",
    "- Structure of projects, *src,res/[layout,values]*;\n",
    "- Setup \"run configuration\", create a new AVD, and test it;\n",
    "- copy whole the directory, res/values, and rename as <font color=\"brown\">\"res/values-zh-rTW\"</font> for **Traditional Chinese Language**;\n",
    "- modify **string.xml** in the directory ceated by last step into Traditional Chinese;\n",
    "- change language of AVD to test the locale.\n",
    "- use mobile device as the test system. \n",
    " "
   ]
  },
  {
   "cell_type": "code",
   "execution_count": 2,
   "metadata": {
    "collapsed": false,
    "internals": {
     "frag_helper": "fragment_end",
     "frag_number": 26,
     "slide_helper": "subslide_end",
     "slide_type": "subslide"
    },
    "slide_helper": "slide_end",
    "slideshow": {
     "slide_type": "slide"
    }
   },
   "outputs": [
    {
     "name": "stderr",
     "output_type": "stream",
     "text": [
      "[NbConvertApp] Converting notebook Com-2016-1.ipynb to html\n",
      "[NbConvertApp] Writing 285435 bytes to Com-2016-1.html\n"
     ]
    }
   ],
   "source": [
    "%%bash\n",
    "\n",
    "jupyter nbconvert Com-2016-1.ipynb\n"
   ]
  },
  {
   "cell_type": "code",
   "execution_count": null,
   "metadata": {
    "collapsed": true
   },
   "outputs": [],
   "source": []
  }
 ],
 "metadata": {
  "kernelspec": {
   "display_name": "Python 3",
   "language": "python",
   "name": "python3"
  },
  "language_info": {
   "codemirror_mode": {
    "name": "ipython",
    "version": 3
   },
   "file_extension": ".py",
   "mimetype": "text/x-python",
   "name": "python",
   "nbconvert_exporter": "python",
   "pygments_lexer": "ipython3",
   "version": "3.5.2"
  }
 },
 "nbformat": 4,
 "nbformat_minor": 0
}
