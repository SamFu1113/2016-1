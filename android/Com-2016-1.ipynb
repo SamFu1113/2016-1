{
 "cells": [
  {
   "cell_type": "markdown",
   "metadata": {
    "internals": {
     "slide_helper": "subslide_end",
     "slide_type": "subslide"
    },
    "slide_helper": "subslide_end",
    "slideshow": {
     "slide_type": "slide"
    }
   },
   "source": [
    " Digital Innovation\n",
    " ===\n",
    " Intelligent Interface of Human-Machine\n",
    " ---\n",
    " Tutor: cch (diffusion)"
   ]
  },
  {
   "cell_type": "markdown",
   "metadata": {
    "internals": {
     "slide_helper": "subslide_end",
     "slide_type": "subslide"
    },
    "slide_helper": "subslide_end",
    "slideshow": {
     "slide_type": "subslide"
    }
   },
   "source": [
    "## Welcome to the WarField, Skywalkers! "
   ]
  },
  {
   "cell_type": "markdown",
   "metadata": {
    "internals": {
     "slide_helper": "subslide_end",
     "slide_type": "subslide"
    },
    "slide_helper": "subslide_end",
    "slideshow": {
     "slide_type": "subslide"
    }
   },
   "source": [
    "Textbook \n",
    "---\n",
    "\n",
    "1.  Kujira Flying Machine: Android Programming by HTML5 and JavaScript, \t旗標出版公司 F2774. 2012\n",
    "- Chen WA: From HTML5, CSS3 and JavaScript to jQuery, PhoneGap and Android,  旗標出版公司 F2472. 2012\n",
    "-  Rick Rogers, Learning Android Game Programming,, Pearson Edu Inc., 2012\n",
    "- Massimo Nardone and Vladimir Silva, Pro Android Games, Third Edition, 2015\n",
    "-\n",
    "Reference book \t\n",
    "---\n",
    "<ol>\n",
    "<li> http://diffusion.cgu.edu.tw/moodle/course/view.php?id=28\n",
    "<li> Wei-Meng Lee, Beginning Android Tablet Application Development, Wrox, 2011\n",
    "<li> Wei-Meng Lee, Beginning Android Application Development, Wrox\n",
    "<li>  Tim Kadlec, Implementing Responsive Design: Building sites for an anywhere, everywhere web, Riders, 2013\n",
    "</ol>\n",
    "\n"
   ]
  },
  {
   "cell_type": "markdown",
   "metadata": {
    "internals": {
     "slide_helper": "subslide_end",
     "slide_type": "subslide"
    },
    "slide_helper": "subslide_end",
    "slideshow": {
     "slide_type": "subslide"
    }
   },
   "source": [
    "# Websites\n",
    "---\n",
    "<ol>\n",
    "<li> http://diffusion.cgu.edu.tw/android \n",
    "<li> https://github.com/cchuang2009/AndroidProgram\n",
    "<li> App Inventor 2 (AI2): http://www.appinventor.org/book2\n",
    "</ol>\n",
    "\n",
    "\n",
    "2013\n",
    "---\n",
    "- [Local Machine](../android/index.html)\n",
    "- [Students' Final Project](student-2013-2/www/index.html)\n",
    "\n",
    "2014\n",
    "---\n",
    "- [Dice with jsWaffle](jsWaffle/dice.ipynb): Training for animation effect, sound embedding .\n",
    "- [Google Map](googleMap/GoogleMap.ipynb): HTML5 Introduction, BMI jQuery-enhanced, Canvas, Json, Google Map eamples, ...\n",
    "- [Web Media API's](xylophone/2014-2-8.ipynb)\n",
    "- [ App Inventor2: Google killer App](../android/lecture-html/appInventor2/index.html) <br>\n",
    "   -[ App Inventor2: example2](AI2DEMO/1/lightbox/index.html) \n",
    "\n",
    "2015\n",
    "---\n",
    "- App for Wear device\n",
    "- ...\n",
    "\n",
    "2016\n",
    "---\n",
    "- VR"
   ]
  },
  {
   "cell_type": "markdown",
   "metadata": {
    "internals": {
     "slide_type": "subslide"
    },
    "slideshow": {
     "slide_type": "subslide"
    }
   },
   "source": [
    "## Course Description:\n",
    "\n",
    "Android has been widely integrated and be found in hand-held devices, especially in smart phones since it first released at 2007. Java development environment on Linux system makes its capable of potential to run app's on light-weight cell phone. Its success directs the possible and right choice for another future development in cloud computing,  \"end-use\".\n"
   ]
  },
  {
   "cell_type": "markdown",
   "metadata": {
    "internals": {
     "frag_number": 5,
     "slide_helper": "subslide_end"
    },
    "slide_helper": "subslide_end",
    "slideshow": {
     "slide_type": "fragment"
    }
   },
   "source": [
    "\n",
    "     However, Java and Linux teaching and learning will be not focus of lecture but, insteadly, cirricula resources of Java  will be prepared for self-learning and the Android App developed by HTML5-compiant web techniques will be introduced in this course.\n",
    "\n"
   ]
  },
  {
   "cell_type": "markdown",
   "metadata": {
    "internals": {
     "frag_helper": "fragment_end",
     "frag_number": 5,
     "slide_helper": "subslide_end",
     "slide_type": "subslide"
    },
    "slide_helper": "subslide_end",
    "slideshow": {
     "slide_type": "subslide"
    }
   },
   "source": [
    "\n",
    "   Since the HTML-orientated programming is the focus of lectures, we will introduce basic HTML5 syntax, Javascript and CSS application by examples. \n",
    "  \n",
    "Briefly, the topics in this course include:\n",
    "\n",
    "- HTML5 \n",
    "        new features and functions for mobile devices;\n",
    "- CSS3\n",
    "        Style refinement and reponsive web page design;\n",
    "\n",
    "- Javascript\n",
    "        tools for implemnting interactivity, for instance, work with Google map API's.\n",
    "    "
   ]
  },
  {
   "cell_type": "markdown",
   "metadata": {
    "internals": {
     "frag_helper": "fragment_end",
     "frag_number": 5,
     "slide_helper": "subslide_end",
     "slide_type": "subslide"
    },
    "slide_helper": "subslide_end",
    "slideshow": {
     "slide_type": "subslide"
    }
   },
   "source": [
    "The course attendants will be encouraged to implement the group project by the knowledge and techniques learned in this lecture.\n",
    "<p>\n",
    "<font color=\"red\"><big>Make your idea come TRUE!</big></font> "
   ]
  },
  {
   "cell_type": "markdown",
   "metadata": {
    "internals": {
     "frag_helper": "fragment_end",
     "frag_number": 5,
     "slide_helper": "subslide_end",
     "slide_type": "subslide"
    },
    "slide_helper": "subslide_end",
    "slideshow": {
     "slide_type": "subslide"
    }
   },
   "source": [
    "Grading\n",
    "---\n",
    "* Lecture Attendance: 20%\n",
    "* Conceptual Quizzes: 60%\n",
    "* Group projects AND Term Report: 20%\n",
    "\n",
    "Office hour \n",
    "---\n",
    "* Thursday, p.m.12:00~13:00        \n",
    "* Wednesday, p.m.12:00~13:00"
   ]
  },
  {
   "cell_type": "markdown",
   "metadata": {
    "internals": {
     "frag_helper": "fragment_end",
     "frag_number": 5,
     "slide_helper": "subslide_end",
     "slide_type": "subslide"
    },
    "slide_helper": "subslide_end",
    "slideshow": {
     "slide_type": "subslide"
    }
   },
   "source": [
    "Survey\n",
    "---\n",
    "You have to follow the link to complete the survey:\n",
    "\n",
    "https://docs.google.com/forms/d/1TXTlDn9IU5CGN6Qj6FCCC8RYLM4lvLiA7qqBI6OAz6c/viewform?c=0&w=1\n"
   ]
  },
  {
   "cell_type": "markdown",
   "metadata": {
    "internals": {
     "frag_helper": "fragment_end",
     "frag_number": 5,
     "slide_helper": "subslide_end",
     "slide_type": "subslide"
    },
    "slide_helper": "slide_end",
    "slideshow": {
     "slide_type": "subslide"
    }
   },
   "source": [
    "Marilvn vos Savant\n",
    "---\n",
    "    To acquire knowledge, one must study; \n",
    "    but to acquire wisdom, one must observe. \n"
   ]
  },
  {
   "cell_type": "markdown",
   "metadata": {
    "internals": {
     "frag_helper": "fragment_end",
     "frag_number": 5,
     "slide_helper": "subslide_end",
     "slide_type": "subslide"
    },
    "slide_helper": "slide_end",
    "slideshow": {
     "slide_type": "slide"
    }
   },
   "source": [
    "## Lectures\n",
    "\n",
    "<ol>\n",
    "<li> Android Studio (defaulted);<img src=\"imgs/AndroidStudio.png\">\n",
    "<li> Eclipse and ADT Environment;<img src=\"imgs/ADT.png\">\n",
    "<li> HTML, Javascript;<img src=\"imgs/html.png\">\n",
    "<li> Intel XDK<img src=\"imgs/XDK.png\">\n",
    "<li> App Inventor 2;<img src=\"imgs/AI2.jpg\">\n",
    "</ol>"
   ]
  },
  {
   "cell_type": "markdown",
   "metadata": {
    "internals": {
     "frag_helper": "fragment_end",
     "frag_number": 5,
     "slide_helper": "subslide_end",
     "slide_type": "subslide"
    },
    "slide_helper": "subslide_end",
    "slideshow": {
     "slide_type": "slide"
    }
   },
   "source": [
    "##  First Lecture  "
   ]
  },
  {
   "cell_type": "markdown",
   "metadata": {},
   "source": [
    "Before we go\n",
    "---\n",
    "Setup the required environment\n",
    "\n",
    "- Java SE Development Kit 8: http://www.oracle.com/technetwork/java/javase/downloads/, Android Studio require JDK-1.8;\n",
    "- Android Studio: http://developer.android.com/intl/zh-tw/sdk/index.html\n",
    "- Android SDK/NDK\n",
    "  - SDK: http://developer.android.com/intl/zh-tw/sdk/index.html#Other\n",
    "  - NDK: http://developer.android.com/intl/zh-tw/tools/sdk/ndk/index.html\n",
    "- Unity: https://unity3d.com   \n",
    "- Intel XDK:   https://software.intel.com/en-us/intel-xdk\n",
    "- Google Cardboard:\n",
    "  - WebSite: https://www.google.com/get/cardboard/\n",
    "  - Cardboard-java: https://github.com/googlesamples/cardboard-java\n",
    "  - Cradboard-unity: https://github.com/googlesamples/cardboard-unityCardboad\n",
    "        \n",
    "Further ...        "
   ]
  },
  {
   "cell_type": "markdown",
   "metadata": {},
   "source": [
    "Installation\n",
    "===\n",
    "- extract **Java SE Development Kit (JDK 1.8)**\n",
    "- extract **Android SDK/NDK** into certain directory, says <font color=\"blue\">**$\\$$AndroidSDK**</font>,\n",
    "  - extracted NDK put in the directory,  <font color=\"blue\">**$\\$$AndroidSDK**/sdk/ndk-bundle</font>;\n",
    "- Install <font color=\"brown\">**Android Studio**</font>, (version-2 suggested)\n",
    "- Install <font color=\"brown\">**Unity**</font>.\n",
    "\n",
    "Soon you should have a well-installed working environment for Android or others mobil systems. "
   ]
  },
  {
   "cell_type": "markdown",
   "metadata": {},
   "source": [
    "First App\n",
    "---\n",
    "- Launch Android Studio \n",
    "<img src=\"imgs/1/AndroidStudio-2.png\">"
   ]
  },
  {
   "cell_type": "markdown",
   "metadata": {},
   "source": [
    "- Create New Project \n",
    "<img src=\"imgs/1/Newproject.png\">"
   ]
  },
  {
   "cell_type": "markdown",
   "metadata": {},
   "source": [
    "- Type of App, general mobil app\n",
    "<img src=\"imgs/1/AppType.png\">"
   ]
  },
  {
   "cell_type": "markdown",
   "metadata": {},
   "source": [
    "- Type of Activities, blank activity\n",
    "<img src=\"imgs/1/AppKind.png\">"
   ]
  },
  {
   "cell_type": "markdown",
   "metadata": {},
   "source": [
    "- Define Main function\n",
    "<img src=\"imgs/1/AppMain.png\">"
   ]
  },
  {
   "cell_type": "markdown",
   "metadata": {},
   "source": [
    "- BluePrint of Project, AndroidManifest.xml; if any error (displayed in <font color=\"red\">red</font> dash shown in the right border of table) , reference the last snapshot in this section: \n",
    "<img src=\"imgs/1/ProjectManifest.png\">"
   ]
  },
  {
   "cell_type": "markdown",
   "metadata": {},
   "source": [
    "- Layout of App, graphical and text modes\n",
    "<img src=\"imgs/1/ProjectLayer1.png\">\n",
    "<img src=\"imgs/1/ProjectLayer2.png\">"
   ]
  },
  {
   "cell_type": "markdown",
   "metadata": {},
   "source": [
    "- Android Studio MainActivity.java\n",
    "<img src=\"imgs/1/MainActivity.png\">"
   ]
  },
  {
   "cell_type": "markdown",
   "metadata": {},
   "source": [
    "- App Test via Android Virtual Machine (AVM)\n",
    "<img src=\"imgs/1/AVM.png\">"
   ]
  },
  {
   "cell_type": "markdown",
   "metadata": {},
   "source": [
    "Note\n",
    "---\n",
    "\n",
    "Should Android Studio run *off-line* possibly? Theoretically, yes. However, running online at the project first created is better since it could download the absent packages automatically if has. The error due to such kind of failure to create project can be removed by deleting unnecessary <font color=\"brown\">dependencies</font> setting in <font color=\"red\">grandle.build(app)</font>:\n",
    "```XML\n",
    "    ...\n",
    "    androidTestCompile('com.android.support.test.espresso:espresso-core:2.2.2', {\n",
    "        exclude group: 'com.android.support', module: 'support-annotations'\n",
    "    })\n",
    "    ...\n",
    "```    \n",
    "<img src=\"imgs/1/grandle.png\">"
   ]
  },
  {
   "cell_type": "markdown",
   "metadata": {
    "collapsed": true
   },
   "source": [
    "Image Staff\n",
    "---\n",
    "Put the image in the the layout, add <font color=\"brown\">ImageView</font> in <font color=\"green\">activity_main.xml</font>:\n",
    "```XML\n",
    "    <ImageView\n",
    "        android:layout_width=\"wrap_content\"\n",
    "        android:layout_height=\"wrap_content\"\n",
    "        app:srcCompat=\"@mipmap/flower\"\n",
    "        android:layout_marginStart=\"24dp\"\n",
    "        android:id=\"@+id/flower\" />\n",
    "\n",
    "    <TextView\n",
    "        android:layout_width=\"wrap_content\"\n",
    "        android:layout_height=\"wrap_content\"\n",
    "        android:layout_toRightOf=\"@+id/flower\"\n",
    "        android:text=\"How wonderful the flower of cactus is alive!\"\n",
    "        android:layout_marginLeft=\"5dp\"\n",
    "        android:id=\"@+id/textView\" />\n",
    "```\n",
    "the introduced text was put next to the right site of Image."
   ]
  },
  {
   "cell_type": "markdown",
   "metadata": {},
   "source": [
    "Self Train\n",
    "---\n",
    "Make your own message (card)."
   ]
  },
  {
   "cell_type": "code",
   "execution_count": null,
   "metadata": {
    "collapsed": true
   },
   "outputs": [],
   "source": []
  },
  {
   "cell_type": "markdown",
   "metadata": {
    "internals": {
     "frag_helper": "fragment_end",
     "frag_number": 5,
     "slide_helper": "subslide_end",
     "slide_type": "subslide"
    },
    "slide_helper": "subslide_end",
    "slideshow": {
     "slide_type": "subslide"
    }
   },
   "source": [
    "- How do you work with data (the simplest way)\n",
    "  - Ms Office Suit\n",
    "  - $\\TeX$\n",
    "  - ...\n",
    "     \n",
    "    Do you satisfy?\n",
    "  \n",
    "  "
   ]
  },
  {
   "cell_type": "markdown",
   "metadata": {
    "internals": {
     "frag_helper": "fragment_end",
     "frag_number": 5,
     "slide_helper": "subslide_end",
     "slide_type": "subslide"
    },
    "slide_helper": "slide_end",
    "slideshow": {
     "slide_type": "subslide"
    }
   },
   "source": [
    "      Nothing is no more popular than HTML!"
   ]
  },
  {
   "cell_type": "markdown",
   "metadata": {
    "internals": {
     "frag_helper": "fragment_end",
     "frag_number": 5,
     "slide_helper": "subslide_end",
     "slide_type": "subslide"
    },
    "slide_helper": "subslide_end",
    "slideshow": {
     "slide_type": "slide"
    }
   },
   "source": [
    "HTML\n",
    "===\n",
    "A popular format of data suit for any device and anybody!\n",
    "\n",
    "Template\n",
    "---     \n",
    "```XML\n",
    "<html> \n",
    "   <meta name=\"viewport\" content=\"user-scalable=no, initial-scale=1, maximum-scale=1, minimum-scale=1, width=device-width, height=device-height, target-densitydpi=device-dpi\" />\n",
    "   <head>Page Title</head>\n",
    "   <script type=\"text/javascript\">...</script>\n",
    "   <style type=\"text/css\">...</style>\n",
    "   <body>\n",
    "      I'm here.\n",
    "   </body> \n",
    "</html>\n",
    "```     "
   ]
  },
  {
   "cell_type": "markdown",
   "metadata": {
    "internals": {
     "frag_helper": "fragment_end",
     "frag_number": 5,
     "slide_helper": "subslide_end",
     "slide_type": "subslide"
    },
    "slide_helper": "subslide_end",
    "slideshow": {
     "slide_type": "subslide"
    }
   },
   "source": [
    "- (verbatim mode) I'm here, \n",
    "- <big>I'm here</big>, ( by &lt;big&gt;... &lt;/big&gt; tag)\n",
    "- <i>I'm here</i>, ( by &lt;i&gt;... &lt;i&gt; tag)\n",
    "- <font color=\"red\">I'm here</font>, ( by &lt;font color=\"red\"&gt;... &lt;/color&gt; tag)"
   ]
  },
  {
   "cell_type": "code",
   "execution_count": 8,
   "metadata": {
    "collapsed": false
   },
   "outputs": [
    {
     "data": {
      "text/html": [
       "<iframe src=1/here.html width=50% height=20%></iframe>"
      ],
      "text/plain": [
       "<IPython.core.display.HTML object>"
      ]
     },
     "execution_count": 8,
     "metadata": {},
     "output_type": "execute_result"
    }
   ],
   "source": [
    "from IPython.display import HTML\n",
    "HTML(\"<iframe src=1/here.html width=50% height=20%></iframe>\")"
   ]
  },
  {
   "cell_type": "markdown",
   "metadata": {},
   "source": [
    "Code \n",
    "---\n",
    "```html\n",
    "<html> \n",
    "   <meta name=\"viewport\" content=\"user-scalable=no, initial-scale=1, \n",
    "     maximum-scale=1, minimum-scale=1, \n",
    "     width=device-width, height=device-height\" />\n",
    "   <body>\n",
    "      I'm here.<br>\n",
    "       <font color=\"red\"> I'm here.</font><br>\n",
    "       <code style=\"background-color:red;color:white;\"> I'm here.</code><br>\n",
    "   </body> \n",
    "</html>\n",
    "```"
   ]
  },
  {
   "cell_type": "markdown",
   "metadata": {
    "internals": {
     "frag_helper": "fragment_end",
     "frag_number": 5,
     "slide_helper": "subslide_end",
     "slide_type": "subslide"
    },
    "slide_helper": "subslide_end",
    "slideshow": {
     "slide_type": "subslide"
    }
   },
   "source": [
    "Note\n",
    "---\n",
    " The *meta* tag with \"viewport\" used above is initially introduced for recent mobile devices device but is also popular in general HTML codes. "
   ]
  },
  {
   "cell_type": "markdown",
   "metadata": {
    "internals": {
     "frag_helper": "fragment_end",
     "frag_number": 5,
     "slide_helper": "subslide_end",
     "slide_type": "subslide"
    },
    "slide_helper": "subslide_end",
    "slideshow": {
     "slide_type": "subslide"
    }
   },
   "source": [
    "HTML Programming Environment\n",
    "---\n",
    "\n",
    "- HTML, CSS and Javascript\n",
    "\n",
    "- Development Tool: Seamonkey,Gimp"
   ]
  },
  {
   "cell_type": "markdown",
   "metadata": {
    "internals": {
     "frag_helper": "fragment_end",
     "frag_number": 5,
     "slide_helper": "subslide_end",
     "slide_type": "subslide"
    },
    "slide_helper": "slide_end",
    "slideshow": {
     "slide_type": "subslide"
    }
   },
   "source": [
    "\n",
    "        "
   ]
  },
  {
   "cell_type": "markdown",
   "metadata": {
    "internals": {
     "frag_helper": "fragment_end",
     "frag_number": 5,
     "slide_type": "subslide"
    },
    "slideshow": {
     "slide_type": "slide"
    }
   },
   "source": [
    "Second Lecture (Interactivity)\n",
    "===\n",
    "\n",
    "Input a number, $X$, and calculate its square power, $X^2$:\n"
   ]
  },
  {
   "cell_type": "markdown",
   "metadata": {
    "internals": {
     "frag_helper": "fragment_end",
     "frag_number": 21,
     "slide_helper": "subslide_end"
    },
    "slide_helper": "subslide_end",
    "slideshow": {
     "slide_type": "fragment"
    }
   },
   "source": [
    "<script type=\"text/javascript\">\n",
    "      function calcSquare(real)\n",
    "      {\n",
    "       // deal the values of variables passed from HTML codes\n",
    "        var result=real*real;       \n",
    "        document.getElementById('boldStuff').innerHTML = result; \n",
    "      }  \n",
    "</script>\n",
    "\n",
    "<form action=\"#\">\n",
    "   <div style=\"font-family: Georgia, serif;background-color:gainsboro; border:solid black; width:500px; padding:20px;\">\n",
    "   Input:\n",
    "   <input id=\"real\" type=\"numeric\" name=\"real\" min=\"0\" max=\"100\" step=\"1\" value=\"6\"> \n",
    "   <br>\n",
    "   <p>\n",
    "   Squre of input = <b id=\"boldStuff\">36</b>\n",
    "   <br>\n",
    "   <input value=\"Calculate\" onclick=\"calcSquare(this.form.real.value)\" type=\"button\"> \n",
    "   </div>\n",
    "</form>"
   ]
  },
  {
   "cell_type": "markdown",
   "metadata": {
    "internals": {
     "frag_helper": "fragment_end",
     "frag_number": 21,
     "slide_type": "subslide"
    },
    "slideshow": {
     "slide_type": "subslide"
    }
   },
   "source": [
    "Main HTML Part\n",
    "---\n",
    "\n",
    "define a form, waiting for data input to work:"
   ]
  },
  {
   "cell_type": "markdown",
   "metadata": {
    "internals": {
     "frag_helper": "fragment_end",
     "frag_number": 23,
     "slide_helper": "subslide_end"
    },
    "slide_helper": "subslide_end",
    "slideshow": {
     "slide_type": "fragment"
    }
   },
   "source": [
    "```html\n",
    "   <form action=\"#\">\n",
    "     Input:\n",
    "     <input id=\"real\" type=\"numeric\" name=\"real\"\n",
    "            min=\"0\" max=\"100\" step=\"1\" value=\"6\"> \n",
    "     <br>\n",
    "        Squre of input = <b id=\"boldStuff\">36</b>\n",
    "     <br>\n",
    "     <input value=\"Calculate\"\n",
    "        onclick=\"calcSquare(this.form.real.value)\" \n",
    "        type=\"button\"> \n",
    "   </form>\n",
    "   ```"
   ]
  },
  {
   "cell_type": "markdown",
   "metadata": {
    "internals": {
     "frag_helper": "fragment_end",
     "frag_number": 23,
     "slide_type": "subslide"
    },
    "slideshow": {
     "slide_type": "subslide"
    }
   },
   "source": [
    "Javascript Function\n",
    "---\n",
    "Calculate the square of Input:"
   ]
  },
  {
   "cell_type": "markdown",
   "metadata": {
    "internals": {
     "frag_helper": "fragment_end",
     "frag_number": 25
    },
    "slideshow": {
     "slide_type": "fragment"
    }
   },
   "source": [
    "```javascript\n",
    "    <script type=\"text/javascript\">\n",
    "        function calcSquare(real)\n",
    "        {          \n",
    "          var result=real*real;\n",
    "          document.getElementById('boldStuff').innerHTML = result; \n",
    "        }  \n",
    "    </script>\n",
    "```"
   ]
  },
  {
   "cell_type": "markdown",
   "metadata": {
    "internals": {
     "frag_helper": "fragment_end",
     "frag_number": 26,
     "slide_helper": "subslide_end"
    },
    "slide_helper": "slide_end",
    "slideshow": {
     "slide_type": "fragment"
    }
   },
   "source": [
    "or\n",
    "\n",
    "```javascript\n",
    "    <script type=\"text/javascript\">\n",
    "        function calcSquare()\n",
    "        {\n",
    "          var realval=document.getElementById('real').value;\n",
    "          var result=realval*realval;\n",
    "          document.getElementById('boldStuff').innerHTML = result; \n",
    "        }  \n",
    "    </script>```\n"
   ]
  },
  {
   "cell_type": "code",
   "execution_count": 3,
   "metadata": {
    "collapsed": false,
    "internals": {
     "frag_helper": "fragment_end",
     "frag_number": 26,
     "slide_helper": "subslide_end",
     "slide_type": "subslide"
    },
    "slide_helper": "subslide_end",
    "slideshow": {
     "slide_type": "slide"
    }
   },
   "outputs": [],
   "source": [
    "from IPython.display import HTML"
   ]
  },
  {
   "cell_type": "code",
   "execution_count": 1,
   "metadata": {
    "collapsed": false,
    "internals": {
     "frag_helper": "fragment_end",
     "frag_number": 26,
     "slide_helper": "subslide_end",
     "slide_type": "subslide"
    },
    "slide_helper": "slide_end",
    "slideshow": {
     "slide_type": "subslide"
    }
   },
   "outputs": [],
   "source": [
    "HTMLcode=\"\"\"\n",
    "<form action=\"#\">\n",
    "   Input:\n",
    "   <input id=\"real\" type=\"numeric\" name=\"real\" min=\"0\" max=\"100\" step=\"1\" value=\"6\"> \n",
    "   <br>\n",
    "   <p>\n",
    "   Squre of input = <b id=\"boldStuff\">36</b>\n",
    "   <br>\n",
    "   <input value=\"Calculate\" onclick=\"calcSquare(this.form.real.value)\" type=\"button\"> \n",
    "</form>\n",
    "\"\"\"\n",
    "JScode=\"\"\"\n",
    "<script>\n",
    "      function calcSquare(input)\n",
    "      {\n",
    "        // deal the values of variables passed from HTML codes\n",
    "        var result=input*input;       \n",
    "        document.getElementById('boldStuff').innerHTML = result; \n",
    "      }  \n",
    "</script>\n",
    "\"\"\""
   ]
  },
  {
   "cell_type": "code",
   "execution_count": 4,
   "metadata": {
    "collapsed": false,
    "internals": {
     "frag_helper": "fragment_end",
     "frag_number": 26,
     "slide_helper": "subslide_end",
     "slide_type": "subslide"
    },
    "slide_helper": "subslide_end",
    "slideshow": {
     "slide_type": "slide"
    }
   },
   "outputs": [
    {
     "data": {
      "text/html": [
       "\n",
       "<script>\n",
       "      function calcSquare(input)\n",
       "      {\n",
       "        // deal the values of variables passed from HTML codes\n",
       "        var result=input*input;       \n",
       "        document.getElementById('boldStuff').innerHTML = result; \n",
       "      }  \n",
       "</script>\n",
       "\n",
       "<form action=\"#\">\n",
       "   Input:\n",
       "   <input id=\"real\" type=\"numeric\" name=\"real\" min=\"0\" max=\"100\" step=\"1\" value=\"6\"> \n",
       "   <br>\n",
       "   <p>\n",
       "   Squre of input = <b id=\"boldStuff\">36</b>\n",
       "   <br>\n",
       "   <input value=\"Calculate\" onclick=\"calcSquare(this.form.real.value)\" type=\"button\"> \n",
       "</form>\n"
      ],
      "text/plain": [
       "<IPython.core.display.HTML object>"
      ]
     },
     "execution_count": 4,
     "metadata": {},
     "output_type": "execute_result"
    }
   ],
   "source": [
    "HTML(JScode+HTMLcode)"
   ]
  },
  {
   "cell_type": "markdown",
   "metadata": {
    "internals": {
     "frag_helper": "fragment_end",
     "frag_number": 26,
     "slide_helper": "subslide_end",
     "slide_type": "subslide"
    },
    "slide_helper": "subslide_end",
    "slideshow": {
     "slide_type": "subslide"
    }
   },
   "source": [
    "Note\n",
    "---\n",
    "\n",
    "- above result enhanced by some CSS\n",
    "\n",
    "```XML\n",
    "   <div style=\"font-family: Georgia, serif;background-color:gainsboro; border:solid black; width:300px; padding:20px;\">\n",
    "\n",
    "```"
   ]
  },
  {
   "cell_type": "markdown",
   "metadata": {
    "internals": {
     "frag_helper": "fragment_end",
     "frag_number": 26,
     "slide_helper": "subslide_end",
     "slide_type": "subslide"
    },
    "slide_helper": "subslide_end",
    "slideshow": {
     "slide_type": "subslide"
    }
   },
   "source": [
    "- same effect by standard CSS syntax\n",
    "\n",
    "```CSS\n",
    "   <style type=\"text/css\">\n",
    "      form,input {\n",
    "            font-family:  Georgia, serif;\n",
    "      }\n",
    "   </style>   \n",
    "```"
   ]
  },
  {
   "cell_type": "code",
   "execution_count": 7,
   "metadata": {
    "collapsed": false,
    "internals": {
     "frag_helper": "fragment_end",
     "frag_number": 26,
     "slide_helper": "subslide_end",
     "slide_type": "subslide"
    },
    "slide_helper": "slide_end",
    "slideshow": {
     "slide_type": "subslide"
    }
   },
   "outputs": [],
   "source": [
    "HTMLcode=\"\"\"\n",
    "<div style=\"font-family: Georgia, serif;background-color:gainsboro; border:solid black; width:300px; padding:20px;\">\n",
    "<form action=\"#\">\n",
    "   Input:\n",
    "   <input id=\"real\" type=\"numeric\" name=\"real\" min=\"0\" max=\"100\" step=\"1\" value=\"6\"> \n",
    "   <br>\n",
    "   <p>\n",
    "   Squre of input = <b id=\"boldStuff\">36</b>\n",
    "   <br>\n",
    "   <input value=\"Calculate\" onclick=\"calcSquare(this.form.real.value)\" type=\"button\"> \n",
    "</form></div>\n",
    "\"\"\"\n",
    "JScode=\"\"\"\n",
    "<script>\n",
    "      function calcSquare(input)\n",
    "      {\n",
    "        // deal the values of variables passed from HTML codes\n",
    "        var result=input*input;\n",
    "        var kernel = IPython.notebook.kernel;\n",
    "        var callbacks = {'output' : handle_output};\n",
    "        document.getElementById('boldStuff').innerHTML = result; \n",
    "      }  \n",
    "</script>\n",
    "\"\"\""
   ]
  },
  {
   "cell_type": "code",
   "execution_count": 8,
   "metadata": {
    "collapsed": false,
    "internals": {
     "frag_helper": "fragment_end",
     "frag_number": 26,
     "slide_helper": "subslide_end",
     "slide_type": "subslide"
    },
    "slide_helper": "subslide_end",
    "slideshow": {
     "slide_type": "slide"
    }
   },
   "outputs": [
    {
     "data": {
      "text/html": [
       "\n",
       "<script>\n",
       "      function calcSquare(input)\n",
       "      {\n",
       "        // deal the values of variables passed from HTML codes\n",
       "        var result=input*input;\n",
       "        var kernel = IPython.notebook.kernel;\n",
       "        var callbacks = {'output' : handle_output};\n",
       "        document.getElementById('boldStuff').innerHTML = result; \n",
       "      }  \n",
       "</script>\n",
       "\n",
       "<div style=\"font-family: Georgia, serif;background-color:gainsboro; border:solid black; width:300px; padding:20px;\">\n",
       "<form action=\"#\">\n",
       "   Input:\n",
       "   <input id=\"real\" type=\"numeric\" name=\"real\" min=\"0\" max=\"100\" step=\"1\" value=\"6\"> \n",
       "   <br>\n",
       "   <p>\n",
       "   Squre of input = <b id=\"boldStuff\">36</b>\n",
       "   <br>\n",
       "   <input value=\"Calculate\" onclick=\"calcSquare(this.form.real.value)\" type=\"button\"> \n",
       "</form></div>\n"
      ],
      "text/plain": [
       "<IPython.core.display.HTML object>"
      ]
     },
     "execution_count": 8,
     "metadata": {},
     "output_type": "execute_result"
    }
   ],
   "source": [
    "HTML(JScode+HTMLcode)"
   ]
  },
  {
   "cell_type": "markdown",
   "metadata": {},
   "source": [
    "Code\n",
    "---\n",
    "```html\n",
    "<html> \n",
    "   <meta name=\"viewport\" content=\"user-scalable=no, initial-scale=1, maximum-scale=1, minimum-scale=1, width=device-width, height=device-height\" />\n",
    "   <style type=\"text/css\">\n",
    "      form {\n",
    "            font-family:  Georgia, serif;\n",
    "            background-color:gainsboro; \n",
    "            border:solid black; \n",
    "            width:300px; \n",
    "            padding:20px;\n",
    "      }\n",
    "      input {\n",
    "            font-family:  Georgia, serif;\n",
    "      } \n",
    "   </style>\n",
    "    \n",
    "   <body>\n",
    "      <form action=\"#\">\n",
    "     Input:\n",
    "     <input id=\"real\" type=\"numeric\" name=\"real\"\n",
    "            min=\"0\" max=\"100\" step=\"1\" value=\"6\"> \n",
    "     <p />\n",
    "        Squre of input = <b id=\"boldStuff\">36</b>\n",
    "     <br>\n",
    "     <input value=\"Calculate\"\n",
    "        onclick=\"calcSquare(this.form.real.value)\" \n",
    "        type=\"button\"> \n",
    "   </form>\n",
    "   <script type=\"text/javascript\">\n",
    "        function calcSquare(real)\n",
    "        {          \n",
    "          var result=real*real;\n",
    "          document.getElementById('boldStuff').innerHTML = result; \n",
    "        }  \n",
    "    </script>  \n",
    "   </body> \n",
    "</html>\n",
    "```"
   ]
  },
  {
   "cell_type": "markdown",
   "metadata": {
    "internals": {
     "frag_helper": "fragment_end",
     "frag_number": 26,
     "slide_helper": "subslide_end",
     "slide_type": "subslide"
    },
    "slide_helper": "slide_end",
    "slideshow": {
     "slide_type": "slide"
    }
   },
   "source": [
    "Computer Practice\n",
    "===\n",
    "\n",
    "- Complete the example file in HTML format.\n"
   ]
  },
  {
   "cell_type": "markdown",
   "metadata": {
    "internals": {
     "frag_helper": "fragment_end",
     "frag_number": 26,
     "slide_helper": "subslide_end",
     "slide_type": "subslide"
    },
    "slide_helper": "slide_end",
    "slideshow": {
     "slide_type": "slide"
    }
   },
   "source": [
    "Next Lecture\n",
    "---\n",
    "How to make an App with the HTML contents:\n",
    " \n",
    "- [Hello World (ipynb)](1/index.ipynb)   \n",
    "- [Hello World (HTML)](1/index.html)     "
   ]
  },
  {
   "cell_type": "markdown",
   "metadata": {
    "internals": {
     "frag_helper": "fragment_end",
     "frag_number": 26,
     "slide_helper": "subslide_end",
     "slide_type": "subslide"
    },
    "slide_helper": "slide_end",
    "slideshow": {
     "slide_type": "slide"
    }
   },
   "source": [
    "\n",
    "<h2>App's Internationalization (i18n)</h2>\n",
    "1. Startup **Android Studio** (or **Eclipse**) and create a project, named \"test\";\n",
    "- Structure of projects, *src,res/[layout,values]*;\n",
    "- Setup \"run configuration\", create a new AVD, and test it;\n",
    "- copy whole the directory, res/values, and rename as <font color=\"brown\">\"res/values-zh-rTW\"</font> for **Traditional Chinese Language**;\n",
    "- modify **string.xml** in the directory ceated by last step into Traditional Chinese;\n",
    "- change language of AVD to test the locale.\n",
    "- use mobile device as the test system. \n",
    " "
   ]
  },
  {
   "cell_type": "code",
   "execution_count": 2,
   "metadata": {
    "collapsed": false,
    "internals": {
     "frag_helper": "fragment_end",
     "frag_number": 26,
     "slide_helper": "subslide_end",
     "slide_type": "subslide"
    },
    "slide_helper": "slide_end",
    "slideshow": {
     "slide_type": "slide"
    }
   },
   "outputs": [
    {
     "name": "stderr",
     "output_type": "stream",
     "text": [
      "[NbConvertApp] Converting notebook Com-2016-1.ipynb to html\n",
      "[NbConvertApp] Writing 285435 bytes to Com-2016-1.html\n"
     ]
    }
   ],
   "source": [
    "%%bash\n",
    "\n",
    "jupyter nbconvert Com-2016-1.ipynb\n"
   ]
  },
  {
   "cell_type": "code",
   "execution_count": null,
   "metadata": {
    "collapsed": true
   },
   "outputs": [],
   "source": []
  }
 ],
 "metadata": {
  "kernelspec": {
   "display_name": "Python 3",
   "language": "python",
   "name": "python3"
  },
  "language_info": {
   "codemirror_mode": {
    "name": "ipython",
    "version": 3
   },
   "file_extension": ".py",
   "mimetype": "text/x-python",
   "name": "python",
   "nbconvert_exporter": "python",
   "pygments_lexer": "ipython3",
   "version": "3.5.2"
  }
 },
 "nbformat": 4,
 "nbformat_minor": 0
}
