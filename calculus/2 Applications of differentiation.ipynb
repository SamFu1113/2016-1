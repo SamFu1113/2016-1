{
 "cells": [
  {
   "cell_type": "markdown",
   "metadata": {},
   "source": [
    " Applications of Differentiation\n",
    " ==="
   ]
  },
  {
   "cell_type": "markdown",
   "metadata": {},
   "source": [
    "Increasing and Decreasing\n",
    "---\n",
    "\n",
    "Definition\n",
    "---\n",
    "Suppose that $f (x)$ is continuous on $[a, b]$.\n",
    "1. $f (x)$ is called increasing if $f (x_1) < f (x_2)$ for any $x_1,\n",
    "    x_2 \\in [a, b]$.\n",
    "- $f (x)$ is called decreasing if $f (x_1) > f (x_2)$ for any $x_1,\n",
    "    x_2 \\in [a, b]$.\n",
    "\n",
    "\n",
    "\n",
    "From now on, an increasing function, $f (x)$, is also denoted by\n",
    "$\\color{brown}{f \\nearrow}$ and decreasing denoted by $\\color{brown}{f\n",
    "\\searrow}$.\n"
   ]
  },
  {
   "cell_type": "markdown",
   "metadata": {},
   "source": [
    "Theorem\n",
    "---\n",
    "  If $f' (x) \\geqslant 0$ for all $x \\in (a, b)$ with $f' (x) = 0$ only at\n",
    "  isolated points, then $f (x)$ is increasing on $[a, b]$. And if $f' (x)\n",
    "  \\leqslant 0$ for all $x \\in (a, b)$, then $f (x)$ is decreasing."
   ]
  },
  {
   "cell_type": "markdown",
   "metadata": {},
   "source": [
    "The points at which $f' (x) = 0$ is very important in mathematical analysis:\n",
    "\n",
    "Definition\n",
    "---\n",
    "  The points of x at which $f' (x) = 0$ or nonexistencs are called critical\n",
    "  points of $f (x)$.\n",
    "\n"
   ]
  },
  {
   "cell_type": "markdown",
   "metadata": {},
   "source": [
    "Example\n",
    "---\n",
    "  Determine the intervals at which the following functions are increasing or\n",
    "  decreasing:\n",
    "\n",
    "a). $x (20 - x)$<br>\n",
    "b). $2 x^3 + 3 x^2 - 12 x + 1$<br>\n",
    "c). $x^{- 2 / 3}$\n",
    "\n",
    "Sol:\n",
    "---  \n",
    "**a)** Since $f' (x) = 20 - 2 x$, there is only one critical point at $x =\n",
    "    10$. Therefore $f' (x) > 0$ for $x < 10$,\n",
    "    \n",
    "<img src=\"imgs/2/ch4-1.png\" />\n",
    "this implies $f (x)$ is increasing and $f (x)$ is decreasing if $x > 10$.\n",
    "    \n",
    "**b).** $f' (x) = 6 x^2 + 6 x - 12 = 6 (x + 2) (x - 1) = 0$ implies $x = -\n",
    "    2$ or $1$. And\n",
    "    \n",
    "<img src=\"imgs/2/ch4-2.png\" />\n",
    "    \n",
    "This implies $f (x)$ is increasing for $x < - 2$ or $x > 1$ and $f (x)$ is decreasing if $- 2 < x < 1$.\n",
    "    \n",
    "**c).** Since $f' (x) = - 2 x^{- 5 / 3} / 3 > 0$ for $x < 0$, $f (x)$ is\n",
    "    increasing for $x < 0$ and decreasing for $x > 0$.\n",
    "<img src=\"imgs/2/ch4-3.png\" />\n"
   ]
  },
  {
   "cell_type": "markdown",
   "metadata": {},
   "source": [
    "Relative Minima and Maxima\n",
    "---\n",
    "Definition\n",
    "---\n",
    "  Suppose that $f (x)$ is continuous on an interval, $I$. \n",
    "  - $f (c)$ is called a\n",
    "  relative minimum if there exists a neighborhood $N \\subseteq I$ at $x=c$ and\n",
    "  $f (c) \\leqslant f (x)$ for all $x \\in N$. \n",
    "  - $f (d)$ is called a relative\n",
    "  maximum if there exists a neighborhood $N \\subseteq I$ of $x=d$ and $f (d)\n",
    "  \\geqslant f (x)$ for all $x \\in N$. \n",
    "  \n",
    "If $f (c) \\leqslant f (x)$ for all $x\n",
    "  \\in I$, then $f (c)$ is called the **absolute minimum**. If $f (d) \\geqslant f\n",
    "  (x)$ for all $x \\in I$, then $f (d)$ is called the **absolute maximum**.\n",
    "\n",
    "Theorem\n",
    "---\n",
    "(**Existence of Extrema**) If $f (x)$ is continuous on a close interval, then it\n",
    "  attains both its absolute maximum and its absolute minimum.\n",
    "\n"
   ]
  },
  {
   "cell_type": "markdown",
   "metadata": {},
   "source": [
    "From the definition of extrema, absolute extrema are also the relative\n",
    "extrema, but not necessary right conversely. The above theorem assures the the\n",
    "existence of absolute extrema but finding the relative is more complex. \n",
    "\n",
    "Theorem\n",
    "---\n",
    "Suppose that $f (x)$ is continuous on an interval, $I$, and there is a\n",
    "  relative extremum at $x = c$. Then\n",
    "- $f' (c) = 0$, or\n",
    "- $f' (c)$ fails to exist.\n",
    "\n",
    "Such points are called **critical points** of $f (x)$ on the interval, $I$.\n",
    "\n",
    "\n",
    "From tis theorem, only to check the values at critical points for relative\n",
    "extrema since it is only possible for at which $f (x)$ occurs relative minimum\n",
    "or maximum."
   ]
  },
  {
   "cell_type": "markdown",
   "metadata": {},
   "source": [
    "Example\n",
    "---\n",
    "  Find the critical points of the following functions and determine whether\n",
    "  the extrema occur at these points:\n",
    "\n",
    "1. $f (x) = x^2 - 2 x$. Since\n",
    "\\begin{eqnarray*}\n",
    " & f' (x) = 0 & \\\\\n",
    " \\Longrightarrow & 2 x - 2 = 0 & \\\\\n",
    " \\Longrightarrow & x = 1 & \n",
    "\\end{eqnarray*}\n",
    "there is only one critical point, $x = 1$. And from the table\n",
    "<img src=\"imgs/2/ch4-5.png\" />\n",
    "It is obvious that $f (x)$ attains its (absolute) minimum at the critical\n",
    "    point, $x = 1$.\n",
    "- $g (x) = x + \\frac{1}{x}$, for $x \\in (0, \\infty)$. Since\n",
    "\\begin{eqnarray*}\n",
    " & g' (x) = 0 & \\\\\n",
    " \\Longrightarrow & 1 - \\frac{1}{x^2} = 0 & \\\\\n",
    " \\Longrightarrow & x = 1 & \n",
    "\\end{eqnarray*}\n",
    "there is only one critical point, $x = 1$  and it is obvious that $g (x)$ attains its (absolute) minimum at the critical point, $x = 1$.\n",
    "- $h (x) = x^{1 / 3}$. Since\n",
    "\\begin{eqnarray*}\n",
    " & h' (x) = 0 & \\text{or fails to exist}\\\\\n",
    " \\Longrightarrow & \\frac{1}{3 x^{2 / 3}} = 0 & \\text{or fails to exist}\\\\\n",
    " \\Longrightarrow & x = 0 & \n",
    "\\end{eqnarray*}    \n",
    "there is only one critical point, $x = 0$. And from the table\n",
    "<img src=\"imgs/2/ch4-9.png\" />    \n",
    "it is obvious that $h (x)$ is always increasing and this implies no\n",
    "extremum for $h (x)$.\n",
    "- $u (\\theta) = \\sin \\theta + \\cos \\theta$, for $\\theta \\in [0, \\pi]$.\n",
    "    Since\n",
    "\\begin{eqnarray*}\n",
    " & u' (\\theta) = 0 & \\\\\n",
    " \\Longrightarrow & \\cos \\theta - \\sin \\theta = 0 & \\\\\n",
    " \\Longrightarrow & \\cos \\theta = \\sin \\theta & \\\\\n",
    " \\Longrightarrow & \\tan \\theta = 1 & \\\\\n",
    " \\Longrightarrow & \\theta = \\frac{\\pi}{4} & \n",
    "\\end{eqnarray*}\n",
    "there is only one critical point, $x = 1$. And from the table\n",
    "<img src=\"imgs/2/ch4-10.png\" />    \n",
    "it is obvious that $u (\\theta)$ attains its (absolute) maximum at the\n",
    "critical point, $\\theta = \\pi / 4$.\n",
    "- $p (x) = x e^{- x}$, for $x \\in [0, \\infty)$. Since\n",
    "\\begin{eqnarray*}\n",
    "  & p' (x) = 0 & \\\\\n",
    " \\Longrightarrow & e^{- x} - x e^{- x} = 0 & \\\\\n",
    " \\Longrightarrow & (1 - x) e^{- x} = 0 & \\\\\n",
    " \\Longrightarrow & x = 1 & \n",
    "\\end{eqnarray*}\n",
    "there is only one critical point, $x = 1$. And from the table\n",
    "<img src=\"imgs/2/ch4-12.png\" />    \n",
    "    $p (x)$ attains its (absolute) maximum at point, $x = 1$.\n"
   ]
  },
  {
   "cell_type": "markdown",
   "metadata": {},
   "source": [
    "Exercise\n",
    "---\n",
    "Find the critical points of the following functions and determine whether\n",
    "  the extrema occur at these points:\n",
    "1. $x^3 + 3 x$+1\n",
    "- 2$\\sin x + \\sin 2 x$ for $x \\in [0, \\pi]$\n",
    "- $x^2 e^{- x / 2}$ for $x \\in [0, \\infty)$\n",
    "\n",
    "Sol\n",
    "---  \n",
    "1. $f (x) = x^3 + 3 x$+1. Since\n",
    "    \\begin{eqnarray*}\n",
    "      & f' (x) = 0 & \\\\\n",
    "      \\Longrightarrow & 3 x^2 + 3 > 0 & \n",
    "    \\end{eqnarray*}\n",
    "    there is no any critical point and it is always increasing since the\n",
    "    derivative is povitive for all $x$.\n",
    "   \n",
    "- $u (x) = \\text{2} \\sin x + \\sin 2 x$, for $x \\in [0, \\pi]$. Since\n",
    "    \n",
    "\\begin{eqnarray*}\n",
    "      & u' (x) = 0 & \\\\\n",
    "      \\Longrightarrow & 2 \\cos x + 2 \\cos 2 x = 0 & \\\\\n",
    "      \\Longrightarrow & 2 \\cos x + 2 (2 \\cos^2 x - 1) = 0 & \\\\\n",
    "      \\Longrightarrow & 2 \\cos^2 x + \\cos x - 1 = 0 & \\\\\n",
    "      \\Longrightarrow & (2 \\cos x - 1) (\\cos x + 1) = 0 & \\\\\n",
    "      \\Longrightarrow & \\cos x = \\frac{1}{2} \\text{ or } - 1 & \\\\\n",
    "      \\Longrightarrow & x = \\frac{\\pi}{3} \\text{ or } \\pi & \n",
    "\\end{eqnarray*}\n",
    "\n",
    "    Since $\\pi$ is also one of endpoints, there is only one critical point, $x\n",
    "    = \\pi / 3$. And from the table    \n",
    "<img src=\"imgs/2/ch4-15.png\" />        \n",
    "    it is obvious that $u (x)$ would attain its (absolute) maximum at the\n",
    "    critical point, $x = \\pi / 3$.\n",
    "- $p (x) = x^2 e^{- x / 2}$, for $x \\in [0, \\infty)$. Since\n",
    "    \n",
    "\\begin{eqnarray*}\n",
    "      & p' (x) = 0 & \\\\\n",
    "      \\Longrightarrow & 2 x e^{- x / 2} - x^2 e^{- x / 2} / 2 = 0 & \\\\\n",
    "      \\Longrightarrow & (2 - \\frac{x}{2}) x e^{- x} = 0 & \\\\\n",
    "      \\Longrightarrow & x = 4 & \n",
    "\\end{eqnarray*}\n",
    "\n",
    "there is only one critical point, $x = 4$. And from the table\n",
    "<img src=\"imgs/2/ch4-17.png\" />        \n",
    "    $p (x)$ attains its (absolute) maximum at point, $x = 4$."
   ]
  },
  {
   "cell_type": "markdown",
   "metadata": {},
   "source": [
    "Theorem\n",
    "---\n",
    "  (**First Derivative Test**) Suppose that $f (x)$ is continuous on interval, $I$,\n",
    "  containing $c$, and differentiable in I, possibly except $x = c$. Then\n",
    "\n",
    "**a).** If the sign of $f' (x)$ from the left side $x = c$ to to the right\n",
    "    side changes from positive to negative, $f (c)$ is a relative maxima.    \n",
    "<img src=\"imgs/2/ch4-19.png\" />     \n",
    "\n",
    "**b).** If the sign of $f' (x)$ from the left side $x = c$ to to the right\n",
    "    side changes from negative to positive, $f (c)$ is a relative minimum.    \n",
    "<img src=\"imgs/2/ch4-20.png\" />     \n",
    "**c).** If the sign of the $f' (x)$ does not't change the sign about $x =\n",
    "    c$, $f (c)$ is not a relative extremum."
   ]
  },
  {
   "cell_type": "markdown",
   "metadata": {},
   "source": [
    "Example\n",
    "---\n",
    "  Suppose that $f (x) = x \\ln x$ for $x \\in (0, \\infty)$. First find out all\n",
    "  the critical point(s) of $f (x)$:\n",
    "  \\begin{eqnarray*}\n",
    "    & f' (x) = 0 & \\\\\n",
    "    \\Longrightarrow & \\ln x + 1 = 0 & \\\\\n",
    "    \\Longrightarrow & x = e^{- 1} & \n",
    "  \\end{eqnarray*}\n",
    "  there is only one critical point, $x = e^{- 1}$. And from the table\n",
    "  \n",
    "<img src=\"imgs/2/ch4-21.png\" /> \n",
    "  \n",
    "  the sign of $f' (x)$ changes from negative to positive at $x = e^{- 1}$.\n",
    "  This means that $f (e^{- 1}) = - e^{- 1}$ is relative minimum of $f (x)$."
   ]
  },
  {
   "cell_type": "markdown",
   "metadata": {},
   "source": [
    "Example\n",
    "---\n",
    "  Suppose that $f (x) = 1 / (1 + x^2)$ for $x \\in \\mathbb{R}$. First find out\n",
    "  all the critical point(s) of $f (x)$:\n",
    "  \\begin{eqnarray*}\n",
    "    & f' (x) = 0 & \\\\\n",
    "    \\Longrightarrow & \\frac{- 2 x}{(1 + x^2)^2} = 0 & \\\\\n",
    "    \\Longrightarrow & x = 0 & \n",
    "  \\end{eqnarray*}\n",
    "  there is only one critical point, $x = 0$. And from the table\n",
    "  \n",
    "<img src=\"imgs/2/ch4-23.png\" /> \n",
    "  \n",
    "  the sign of $f' (x)$ changes from positive to negative at $x = 0$. This\n",
    "  means that $f (0) = 1$ is relative maximum of $f (x)$.\n",
    "\n"
   ]
  },
  {
   "cell_type": "markdown",
   "metadata": {},
   "source": [
    "Example\n",
    "---\n",
    "<font color=\"brown\">(**Sample Mean**)</font> Suppose that $x_i, i = 1, 2, \\cdots, n$ are\n",
    "  $n$ known data. Also define \n",
    "\n",
    "$$F (x) = \\sum\\limits^n_{i = 1} (x - x_i)^2\\text{ for }x \\in \\mathbb{R}$$.\n",
    "  \n",
    "  Then the critical point of $F (x)$ can be found out by the\n",
    "  following:\n",
    "\n",
    "\\begin{eqnarray*}\n",
    "    & F' (\\hat x) = 0 & \\\\\n",
    "    \\Longrightarrow & \\sum^n_{i = 1} 2 (\\hat x - x_i) = 0 & \\\\\n",
    "    & \\Downarrow & \\\\\n",
    "    & \\sum^n_{i = 1} \\hat x = \\sum^n_{i = 1} x_i & \\\\\n",
    "    \\Longrightarrow & n \\hat x = \\sum^n_{i = 1} x_i & \\\\\n",
    "    \\Longrightarrow & \\hat x = \\frac{1}{n} \\sum^n_{i = 1} x_i & \n",
    "\\end{eqnarray*}\n",
    "\n",
    "there is only one critical point, \n",
    "\n",
    "$$\\hat x=\\frac{1}{n} \\sum\\limits^n_{i = 1} x_i,$$\n",
    "\n",
    "or called sample mean, denoted as $\\bar{x}$. And from the table\n",
    "  \n",
    "<img src=\"imgs/2/ch4-24.png\" /> \n",
    "  \n",
    "  the sign of $F' (x)$ changes from negative to positive  at $x = \\bar{x}$ from left to right.\n",
    "  This means that $F (\\bar{x})$ is relative minimum of $F (x)$.\n"
   ]
  },
  {
   "cell_type": "markdown",
   "metadata": {},
   "source": [
    "Concavity\n",
    "---\n",
    "\n",
    "**Definition**\n",
    "---\n",
    "  $f (x)$ is called concave upward if $f' (x)$ is increasing and $f (x)$ is\n",
    "  called concave downward if $f' (x)$ is decreasing.\n",
    "  \n",
    "**Theorem**\n",
    "---\n",
    "$f (x)$ is called concave upward if $f'' (x) > 0$ and $f (x)$ is called\n",
    " concave downward if $f'' (x) < 0$.\n",
    "    \n",
    "**Proof** Since $f'' (x) > 0$ implies $f' (x)$ is increasing. Therefore $f\n",
    "(x)$ is concave upward.\n",
    "    \n",
    "<img src=\"imgs/2/ch4-25.png\" />  \n",
    "\n",
    "According the sign of $f' (x)$ and $f'' (x)$, the graphs of functions can be\n",
    "one of four kinds:\n",
    "\n",
    "<img src=\"imgs/2/ch4-26.png\" /> "
   ]
  },
  {
   "cell_type": "markdown",
   "metadata": {},
   "source": [
    "Theorem\n",
    "---\n",
    "(Second Derivatives Test): Suppose that $f (x)$ is differentiable on an open\n",
    "  interval, $I$ containing $x = c$ in which $f' (c) = 0$ and $f'' (x)$ exists\n",
    "  for all the $x \\in \\overset{\\circ}{I}$. Then\n",
    "\n",
    "a). If $f'' (c) < 0$, then $f (x)$ is a relative maximum.\n",
    "    \n",
    "<img src=\"imgs/2/ch4-27.png\" />     \n",
    "b). If $f'' (c) > 0$, then $f (x)$ is a relative minimum.\n",
    "    \n",
    "<img src=\"imgs/2/ch4-28.png\" /> \n",
    "    \n",
    "c). If $f'' (c) = 0$, no conclusion.\n"
   ]
  },
  {
   "cell_type": "markdown",
   "metadata": {},
   "source": [
    "Example\n",
    "---\n",
    "Suppose that $f (x) = x^4 - 8 x^2 + 2$. Then $f (x)$ attains it relative\n",
    "  extrema as follows:\n",
    "  \n",
    "Since\n",
    "\\begin{eqnarray*}\n",
    "    0 & = & f' (x)\\\\\n",
    "    & = & 4 x^3 - 16 x\\\\\n",
    "    \\Longrightarrow &  & x = 0 \\text{ and } \\pm 2\n",
    "\\end{eqnarray*}\n",
    "  there are three critical points, $x = 0, 2, - 2$:\n",
    "- $f (0) = 2$ is relative maximum since $f' (0) = 0$ and $f'' (0) = -\n",
    "    16 < 0$.\n",
    "- $f (\\pm 2) = - 14$ are relative minima since \\ $f' (\\pm 2) = 0$ and\n",
    "    $f'' (\\pm 2) = 32 > 0$\n"
   ]
  },
  {
   "cell_type": "markdown",
   "metadata": {},
   "source": [
    "Example\n",
    "---\n",
    "Consider the Cost function, $C (x) = 500 + 20 x + 5 x^2$ for $x > 0$. Define\n",
    "  the average cost funtion and marginal cost function as follows:\n",
    "\\begin{eqnarray*}\n",
    "    \\bar{C} & = & C (x) / x = 20 + 5 x + 500 / x\\\\\n",
    "    \\text{MC} & = & C' (x) = 20 + 10 x\n",
    "  \\end{eqnarray*}\n",
    "Since\n",
    "\\begin{eqnarray*}\n",
    "    \\bar{C}' = 5 - 500 / x^2 = 0 & \\Rightarrow & x = 10\\\\\n",
    "    \\text{MC}' (= 10) = 0 & \\Rightarrow & \\text{ No solution} !\n",
    "  \\end{eqnarray*}\n",
    "  $\\bar{C}$ has only one critical value at $x = 10$ and $\\bar{C}'' > 0$. Then\n",
    "  ${\\bar{C} (10)}$ is the relative minimum. It is also be the\n",
    "  absolute minimum for  ${\\bar{C} (x)}$ in $(0, \\infty)$. But there is no extrema.since MC is always increasing (to $+\\infty$).\n"
   ]
  },
  {
   "cell_type": "markdown",
   "metadata": {},
   "source": [
    "Example\n",
    "---\n",
    "  Plot the graph of $f (x) = x \\sqrt{1 - x^2}$ for $0\\le x\\le 1$ and\n",
    "  discuss its extrema .\n",
    "- First find all its critical point(s):\n",
    "\n",
    "\\begin{eqnarray*}\n",
    "      0 = f' (x) & \\Rightarrow & \\sqrt{1 - x^2} - \\frac{x^2}{\\sqrt{1 - x^2}} =\n",
    "      0\\\\\n",
    "      & \\Rightarrow & \\frac{1 - x^2 - x^2}{\\sqrt{1 - x^2}} = 0\\\\\n",
    "      & \\Rightarrow & x = \\frac{1}{\\sqrt{2}}\n",
    "    \\end{eqnarray*}\n",
    "- Discuss its monotoncity and concavity:\n",
    "\n",
    "\\begin{eqnarray*}\n",
    "      f'' (x) & = & \\frac{- 3 x (1 - x^2) - x^3}{\\sqrt{(1 - x^2)^3}}\\\\\n",
    "      & = & \\frac{x (2 x^2 - 3)}{\\sqrt{(1 - x^2)^3}} < 0\n",
    "\\end{eqnarray*}\n",
    "    \n",
    "Then\n",
    "    \n",
    "<img src=\"imgs/2/ch4-31.png\" />     \n",
    "- connect the sub graphs at: $f (0) = f (1) = 0$ and $f (1 / \\sqrt{2})\n",
    "    = 1 / 2$, ref the following:\n",
    "    \n",
    "\n",
    "  It is obviously that $f (x)$ attains its maximum 1/2 at $x =\n",
    "  \\frac{1}{\\sqrt{2}}$.\n",
    " "
   ]
  },
  {
   "cell_type": "code",
   "execution_count": 8,
   "metadata": {
    "collapsed": true
   },
   "outputs": [],
   "source": [
    "%matplotlib inline\n",
    "import matplotlib.pylab as plt\n",
    "import numpy as np\n",
    "from numpy import sqrt,pi,sin,cos,exp"
   ]
  },
  {
   "cell_type": "code",
   "execution_count": 5,
   "metadata": {
    "collapsed": false
   },
   "outputs": [
    {
     "data": {
      "text/plain": [
       "[<matplotlib.lines.Line2D at 0x108afd940>]"
      ]
     },
     "execution_count": 5,
     "metadata": {},
     "output_type": "execute_result"
    },
    {
     "data": {
      "image/png": "[encoded data removed]",
      "text/plain": [
       "<matplotlib.figure.Figure at 0x108767400>"
      ]
     },
     "metadata": {},
     "output_type": "display_data"
    }
   ],
   "source": [
    "x=np.linspace(0,1,101)\n",
    "plt.plot(x,x*sqrt(1-x**2))"
   ]
  },
  {
   "cell_type": "markdown",
   "metadata": {},
   "source": [
    "Example\n",
    "---\n",
    "Plot the graph of $f (x) = x - \\sin x$ for $x \\in [0, \\pi]$. And find all\n",
    "  the zero root of $f (x)$.\n",
    "  \n",
    "Since $f (x)$ is odd, i.e. $f (- x) = - f (x)$, its graph is symmetry with\n",
    "  repect to the original $(0.0)$. Therefore, only need to consider the part\n",
    "  for $x > 0$.\n",
    "- Since $| \\cos x| \\leqslant 1$, it is trivial that\n",
    "$$ f' (x) = 1 - \\cos x \\geqslant 0 $$\n",
    "This implies that $f (x)$ is always increasing.\n",
    "    \n",
    "- Concavity:\n",
    "$$f'' (x) = \\sin x \\geqslant 0 $$\n",
    "implies that it is always concave upward!\n",
    "\n",
    "Then\n",
    "  \n",
    "<img src=\"imgs/2/ch4-33.png\" />   \n",
    "Also note $f (0) = 0 - \\sin 0 = 0$ and increasing always $\\Rightarrow$ there\n",
    "  is no any $x > 0$ such that $f (x) = 0$!\n"
   ]
  },
  {
   "cell_type": "code",
   "execution_count": 7,
   "metadata": {
    "collapsed": false
   },
   "outputs": [
    {
     "data": {
      "text/plain": [
       "[<matplotlib.lines.Line2D at 0x108c23198>]"
      ]
     },
     "execution_count": 7,
     "metadata": {},
     "output_type": "execute_result"
    },
    {
     "data": {
      "image/png": "[encoded data removed]",
      "text/plain": [
       "<matplotlib.figure.Figure at 0x108a21080>"
      ]
     },
     "metadata": {},
     "output_type": "display_data"
    }
   ],
   "source": [
    "x=np.linspace(0,pi,101)\n",
    "plt.plot(x,x-sin(x))"
   ]
  },
  {
   "cell_type": "markdown",
   "metadata": {},
   "source": [
    "Exercise\n",
    "---\n",
    "plot the graphs of the following functions:\n",
    "- $f (x) = x e^{- x}$, $x \\in [0, \\infty)$\n",
    "- $g (x) = x^3 + x^2 - x + 3$"
   ]
  },
  {
   "cell_type": "code",
   "execution_count": 11,
   "metadata": {
    "collapsed": false
   },
   "outputs": [
    {
     "data": {
      "text/plain": [
       "[<matplotlib.lines.Line2D at 0x108d52908>]"
      ]
     },
     "execution_count": 11,
     "metadata": {},
     "output_type": "execute_result"
    },
    {
     "data": {
      "image/png": "[encoded data removed]",
      "text/plain": [
       "<matplotlib.figure.Figure at 0x108a10080>"
      ]
     },
     "metadata": {},
     "output_type": "display_data"
    }
   ],
   "source": [
    "x=np.linspace(0,10,101)\n",
    "t=np.linspace(-5,5,101)\n",
    "f=x*exp(-x)\n",
    "g=t**3+t**2-t+3\n",
    "plt.subplot(211)\n",
    "plt.plot(x,f)\n",
    "plt.subplot(212)\n",
    "plt.plot(t,g)"
   ]
  },
  {
   "cell_type": "markdown",
   "metadata": {},
   "source": [
    "Finding Absolute Extrema\n",
    "===\n",
    "Note\n",
    "---\n",
    "Procedure for finding Extrema: Suppose that $f (x)$ is continuous on $[a,b]$.\n",
    "\n",
    "i). Find out all the critical values.\n",
    "    \n",
    "ii). Compute the values $f (a), (b)$ and the $f (c)$ where $c$ is the critical values.\n",
    "    \n",
    "iii). Absolute maximum of $f (x)$ is the largest in ii). and absolute minimum is the smallest in ii).\n",
    "\n"
   ]
  },
  {
   "cell_type": "markdown",
   "metadata": {},
   "source": [
    "Example\n",
    "---\n",
    "$f (8) = 133$ is the maximum and $f (4) = - 75$ is the minimum for $f (x) =\n",
    "  x^3 - 3 x^2 - 24 x + 5$ in $[- 3, 8]$.\n",
    "  \n",
    "**Analysis**\n",
    "\n",
    "- find out critical values:\n",
    "\n",
    "\\begin{eqnarray*}\n",
    "      0 & = & f' (x)\\\\\n",
    "      & = & (x^3 - 3 x^2 - 24 x + 5)'\\\\\n",
    "      & = & 3 x^2 - 6 x - 24\\\\\n",
    "      & = & 3 (x - 4) (x + 2)\\\\\n",
    "      \\Longrightarrow &  & x = - 2 \\text{ or } 4\n",
    "\\end{eqnarray*}\n",
    "\n",
    "- evaluate the function valus at critical points, $x = - 3, - 2, 4, 8$:\n",
    "\n",
    "\\begin{eqnarray*}\n",
    "      f (- 3) & = & 23\\\\\n",
    "      f (- 2) & = & 33\\\\\n",
    "      f (4) & = & - 75\\\\\n",
    "      f (8) & = & 133\n",
    "\\end{eqnarray*}\n",
    "\n",
    "- $f (8) = 133$ is the **absolute maximum** and $f (4) = - 75$ is the\n",
    "    **absolute minimum** of $f (x)$ on $[- 3, 8]$."
   ]
  },
  {
   "cell_type": "markdown",
   "metadata": {},
   "source": [
    "Example\n",
    "---\n",
    "  $f (8) = 4$ is the maximum and $f (0) = 0$ is the minimum for $f (x) = x^{2/3}$ in $[- 1, 8]$.\n",
    "  \n",
    "**Analysis**\n",
    "\n",
    "- find out critical values:\n",
    "\n",
    "\\begin{eqnarray*}\n",
    "      0 \\text{ or fails to exist} & = & f' (x)\\\\\n",
    "      & = & \\frac{2}{3 x^{1 / 3}}\\\\\n",
    "      \\Longrightarrow &  & x = 0\n",
    "\\end{eqnarray*}\n",
    "\n",
    "- evaluate the function valus at critical points, $x = - 1, 0, 8$:\n",
    "\n",
    "\\begin{eqnarray*}\n",
    "      f (- 1) & = & 1\\\\\n",
    "      f (0) & = & 0\\\\\n",
    "      f (8) & = & 4\n",
    "\\end{eqnarray*}\n",
    "\n",
    "- $f (8) = 4$ is the absolute maximum and $f (0) = 0$ is the absolute\n",
    "    minimum for $f (x)$ in $[- 1, 8]$"
   ]
  },
  {
   "cell_type": "markdown",
   "metadata": {},
   "source": [
    "Note\n",
    "---\n",
    "Procedure for finding Extrema II: Suppose that $f (x)$ is continuous on $(a,b)$.\n",
    "\n",
    "i.) Find out all the critical values.\n",
    "\n",
    "ii). Compute the values $\\lim\\limits_{x \\rightarrow a^+} f (x),\n",
    "    \\lim\\limits_{x \\rightarrow b^-} f (x)$, if exists, and $f (c)$ where\n",
    "    $c$ is the critical values.\n",
    "\n",
    "iii). Absolute maximum of $f (x)$ is the largest $f (c)$ in ii) if $f (c)\n",
    "    \\geqslant \\lim\\limits_{x \\rightarrow a^+}  f (x) \\text{ and } \\lim\\limits_{x \\rightarrow b^-}  f (x)$\n",
    "\n",
    "iv). Absolute minimum of $f (x)$ is the smallest $f (c)$ in ii) if $f (c)\n",
    "    \\leqslant \\lim\\limits_{x \\rightarrow a^+}  f (x) \\text{ and } \\lim\\limits_{x \\rightarrow b^-}  f (x)$.\n"
   ]
  },
  {
   "cell_type": "markdown",
   "metadata": {},
   "source": [
    "Example\n",
    "---\n",
    "  Finding the extrema for $f (x) = \\frac{x}{1 - x^2}$ in $(- 1, 1)$ if any.\n",
    "  \n",
    "  Since it is possible for $f (x)$ to approach $\\pm \\infty$ ( for example as\n",
    "  $x \\rightarrow 1^{\\pm}$), $f (x)$ has no extrema.\n",
    "  \n",
    "Analysis\n",
    "---\n",
    "- find out critical point if any: \n",
    "\n",
    "\\begin{eqnarray*}\n",
    "      0 & = & f' (x)\\\\\n",
    "      & = & \\frac{1 - x^2 + 2 x^2}{(1 - x^2)^2}\\\\\n",
    "      & = & \\frac{1 + x^2}{(1 - x^2)^2} > 0\n",
    "    \\end{eqnarray*}\n",
    "\n",
    "- No critical point and $f' (x) > 0 \\Longrightarrow f (x) \\nearrow$.\n",
    "- Since $\\lim\\limits_{x \\rightarrow - 1^+}\\frac{x}{1 - x^2} = -\n",
    "    \\infty$ and $\\lim\\limits_{x \\rightarrow  1^-} \\frac{x}{1 - x^2} =\n",
    "    \\infty$, no any extrema exist!\n"
   ]
  },
  {
   "cell_type": "markdown",
   "metadata": {},
   "source": [
    "Eexercise\n",
    "---\n",
    "  Discuss the existence of extrema for a) $8 x^{1 / 3} - 2 x^{4 / 3}$ on $[-\n",
    "  1, 8]$, b) $\\sqrt{x} (1 - x)$ on $[0, 4]$."
   ]
  },
  {
   "cell_type": "code",
   "execution_count": 12,
   "metadata": {
    "collapsed": true
   },
   "outputs": [],
   "source": [
    "import matplotlib.pyplot as plt\n",
    "import numpy as np\n",
    "from numpy import abs,sqrt,sign\n",
    "%matplotlib inline "
   ]
  },
  {
   "cell_type": "code",
   "execution_count": 19,
   "metadata": {
    "collapsed": true
   },
   "outputs": [],
   "source": [
    "?plt.subplot"
   ]
  },
  {
   "cell_type": "code",
   "execution_count": 24,
   "metadata": {
    "collapsed": false
   },
   "outputs": [
    {
     "data": {
      "text/plain": [
       "[<matplotlib.lines.Line2D at 0x109385470>]"
      ]
     },
     "execution_count": 24,
     "metadata": {},
     "output_type": "execute_result"
    },
    {
     "data": {
      "image/png": "[encoded data removed]",
      "text/plain": [
       "<matplotlib.figure.Figure at 0x109245240>"
      ]
     },
     "metadata": {},
     "output_type": "display_data"
    }
   ],
   "source": [
    "x1=np.linspace(-1,8,101)\n",
    "x2=np.linspace(0,4,101)\n",
    "plt.plot([1,2,2])\n",
    "plt.subplot(121)\n",
    "plt.plot(x1,8*sign(x1)*(abs(x1))**(1/3)-2*abs(x1)**(4/3))\n",
    "\n",
    "plt.subplot(122)\n",
    "plt.plot(x2,sqrt(x2)*(1-x2))"
   ]
  },
  {
   "cell_type": "markdown",
   "metadata": {},
   "source": [
    "\n",
    "Analysis a).\n",
    "---\n",
    "<font color=\"white\">\n",
    "- find out critical points:\n",
    "    \\begin{eqnarray*}\n",
    "      0 \\text{ or fails to exist } & = & f' (x)\\\\\n",
    "      & = & \\frac{8 (1 - x)}{3 x^{\\frac{2}{3}}}\n",
    "    \\end{eqnarray*}\n",
    "    implies that $0$ and 1 are the critical points.\n",
    "    \n",
    "- $x = - 1, 0, 1, 8$\n",
    "    \\begin{eqnarray*}\n",
    "      f (- 1) & = & - 10\\\\\n",
    "      f (0) & = & 0\\\\\n",
    "      f (1) & = & 6\\\\\n",
    "      f (8) & = & - 16\n",
    "    \\end{eqnarray*}\n",
    "- the maximum is 6 and the minimum is $- 16$.\n",
    "\n",
    "  \n",
    "    \n",
    "Since $f (x)$ is continuous on closed interval $[- 1, 8]$ and $f (- 1) = -\n",
    "    10, f (0) = 0, f (1) = 6, f (8) = - 16$, the maximum is 6 and the minimum\n",
    "    is -16.\n",
    "  </font>  \n",
    "\n",
    "Analysis for b)\n",
    "---\n",
    "<font color=\"white\">\n",
    "- find out critical points:\n",
    "\\begin{eqnarray*}\n",
    "      0 \\text{ or fails to exist} & = & \\left( \\sqrt{x} (1 - x) \\right)'\\\\\n",
    "      & = & \\frac{1 - 3 x}{2 \\sqrt{x}}\\\\\n",
    "      \\Rightarrow &  & x = 0 \\text{ and } \\frac{1}{3}\n",
    "    \\end{eqnarray*}\n",
    "- $x = 0, 1 / 3, 4$:\n",
    "    \\begin{eqnarray*}\n",
    "      f (0) & = & 0\\\\\n",
    "      f (1 / 3) & = & \\frac{2}{3 \\sqrt{3}}\\\\\n",
    "      f (4) & = & - 6\n",
    "    \\end{eqnarray*}\n",
    "- The critical value is 1/3 and the boundary points are 0 and 4. Since $f\n",
    "    (0) = 0, f (1 / 3) = \\frac{2}{3 \\sqrt{3}}$ and $f (4) = - 6$, maximum is\n",
    "    $\\frac{2}{3 \\sqrt{3}}$ and minimum is -6.\n",
    "</font>  \n",
    "\n",
    "\n"
   ]
  },
  {
   "cell_type": "markdown",
   "metadata": {},
   "source": [
    "Rolle's Theorem and the Mean Value Theorem\n",
    "===\n",
    "Theorem (Rolle's Theorem)\n",
    "---\n",
    "  Assume that $f (x)$ is continuous on $[a, b]$ and differentiable in $(a,\n",
    "  b)$. If $f (a) = f (b)$, there exists at least $c \\in (a, b)$ such that $f'\n",
    "  (c) = 0$.\n",
    "  \n",
    "Proof:\n",
    "---  \n",
    "1.  If $f (x)$ is constant on $[a, b]$, then done.\n",
    "- Suppose that $f (x) > f (a) = C$ for some $x \\in (a, b)$. By the\n",
    "    Extrema Value Theorem, $f (x)$ has a maximum for some $c \\in (x, b)$.\n",
    "    Since $f (x) $ is differentiable in this interval, $f' (c) = 0$.\n",
    "- Case about  $f (x) < f (a) = C$ is similarly proved.\n",
    "\n"
   ]
  },
  {
   "cell_type": "markdown",
   "metadata": {},
   "source": [
    "Example\n",
    "---\n",
    "Suppose that $f (x) = x - x^{1 / 3} $ for $x \\in [- 1, 1] = [- 1, 0] \\cup\n",
    "  [0, 1]$. \n",
    "  \n",
    "Since $f (- 1) = f (0) = f (1) = 0$, we can find $c = \\frac{\\pm\n",
    "  1}{\\sqrt{27}}$ such that $f' (c) = 0$.\n"
   ]
  },
  {
   "cell_type": "markdown",
   "metadata": {},
   "source": [
    "Theorem (Mean Value Theorem, MVT)\n",
    "---\n",
    "Assume that $f (x)$\n",
    "  is continuous on $[a, b]$ and differentiable in $(a, b)$. There exists at\n",
    "  least one $c \\in (a, b)$ such that\n",
    "$$ f' (c) = \\frac{f (b) - f (a)}{b - a} $$\n",
    "  \n",
    "**Proof:** Consider the graph,\n",
    "  \n",
    "<img src=\"imgs/2/ch4-38.png\" />\n",
    "\n",
    "  We also the following:\n",
    "$$ l (x) = f (x) - \\left( f (a) + \\frac{f (b) - f (a)}{b - a} (x - a)\n",
    "     \\right) \n",
    "$$     \n",
    " Then $l (x)$ satisfies all the conditions in (Rolle's\n",
    "  Theorem), and proved.\n",
    "\n"
   ]
  },
  {
   "cell_type": "markdown",
   "metadata": {},
   "source": [
    "Example\n",
    "---\n",
    "  Suppose that there are two stationary patrol cars equipped with radar are\n",
    "  10,000 meters apart.  As a truck passes the first patrol car, its speed is\n",
    "  clocked at 80,000 meter/hour. Five minutes later, its speed is clocked by the\n",
    "  other patrol car at 85,000 meter/hour. does this truck exceed the speed\n",
    "  limit 100,000 meter/hour?\n",
    "  \n",
    "  **Sol:**\n",
    "  Let $f (t)$ be the velocity of truck where $t$ is in hour. Truck spent $ 5 / 60 = 1 / 12$ hr\n",
    "  passed the interval between patrol card located.\n",
    "  . By the MVT, we have\n",
    "  \\begin{eqnarray*}\n",
    "    f' (c) & = & \\frac{10, 000 \\text{ meter}}{1 / 12 \\text{ hour}}\\\\\n",
    "    & = & 120, 000 \\text{ meter} / \\text{ hour}\n",
    "  \\end{eqnarray*}\n",
    "it must exceed the speed limit during this time period.\n",
    "\n"
   ]
  },
  {
   "cell_type": "code",
   "execution_count": null,
   "metadata": {
    "collapsed": true
   },
   "outputs": [],
   "source": []
  }
 ],
 "metadata": {
  "kernelspec": {
   "display_name": "Python 3",
   "language": "python",
   "name": "python3"
  },
  "language_info": {
   "codemirror_mode": {
    "name": "ipython",
    "version": 3
   },
   "file_extension": ".py",
   "mimetype": "text/x-python",
   "name": "python",
   "nbconvert_exporter": "python",
   "pygments_lexer": "ipython3",
   "version": "3.5.2"
  }
 },
 "nbformat": 4,
 "nbformat_minor": 1
}
