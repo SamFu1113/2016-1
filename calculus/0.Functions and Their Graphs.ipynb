{
 "cells": [
  {
   "cell_type": "markdown",
   "metadata": {},
   "source": [
    "Calculus 2016-1\n",
    "===\n",
    "- Quizzes: 2 quizzes at 9/Nov/2016, 11/Jan/2017\n",
    "- Score: 1. Attendancy and Practices：10%\n",
    "2. Two Tests：total 60%, each 40%\n",
    "3. Review quizzes: 10%\n",
    "\n",
    "- TeXbook: S.T.Tan: Calculus  , Brooks/Cole, 2010.\n",
    "東華書局, 0932-922193\n",
    "- Office Time: 12:00~13:00, Wed and Thu,\n"
   ]
  },
  {
   "cell_type": "markdown",
   "metadata": {},
   "source": [
    "Functions\n",
    "---\n",
    "A **function** from set $A$ to set $B$ is an assign rule for each $x$ in $A$ if and only if to one $y$ in $B$."
   ]
  },
  {
   "cell_type": "code",
   "execution_count": 38,
   "metadata": {
    "collapsed": false
   },
   "outputs": [],
   "source": [
    "from sympy import Symbol,symbols,solve\n",
    "from sympy import pi"
   ]
  },
  {
   "cell_type": "code",
   "execution_count": 6,
   "metadata": {
    "collapsed": true
   },
   "outputs": [],
   "source": [
    "x,y = symbols('x y')\n",
    "h=Symbol(\"h\")"
   ]
  },
  {
   "cell_type": "markdown",
   "metadata": {},
   "source": [
    "Example\n",
    "---\n",
    "Define a function $f(x)=x^2+2x-1$"
   ]
  },
  {
   "cell_type": "code",
   "execution_count": 3,
   "metadata": {
    "collapsed": true
   },
   "outputs": [],
   "source": [
    "def f(x):\n",
    "    return x**2+2*x-1"
   ]
  },
  {
   "cell_type": "code",
   "execution_count": 4,
   "metadata": {
    "collapsed": false
   },
   "outputs": [
    {
     "data": {
      "text/plain": [
       "-2"
      ]
     },
     "execution_count": 4,
     "metadata": {},
     "output_type": "execute_result"
    }
   ],
   "source": [
    "f(-1),"
   ]
  },
  {
   "cell_type": "code",
   "execution_count": 7,
   "metadata": {
    "collapsed": false
   },
   "outputs": [
    {
     "data": {
      "text/plain": [
       "-1 + 2*pi + pi**2"
      ]
     },
     "execution_count": 7,
     "metadata": {},
     "output_type": "execute_result"
    }
   ],
   "source": [
    "f(pi)"
   ]
  },
  {
   "cell_type": "code",
   "execution_count": 8,
   "metadata": {
    "collapsed": false
   },
   "outputs": [
    {
     "data": {
      "text/plain": [
       "2*h + 2*x + (h + x)**2 - 1"
      ]
     },
     "execution_count": 8,
     "metadata": {},
     "output_type": "execute_result"
    }
   ],
   "source": [
    "f(x+h)"
   ]
  },
  {
   "cell_type": "code",
   "execution_count": 9,
   "metadata": {
    "collapsed": false
   },
   "outputs": [
    {
     "data": {
      "text/plain": [
       "4*x**2 + 4*x - 1"
      ]
     },
     "execution_count": 9,
     "metadata": {},
     "output_type": "execute_result"
    }
   ],
   "source": [
    "f(2*x)"
   ]
  },
  {
   "cell_type": "markdown",
   "metadata": {},
   "source": [
    "Graph of a function\n",
    "---\n",
    "The graph of a function, $f(x)$, is a set of all points, $(x,y)$ sunc that $y=f(x)$ where $x$ lies in the domain of $f$."
   ]
  },
  {
   "cell_type": "code",
   "execution_count": 2,
   "metadata": {
    "collapsed": true
   },
   "outputs": [],
   "source": [
    "%matplotlib inline \n",
    "import numpy as np\n",
    "from numpy import pi,sin,cos\n",
    "import matplotlib.pylab as plt"
   ]
  },
  {
   "cell_type": "markdown",
   "metadata": {},
   "source": [
    "Example\n",
    "---\n",
    "Graphs of $1/x$ and $1/x^2$."
   ]
  },
  {
   "cell_type": "code",
   "execution_count": 6,
   "metadata": {
    "collapsed": false
   },
   "outputs": [
    {
     "data": {
      "text/plain": [
       "<matplotlib.legend.Legend at 0x1086964e0>"
      ]
     },
     "execution_count": 6,
     "metadata": {},
     "output_type": "execute_result"
    },
    {
     "data": {
      "image/png": "[encoded data removed]",
      "text/plain": [
       "<matplotlib.figure.Figure at 0x108629c88>"
      ]
     },
     "metadata": {},
     "output_type": "display_data"
    }
   ],
   "source": [
    "t=np.linspace(-2,2,100)\n",
    "plt.plot(t,1/t,label='$1/x$')\n",
    "plt.plot(t,1/t/t,'r--',label='$1/x^2$')\n",
    "plt.plot(t,0*t,'k-')\n",
    "plt.ylim([-6,6])\n",
    "plt.legend()"
   ]
  },
  {
   "cell_type": "markdown",
   "metadata": {},
   "source": [
    "Even and Odd Funnctions\n",
    "---\n",
    "- Even function: $f(-x)=f(x)$,\n",
    "- Odd function: $f(-x)=-f(x)$.\n"
   ]
  },
  {
   "cell_type": "code",
   "execution_count": 36,
   "metadata": {
    "collapsed": false
   },
   "outputs": [
    {
     "data": {
      "text/plain": [
       "<matplotlib.legend.Legend at 0x10b754ac8>"
      ]
     },
     "execution_count": 36,
     "metadata": {},
     "output_type": "execute_result"
    },
    {
     "data": {
      "image/png": "[encoded data removed]",
      "text/plain": [
       "<matplotlib.figure.Figure at 0x10b7cada0>"
      ]
     },
     "metadata": {},
     "output_type": "display_data"
    }
   ],
   "source": [
    "plt.plot(t,t**4-t**2+1,label='$x^4-x^2+1$ is even')\n",
    "plt.plot(t,t**3-t,'r--',label='$x^3-x$ is Odd')\n",
    "plt.plot(t,0*t,'k-')\n",
    "plt.plot([0,0],[-6,6],'k')\n",
    "plt.ylim([-6,6])\n",
    "plt.legend()"
   ]
  },
  {
   "cell_type": "markdown",
   "metadata": {},
   "source": [
    "Trigonometric Functions\n",
    "---\n",
    "$\\sin,\\cos\\tan,\\cot,\\sec,\\csc$"
   ]
  },
  {
   "cell_type": "markdown",
   "metadata": {},
   "source": [
    "Example\n",
    "---\n",
    "Determine whether the function,\n",
    "$$ f(x)=\\frac{\\sin 2x}{\\sqrt{1+\\cos^2x}+1}$$\n",
    "is even, odd, or neither.\n",
    "\n",
    "Answer: <font color=\"white\">Odd</font>, \n",
    "\n",
    "since\n",
    "$$\n",
    "\\color{white}{f(-x)=f(x)}\n",
    "$$"
   ]
  },
  {
   "cell_type": "code",
   "execution_count": 23,
   "metadata": {
    "collapsed": true
   },
   "outputs": [],
   "source": [
    "from numpy import sin,cos,sqrt"
   ]
  },
  {
   "cell_type": "code",
   "execution_count": 37,
   "metadata": {
    "collapsed": false
   },
   "outputs": [
    {
     "data": {
      "text/plain": [
       "(-2, 2)"
      ]
     },
     "execution_count": 37,
     "metadata": {},
     "output_type": "execute_result"
    },
    {
     "data": {
      "image/png": "[encoded data removed]",
      "text/plain": [
       "<matplotlib.figure.Figure at 0x10b774358>"
      ]
     },
     "metadata": {},
     "output_type": "display_data"
    }
   ],
   "source": [
    "f=sin(2*t)/((sqrt(1+cos(t)*cos(t))+1))\n",
    "plt.plot(t,f)\n",
    "plt.title('$\\sin 2x/(\\sqrt{1+\\cos^2x}+1)$')\n",
    "plt.plot(t,0*t,'k-')\n",
    "plt.plot([0,0],[-2,2],'k')\n",
    "\n",
    "plt.ylim([-2,2])\n"
   ]
  },
  {
   "cell_type": "markdown",
   "metadata": {},
   "source": [
    "Trigonalmetric functions are Transcendetal functiona since their calculation are much complicated than algebraic functiona.\n",
    "\n",
    "Example\n",
    "---\n",
    "Solve $\\cos x -2 \\sin^2 x+1=0$ where $0\\le x\\le 2\\pi$."
   ]
  },
  {
   "cell_type": "code",
   "execution_count": 40,
   "metadata": {
    "collapsed": false
   },
   "outputs": [
    {
     "data": {
      "text/plain": [
       "[-pi/3, pi/3]"
      ]
     },
     "execution_count": 40,
     "metadata": {},
     "output_type": "execute_result"
    }
   ],
   "source": [
    "from sympy import sin,cos\n",
    "solve(cos(x)-2*(sin(x))**2+1,x)"
   ]
  },
  {
   "cell_type": "code",
   "execution_count": 63,
   "metadata": {
    "collapsed": false
   },
   "outputs": [
    {
     "data": {
      "text/plain": [
       "(-2, 2)"
      ]
     },
     "execution_count": 63,
     "metadata": {},
     "output_type": "execute_result"
    },
    {
     "data": {
      "image/png": "[encoded data removed]",
      "text/plain": [
       "<matplotlib.figure.Figure at 0x10bf03518>"
      ]
     },
     "metadata": {},
     "output_type": "display_data"
    }
   ],
   "source": [
    "from numpy import sin,cos,pi\n",
    "g=cos(t)-2*sin(t)**2+1\n",
    "plt.plot(t,g)\n",
    "plt.plot(t,0*t,'k-')\n",
    "plt.plot([0,0],[-2,2],'k')\n",
    "plt.scatter([-np.pi/3,np.pi/3],[0,0])\n",
    "plt.text(-1.1,-0.3,'$-\\pi/3$',size=13)\n",
    "plt.text(0.85,-0.3,'$\\pi/3$',size=13)\n",
    "\n",
    "plt.ylim([-2,2])\n",
    "plt.xlim([-2,2])"
   ]
  },
  {
   "cell_type": "markdown",
   "metadata": {},
   "source": [
    "Period \n",
    "---\n",
    "$h$ is called period of $f$ if $f(x+h)=f(x)$.\n",
    "\n",
    "Example\n",
    "---\n",
    "$f(x)=3\\sin(x/2)$\n",
    "\n",
    "Period is ($\\color{white}{4\\pi}$)."
   ]
  },
  {
   "cell_type": "code",
   "execution_count": 69,
   "metadata": {
    "collapsed": false
   },
   "outputs": [
    {
     "data": {
      "text/plain": [
       "(-13.066370614359172, 13.066370614359172)"
      ]
     },
     "execution_count": 69,
     "metadata": {},
     "output_type": "execute_result"
    },
    {
     "data": {
      "image/png": "[encoded data removed]",
      "text/plain": [
       "<matplotlib.figure.Figure at 0x10b74fe80>"
      ]
     },
     "metadata": {},
     "output_type": "display_data"
    }
   ],
   "source": [
    "\n",
    "t=np.linspace(-4*pi,4*pi,101)\n",
    "F=3*np.sin(t/2)\n",
    "plt.plot(t,F)\n",
    "plt.plot(t,0*t,'k-')\n",
    "plt.plot([0,0],[-4.5,4.5],'k')\n",
    "\n",
    "plt.ylim([-4,4])\n",
    "plt.xlim([-4*pi-0.5,4*pi+0.5])"
   ]
  },
  {
   "cell_type": "markdown",
   "metadata": {},
   "source": [
    "1. Limit\n",
    "---\n",
    "The limit as $x$ goes to $a$ of $f$ is $L$ if $f(x)$ can be made as close to $L$ by taking $x$ sufficiently close to $a$ and expressed by \n",
    "$$\n",
    "\\lim\\limits_{x \\rightarrow a} f(x) = L\n",
    "$$\n",
    " If $f(x)$ is <em>continuous</em> at $x=a$, the $L=f(a)$.\n",
    "\n",
    "One-sided Limits\n",
    "---\n",
    "- Right-hand Limit:  The limit as $x$ goes to $a$ of $f$ is $L$ if $f(x)$ can be made as close to $L$ by taking $x$ sufficiently close to $a$ but greater than $a$, and expressed by \n",
    "$$\n",
    "\\lim\\limits_{x \\rightarrow a^+} f(x) = L\n",
    "$$\n",
    "- Left-hand Limit:  The limit as $x$ goes to $a$ of $f$ is $L$ if $f(x)$ can be made as close to $L$ by taking $x$ sufficiently close to $a$ but less than $a$, and expressed by \n",
    "$$\n",
    "\\lim\\limits_{x \\rightarrow a^-} f(x) = L\n",
    "$$\n",
    "\n",
    "**Theorem**\n",
    "---\n",
    "Let $f$ be a function defined on an interval containing $a$, possibly except at $x=a$. Then\n",
    "$$\n",
    "\\lim\\limits_{x \\rightarrow a} f(x) = L \\text{ if and only if } \\lim\\limits_{x \\rightarrow a^+} f(x) = \\lim\\limits_{x \\rightarrow a^-} f(x) = L\n",
    "$$"
   ]
  },
  {
   "cell_type": "markdown",
   "metadata": {},
   "source": [
    "Example\n",
    "---\n",
    "\n",
    "$$\n",
    "\\lim\\limits_{x \\rightarrow 0} \\frac{\\sin x }{x}=1.\n",
    "$$\n",
    "\n",
    "\n"
   ]
  },
  {
   "cell_type": "code",
   "execution_count": 1,
   "metadata": {
    "collapsed": false
   },
   "outputs": [
    {
     "ename": "NameError",
     "evalue": "name 'np' is not defined",
     "output_type": "error",
     "traceback": [
      "\u001b[0;31m---------------------------------------------------------------------------\u001b[0m",
      "\u001b[0;31mNameError\u001b[0m                                 Traceback (most recent call last)",
      "\u001b[0;32m<ipython-input-1-10dca05f7c34>\u001b[0m in \u001b[0;36m<module>\u001b[0;34m()\u001b[0m\n\u001b[0;32m----> 1\u001b[0;31m \u001b[0msinc\u001b[0m\u001b[0;34m=\u001b[0m\u001b[0mnp\u001b[0m\u001b[0;34m.\u001b[0m\u001b[0msin\u001b[0m\u001b[0;34m(\u001b[0m\u001b[0mt\u001b[0m\u001b[0;34m)\u001b[0m\u001b[0;34m/\u001b[0m\u001b[0mt\u001b[0m\u001b[0;34m\u001b[0m\u001b[0m\n\u001b[0m\u001b[1;32m      2\u001b[0m \u001b[0mplt\u001b[0m\u001b[0;34m.\u001b[0m\u001b[0mplot\u001b[0m\u001b[0;34m(\u001b[0m\u001b[0mt\u001b[0m\u001b[0;34m,\u001b[0m\u001b[0msinc\u001b[0m\u001b[0;34m)\u001b[0m\u001b[0;34m\u001b[0m\u001b[0m\n\u001b[1;32m      3\u001b[0m \u001b[0mplt\u001b[0m\u001b[0;34m.\u001b[0m\u001b[0mplot\u001b[0m\u001b[0;34m(\u001b[0m\u001b[0mt\u001b[0m\u001b[0;34m,\u001b[0m\u001b[0;36m0\u001b[0m\u001b[0;34m*\u001b[0m\u001b[0mt\u001b[0m\u001b[0;34m,\u001b[0m\u001b[0;34m'k-'\u001b[0m\u001b[0;34m)\u001b[0m\u001b[0;34m\u001b[0m\u001b[0m\n\u001b[1;32m      4\u001b[0m \u001b[0mplt\u001b[0m\u001b[0;34m.\u001b[0m\u001b[0mplot\u001b[0m\u001b[0;34m(\u001b[0m\u001b[0;34m[\u001b[0m\u001b[0;36m0\u001b[0m\u001b[0;34m,\u001b[0m\u001b[0;36m0\u001b[0m\u001b[0;34m]\u001b[0m\u001b[0;34m,\u001b[0m\u001b[0;34m[\u001b[0m\u001b[0;34m-\u001b[0m\u001b[0;36m4\u001b[0m\u001b[0;34m,\u001b[0m\u001b[0;36m4\u001b[0m\u001b[0;34m]\u001b[0m\u001b[0;34m,\u001b[0m\u001b[0;34m'k'\u001b[0m\u001b[0;34m)\u001b[0m\u001b[0;34m\u001b[0m\u001b[0m\n\u001b[1;32m      5\u001b[0m \u001b[0;34m\u001b[0m\u001b[0m\n",
      "\u001b[0;31mNameError\u001b[0m: name 'np' is not defined"
     ]
    }
   ],
   "source": [
    "sinc=np.sin(t)/t\n",
    "plt.plot(t,sinc)\n",
    "plt.plot(t,0*t,'k-')\n",
    "plt.plot([0,0],[-4,4],'k')\n",
    "\n",
    "plt.ylim([-4,4])"
   ]
  },
  {
   "cell_type": "code",
   "execution_count": 76,
   "metadata": {
    "collapsed": false
   },
   "outputs": [
    {
     "data": {
      "text/plain": [
       "1"
      ]
     },
     "execution_count": 76,
     "metadata": {},
     "output_type": "execute_result"
    }
   ],
   "source": [
    "from sympy import limit,sin\n",
    "\n",
    "limit(sin(x)/x,x,0)"
   ]
  },
  {
   "cell_type": "markdown",
   "metadata": {},
   "source": [
    "Example\n",
    "---\n",
    "\n",
    "$$\n",
    "\\lim\\limits_{x \\rightarrow 0} \\sin\\frac{ 1 }{x}=?\n",
    "$$\n",
    "\n",
    "\n"
   ]
  },
  {
   "cell_type": "code",
   "execution_count": 77,
   "metadata": {
    "collapsed": false
   },
   "outputs": [
    {
     "data": {
      "text/plain": [
       "<-1, 1>"
      ]
     },
     "execution_count": 77,
     "metadata": {},
     "output_type": "execute_result"
    }
   ],
   "source": [
    "limit(sin(1/x),x,0)"
   ]
  },
  {
   "cell_type": "code",
   "execution_count": 84,
   "metadata": {
    "collapsed": false
   },
   "outputs": [
    {
     "data": {
      "text/plain": [
       "(-1, 1)"
      ]
     },
     "execution_count": 84,
     "metadata": {},
     "output_type": "execute_result"
    },
    {
     "data": {
      "image/png": "[encoded data removed]",
      "text/plain": [
       "<matplotlib.figure.Figure at 0x10bf63358>"
      ]
     },
     "metadata": {},
     "output_type": "display_data"
    }
   ],
   "source": [
    "t=np.linspace(-0.2,0.2,600)\n",
    "f=np.sin(1/t)\n",
    "plt.plot(t,f)\n",
    "plt.plot(t,0*t,'k-')\n",
    "plt.plot([0,0],[-4,4],'k')\n",
    "\n",
    "plt.ylim([-1,1])"
   ]
  },
  {
   "cell_type": "markdown",
   "metadata": {},
   "source": [
    "Rules of finding limit\n",
    "---\n"
   ]
  },
  {
   "cell_type": "code",
   "execution_count": 86,
   "metadata": {
    "collapsed": false
   },
   "outputs": [
    {
     "data": {
      "text/plain": [
       "3"
      ]
     },
     "execution_count": 86,
     "metadata": {},
     "output_type": "execute_result"
    }
   ],
   "source": [
    "limit(2*x**3-4*x**2+3,x,2)"
   ]
  },
  {
   "cell_type": "code",
   "execution_count": 90,
   "metadata": {
    "collapsed": false
   },
   "outputs": [
    {
     "data": {
      "text/plain": [
       "32"
      ]
     },
     "execution_count": 90,
     "metadata": {},
     "output_type": "execute_result"
    }
   ],
   "source": [
    "limit((3*x**2+2*x+1)**5,x,-1)"
   ]
  },
  {
   "cell_type": "code",
   "execution_count": 91,
   "metadata": {
    "collapsed": false
   },
   "outputs": [
    {
     "data": {
      "text/plain": [
       "1/2"
      ]
     },
     "execution_count": 91,
     "metadata": {},
     "output_type": "execute_result"
    }
   ],
   "source": [
    "from sympy import sqrt\n",
    "limit((sqrt(1+x)-1)/x,x,0)"
   ]
  },
  {
   "cell_type": "code",
   "execution_count": 94,
   "metadata": {
    "collapsed": false
   },
   "outputs": [
    {
     "data": {
      "text/plain": [
       "0"
      ]
     },
     "execution_count": 94,
     "metadata": {},
     "output_type": "execute_result"
    }
   ],
   "source": [
    "from sympy import floor\n",
    "limit(floor(x),x,0)"
   ]
  },
  {
   "cell_type": "code",
   "execution_count": 97,
   "metadata": {
    "collapsed": false
   },
   "outputs": [
    {
     "data": {
      "text/plain": [
       "1"
      ]
     },
     "execution_count": 97,
     "metadata": {},
     "output_type": "execute_result"
    }
   ],
   "source": [
    "limit(sin(x)/x,x,0)"
   ]
  },
  {
   "cell_type": "code",
   "execution_count": 98,
   "metadata": {
    "collapsed": false
   },
   "outputs": [
    {
     "data": {
      "text/plain": [
       "2/3"
      ]
     },
     "execution_count": 98,
     "metadata": {},
     "output_type": "execute_result"
    }
   ],
   "source": [
    "limit(sin(2*x)/(3*x),x,0)"
   ]
  },
  {
   "cell_type": "code",
   "execution_count": 100,
   "metadata": {
    "collapsed": false
   },
   "outputs": [
    {
     "data": {
      "text/plain": [
       "0"
      ]
     },
     "execution_count": 100,
     "metadata": {},
     "output_type": "execute_result"
    }
   ],
   "source": [
    "from sympy import cos\n",
    "limit((1-cos(x))/x,x,0)"
   ]
  },
  {
   "cell_type": "code",
   "execution_count": 101,
   "metadata": {
    "collapsed": false
   },
   "outputs": [
    {
     "data": {
      "text/plain": [
       "1/2"
      ]
     },
     "execution_count": 101,
     "metadata": {},
     "output_type": "execute_result"
    }
   ],
   "source": [
    "limit((1-cos(x))/x**2,x,0)"
   ]
  },
  {
   "cell_type": "markdown",
   "metadata": {},
   "source": [
    "Squeeze Theorem\n",
    "---\n",
    "Suppose that $f(x)\\le g(x)\\le h(x)$ for all $x$ in an open interval around $a$, except possibly at $a$, then\n",
    "$$\n",
    "\\lim\\limits_{x\\rightarrow a}f(x)=\\lim\\limits_{x\\rightarrow a}h(x)=L\\Rightarrow \\lim\\limits_{x\\rightarrow a}g(x)=L\n",
    "$$"
   ]
  },
  {
   "cell_type": "code",
   "execution_count": 102,
   "metadata": {
    "collapsed": false
   },
   "outputs": [
    {
     "data": {
      "text/plain": [
       "0"
      ]
     },
     "execution_count": 102,
     "metadata": {},
     "output_type": "execute_result"
    }
   ],
   "source": [
    "limit(x*x*(sin(1/x)),x,0)"
   ]
  },
  {
   "cell_type": "code",
   "execution_count": 16,
   "metadata": {
    "collapsed": false
   },
   "outputs": [
    {
     "data": {
      "text/plain": [
       "<matplotlib.legend.Legend at 0x10a0e25c0>"
      ]
     },
     "execution_count": 16,
     "metadata": {},
     "output_type": "execute_result"
    },
    {
     "data": {
      "image/png": "[encoded data removed]",
      "text/plain": [
       "<matplotlib.figure.Figure at 0x10a075940>"
      ]
     },
     "metadata": {},
     "output_type": "display_data"
    }
   ],
   "source": [
    "plt.figure(figsize=(4,6))\n",
    "x=np.linspace(-0.5,.5,100)\n",
    "plt.plot(x,x*x*sin(1/x),label='$x^2/\\sin x$')\n",
    "plt.plot(x,x*x,'r-',label='$x^2$')\n",
    "plt.plot(x,-x*x,'r-',label='$-x^2$')\n",
    "plt.plot(x,0*x,'k-')\n",
    "plt.plot([0,0],[-0.6,0.6],'k')\n",
    "plt.ylim([-.6,.6])\n",
    "plt.xlim([-.5,.5])\n",
    "plt.legend()"
   ]
  },
  {
   "cell_type": "markdown",
   "metadata": {},
   "source": [
    "Theorem\n",
    "---\n",
    "$$\\lim\\limits_{\\theta\\to0}\\frac{\\sin \\theta}{\\theta}=1$$\n",
    "\n",
    "Example\n",
    "---\n",
    "1. $$\\lim\\limits_{\\theta\\to0}\\frac{\\sin 2\\theta}{3\\theta}=\\frac{2}{3}$$\n",
    "- $$\\lim\\limits_{\\theta\\to0}\\frac{\\tan \\theta}{\\theta}=1$$\n",
    "- $$\\lim\\limits_{\\theta\\to0}\\frac{\\cos \\theta-1}{\\theta}=0$$\n",
    "\n",
    "Homework\n",
    "---\n",
    "p. 101: \n",
    "\n",
    "1. (16) $$\\lim\\limits_{w\\to0}\\frac{\\sqrt{w+1}-\\sqrt{w^2+4}}{(w+2)^2-(w+1)^2}$$\n",
    "- (54) $$\\lim\\limits_{x\\to4}\\frac{x-4}{\\sqrt x -2}$$\n",
    "- (63) $$ \\lim\\limits_{x\\to2^-}(x-[x])$$\n",
    "- (76) $$\\lim\\limits_{x\\to0^-} \\sqrt{\\frac{\\tan x-\\sin x}{x^2}}$$\n",
    "- (92) The function\n",
    "   $$ f(x)=\\cases{1&\\text{ if } x \\text{ rational,}\\\\0&\\text{ if }x\\text{ irrational,}}$$\n",
    "   has no limit at any $x=a$."
   ]
  },
  {
   "cell_type": "markdown",
   "metadata": {},
   "source": [
    "1.3 Definition of Limit\n",
    "---\n",
    "\n",
    "Example\n",
    "---\n",
    "$$\\lim\\limits_{x\\to2}(2x-1)=3$$\n",
    "\n",
    "Example\n",
    "---\n",
    "$$ f(x)=\\cases{1&\\text{ if }x\\ge0,\\\\0&\\text{ if }x<0,}$$\n",
    "Then $\\lim\\limits_{x\\to0}f(x)$ does not exist.\n",
    "\n",
    "\n",
    "Properties of Limit\n",
    "---\n",
    "Suppose that $\\lim\\limits_{x \\rightarrow a}f (x) = L$ \n",
    "and $\\lim\\limits_{x \\rightarrow a}g (x) = M.$\n",
    "\n",
    "1. $\\lim\\limits_{x \\rightarrow a} L = L$ for any $a$ and $L$ in\n",
    "    $\\mathbb{R}$.\n",
    "- $\\lim\\limits_{x \\rightarrow a}x = a$\n",
    "- $\\lim\\limits_{x \\rightarrow a} f (x) \\pm g (x) = L \\pm M$\n",
    "- $\\lim\\limits_{x \\rightarrow a} f (x) g (x) = L M$\n",
    "- $\\lim\\limits_{x \\rightarrow a} f (x) / g (x) = L / M$ if $M \\neq\n",
    "    0$.\n",
    "- $\\lim\\limits_{x \\rightarrow a}\\sqrt[n]{x} = \\sqrt[n]{a}$, where\n",
    "    $n$ is odd and $x \\in \\mathbb{R}$ or $n$ is even and $x > 0$.\n",
    "\n",
    "\n",
    "\n",
    "\n",
    "\n",
    "\n",
    "\n",
    "Homework\n",
    "---\n",
    "p. 111: \n",
    "\n",
    "1. (6) Find $\\delta$ such that $$\\lim_{x\\to-2}\\frac{x^2-4}{x+2}=-4, \\epsilon=.005$$\n",
    "\n",
    "Answer:\n",
    "---\n",
    "For $0\\ne|x-(-2)|=|x+2|<\\delta$,\n",
    "\n",
    "\\begin{eqnarray}\n",
    "\\epsilon=0.005&>&\\left|\\frac{x^2-4}{x+2}-(-4)\\right|\\\\\n",
    " &=& \\left|{x-2}+4\\right|\\\\\n",
    " &=& \\left|x+2\\right|\\\\\n",
    " \\Rightarrow&& \\delta=0.005      \n",
    "\\end{eqnarray}\n",
    "\n",
    "\n",
    "- (26) Let\n",
    "$$ f(x)=\\cases{1&\\text{ if }x\\text{ rational,}\\\\-1&\\text{ if }x\\text{ irrational,}}$$\n",
    "Then $\\lim\\limits_{x\\to0}f(x)$ does not exist.\n",
    "\n",
    "Proof\n",
    "---\n",
    "Suppose that the limit exists and is equal to $L$. Then for $\\epsilon=|L|/2>0$, there is a $\\delta>0$ such that:\n",
    "$$\n",
    "|x-0|=|x|<\\delta\\Rightarrow |f(x)-L|<\\frac{|L|}{2}\n",
    "$$\n",
    "And the last result implies\n",
    "$$\n",
    "-\\frac{|L|}{2}<|f(x)|-|L|\\Rightarrow \\frac{|L|}{2}<|f(x)| \\hbox{ ( i.e.} f(x)\\ne0)\n",
    "$$\n",
    "However, it is contradict to the fact that\n",
    "$$ f(x)=0< \\frac{|L|}{2}$$\n",
    "for some irational, $x$, and $|x|<\\delta$."
   ]
  },
  {
   "cell_type": "markdown",
   "metadata": {},
   "source": [
    "1.4 Continuous Function\n",
    "---\n",
    "\n",
    "**Definition**\n",
    "$f (x)$ is continuous at point $a$, if the following hold:\n",
    "\n",
    "a) $f (a)$ is defined,\n",
    "\n",
    "b) $\\lim\\limits_{x \\rightarrow a} f (x)$ exists,\n",
    "\n",
    "c) $\\lim\\limits_{x \\rightarrow a} f (x) = f (a)$\n",
    "\n",
    "$f(x)$ is continuous on set $D$ if it is continuous for any $x\\in D$.\n",
    "\n",
    "Proberties of Continuity\n",
    "---\n",
    "Assume that $f (x)$ and $g (x)$ are continuous. Then\n",
    "1. $f (x) \\pm g (x)$ continuous;\n",
    "- $c f (x), f (x) \\cdot g (x)$ are continuous;\n",
    "-  $f (x) / g (x)$ is also continuous if $g (x) \\neq 0$.\n",
    "\n",
    "\n",
    "\n",
    "$\\varepsilon - \\delta$ Definition\n",
    "---\n",
    "$f (x)$ is continuous at $x = a$ means that\n",
    "$$ \n",
    "\\forall \\varepsilon, \\exists \\delta \\rightarrow |f (x) - f (a) | <\n",
    "   \\epsilon \\text{ if } 0 < |x - a| < \\delta \n",
    "$$   \n",
    "\n",
    "\n",
    "The Intermediate Theorem\n",
    "---\n",
    "If $f (x)$  is continuous on $[a, b]$ and $f (a)$ is not equal to $f (b)$.\n",
    "Then there exists at least one $c$ in the interval, such that $f (c) = k$ for\n",
    "each $k$ between $f (a)$ and $f (b)$. \n",
    "\n",
    "Example\n",
    "---\n",
    "  Suppose that\n",
    "$$ f (x) : [0, 1]  \\overset{\\text{cont}}{\\longrightarrow}  [0, 1] $$\n",
    "  Then there exists at least one $c$ such that $f (c) = c$.\n",
    "  \n",
    "Proof\n",
    "---\n",
    "  Let $F (x) = x - f (x)$,\n",
    "  \n",
    "  $F (x)$ is continuous on $[0, 1]$.\n",
    "  \\begin{eqnarray*}\n",
    "    F (0) & = & 0 - f (0) \\leqslant 0\\\\\n",
    "    F (1) & = & 1 - f (1) \\geqslant 0\n",
    "  \\end{eqnarray*}\n",
    "<img src=\"imgs/ch2p-13.png\" width=80% />  \n",
    "  \n",
    "  And\n",
    "$$ F (0) \\leqslant \\color{red}{0} \\leqslant F (1) $$\n",
    "  then  $\\exists c \\in [0, 1] \\rightarrow \\color{brown}{0 = F (c) = c - f\n",
    "  (c)} \\Rightarrow c = f (c)$.\n",
    "\n"
   ]
  },
  {
   "cell_type": "code",
   "execution_count": null,
   "metadata": {
    "collapsed": true
   },
   "outputs": [],
   "source": []
  },
  {
   "cell_type": "code",
   "execution_count": null,
   "metadata": {
    "collapsed": true
   },
   "outputs": [],
   "source": []
  }
 ],
 "metadata": {
  "kernelspec": {
   "display_name": "Python 3",
   "language": "python",
   "name": "python3"
  },
  "language_info": {
   "codemirror_mode": {
    "name": "ipython",
    "version": 3
   },
   "file_extension": ".py",
   "mimetype": "text/x-python",
   "name": "python",
   "nbconvert_exporter": "python",
   "pygments_lexer": "ipython3",
   "version": "3.5.2"
  }
 },
 "nbformat": 4,
 "nbformat_minor": 1
}
