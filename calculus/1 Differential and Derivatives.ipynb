{
 "cells": [
  {
   "cell_type": "markdown",
   "metadata": {},
   "source": [
    "Differentiation\n",
    "---"
   ]
  },
  {
   "cell_type": "markdown",
   "metadata": {},
   "source": [
    "Suppose that $f (x)$ is continuous on $[a, b]$ and let $P = (x_0, f (x_0))$\n",
    "and $Q = (x_0 + h, f (x_0 + h))$ on the graph of $f (x)$:\n",
    "<img src=\"imgs/1/ch3-1.png\" width=60% />\n",
    "Then the slope of $\\overset{\\longleftrightarrow}{P Q}$, secant line passing\n",
    "through $P$ and $Q$, is\n",
    "\n",
    "$$\n",
    "{m = \\lim\\limits_{h \\rightarrow 0} \\frac{f (x_0 + h) - f (x_0)}{h} }\n",
    "$$\n",
    "\n",
    "so called Newton quotient of $f (x)$ at $x = x_0$. If the limit of $m$ as $h$\n",
    "approaches $0$ exists, it is called the derivative of $f (x)$ at $x = x_0$,\n",
    "i.e. it is the slope of tangent line of $f (x)$ passing through $(x_0, f\n",
    "(x_0))$, and denoted as $f' (x_0)$. The process for finding derivative is\n",
    "called differentiation.\n"
   ]
  },
  {
   "cell_type": "code",
   "execution_count": 1,
   "metadata": {
    "collapsed": true
   },
   "outputs": [],
   "source": [
    "%matplotlib inline\n",
    "import numpy as np\n",
    "import matplotlib.pylab as plt"
   ]
  },
  {
   "cell_type": "code",
   "execution_count": 55,
   "metadata": {
    "collapsed": false
   },
   "outputs": [
    {
     "data": {
      "text/plain": [
       "(-3.0, 3.0, -2.0, 5.0)"
      ]
     },
     "execution_count": 55,
     "metadata": {},
     "output_type": "execute_result"
    },
    {
     "data": {
      "image/png": "[encoded data removed]",
      "text/plain": [
       "<matplotlib.figure.Figure at 0x10ba3ec18>"
      ]
     },
     "metadata": {},
     "output_type": "display_data"
    }
   ],
   "source": [
    "x=np.linspace(-2,2,101)\n",
    "plt.plot(x,x**2,\"-b\")\n",
    "plt.plot([0,2.5],[-1,4],'-r')\n",
    "plt.scatter([1],[1])\n",
    "plt.text(1.5,1,'$(x_0,f(x_0))$',size=14)\n",
    "plt.text(2.5,2,'slope=$f\\'(x_0)$')\n",
    "plt.title('tangent $y=f(x_0)+f\\'(x_0)(x-x_0)$',size=14)\n",
    "plt.axis(\"equal\")"
   ]
  },
  {
   "cell_type": "markdown",
   "metadata": {},
   "source": [
    "Remarks\n",
    "---\n",
    "There are several symbols for derivatives as follows:\n",
    "1. the derivatives value of $f (x)$ at $x = x_0$:\n",
    "    \n",
    "$$ f' (x_0) = \\left.\\frac{d}{d x} f (x) \\right|_{x = x_0} = \\frac{d}{d x} f (x_0) =\n",
    "D_x f (x_0) $$\n",
    "\n",
    "- the derivative of $f (x)$:\n",
    "    $$ f' (x_0) = \\frac{d}{d x} f (x) = D_x f (x) $$\n"
   ]
  },
  {
   "cell_type": "markdown",
   "metadata": {},
   "source": [
    "a). $|x|$ is differentiable everywhere except at $x=0$. <br>\n",
    "b). Neither $x^{1/3}$ nor $x^{2/3}$ are not differentiable at $x=0$."
   ]
  },
  {
   "cell_type": "markdown",
   "metadata": {},
   "source": [
    "Theorem\n",
    "---\n",
    "If $f(x)$ is differentiable at $x=a$, then $f(x)$ is continuous at $x=0$.\n",
    "\n",
    "Proof\n",
    "---\n",
    "\\begin{eqnarray}\n",
    "  \\lim\\limits_{x\\to a}|f(x)-f(a)|&=& \\lim\\limits_{x\\to a}\\left|\\frac{f(x)-f(a)}{x-a}\\right|\\cdot |x-a|\\\\\n",
    "  &=& |f'(a)|\\cdot0\\\\\n",
    "  &=& 0\n",
    "\\end{eqnarray}\n",
    "This means $\\lim\\limits_{x\\to a}f(x)=f(a)$, i.e. $f(x)$ is continuous at $x=a$."
   ]
  },
  {
   "cell_type": "markdown",
   "metadata": {},
   "source": [
    "Example\n",
    "---\n",
    "Suppose that\n",
    "$$ f (x) = \\left\\{ \\begin{array}{l}\n",
    "       x \\sin (1 / x) \\text{, if } x \\neq 0,\\\\\n",
    "       0, \\text{, if } x = 0\n",
    "     \\end{array} \\right. $$\n",
    "  Then $f (x)$ is continuous for any real number by the squeeze value theorem.\n",
    "  And the the derivative at $x = 0$, is as follows:\n",
    "  \\begin{eqnarray*}\n",
    "    f' (0) & = & \\lim_{h \\rightarrow 0} \\frac{f (h) - f (0)}{h}\\\\\n",
    "    & = & \\lim_{h \\rightarrow 0} \\frac{h \\sin (1 / h)}{h}\\\\\n",
    "    & = & \\lim_{h \\rightarrow 0} \\sin (1 / h)\n",
    "  \\end{eqnarray*}\n",
    "  This concludes that the limit fails to exist.\n"
   ]
  },
  {
   "cell_type": "markdown",
   "metadata": {},
   "source": [
    "Example\n",
    "---\n",
    "The derivative of sine function is derived as follows:\n",
    "\\begin{eqnarray*}\n",
    " (\\sin x)' & = & \\lim_{h \\rightarrow 0} \\frac{\\sin (x + h) - \\sin x}{h}\\\\\n",
    " & = & \\lim_{h \\rightarrow 0} \\frac{\\sin x \\cos h + \\cos x \\sin h - \\sin x}{h}\\\\\n",
    " & = & \\lim_{h \\rightarrow 0} \\left( \\sin x \\frac{\\cos h - 1}{h} + \\cos x \\frac{\\sin h}{h} \\right)\\\\\n",
    " & = & \\cos x\n",
    "\\end{eqnarray*}\n",
    "\n",
    "since $\\lim\\limits_{h \\rightarrow 0} \\frac{\\sin h}{h} = 1$ and\n",
    "  $\\lim\\limits_{h \\rightarrow 0} \\frac{\\cos h - 1}{h}$=0.\n"
   ]
  },
  {
   "cell_type": "markdown",
   "metadata": {},
   "source": [
    "Exercises, p153\n",
    "---\n",
    "\n",
    "(61). Let \n",
    "$$ f (x) = \\left\\{ \\begin{array}{l}\n",
    "   x^2 \\sin (1 / x) \\text{, if } x \\neq 0,\\\\\n",
    "   0, \\text{, if } x = 0,\n",
    "\\end{array} \\right. \n",
    "$$\n",
    "&nbsp;&nbsp;  a). $f(x)$ is differentiable at $x=0$ and $f'(0)=0$.<br>\n",
    "&nbsp;&nbsp;   b). Its image for $(x,y)\\in[-0.5,0.5]\\times[-0.1,0.1]$.\n",
    "\n",
    "**True or False**\n",
    "\n",
    "(66). If $f(x)$ is differentiable at $x=a$, and  $g(x)$ is not differentiable at $x=a$, then  $fg(x)$ is not differentiable at $x=a$. (**<code style=\"color:white\">False</code>**). <br>\n",
    "(67) If both $f(x)$  and  $g(x)$ are not differentiable at $x=a$, then  $fg(x)$ is not differentiable at $x=a$. (**<code style=\"color:white\">False</code>**). <br>\n",
    "(68) If both $f(x)$  and  $g(x)$ are not differentiable at $x=a$, then  $f+g$ is not differentiable at $x=a$. (**<code style=\"color:white\">False</code>**). <br>\n",
    "(69). The domain of $f'(x)$ is the same as $f(x)$.  (**<code style=\"color:white\">False</code>**). <br>\n",
    "(70). If $n\\in\\mathbb{N}$, the there exists a function $f$ such that $f$ is differentiable everywhere except at $n$ number. (**<code style=\"color:white\">True </code>**)."
   ]
  },
  {
   "cell_type": "code",
   "execution_count": 76,
   "metadata": {
    "collapsed": false
   },
   "outputs": [
    {
     "name": "stderr",
     "output_type": "stream",
     "text": [
      "/Users/cch/anaconda/lib/python3.5/site-packages/ipykernel/__main__.py:6: RuntimeWarning: divide by zero encountered in true_divide\n",
      "/Users/cch/anaconda/lib/python3.5/site-packages/ipykernel/__main__.py:6: RuntimeWarning: invalid value encountered in sin\n"
     ]
    },
    {
     "data": {
      "text/plain": [
       "(-0.60000000000000009,\n",
       " 0.60000000000000009,\n",
       " -0.30000000000000004,\n",
       " 0.30000000000000004)"
      ]
     },
     "execution_count": 76,
     "metadata": {},
     "output_type": "execute_result"
    },
    {
     "data": {
      "image/png": "[encoded data removed]",
      "text/plain": [
       "<matplotlib.figure.Figure at 0x10bfcec50>"
      ]
     },
     "metadata": {},
     "output_type": "display_data"
    }
   ],
   "source": [
    "from numpy import sin\n",
    "\n",
    "x=np.linspace(-0.5,0.5,101)\n",
    "\n",
    "plt.figure(figsize=(6,6))\n",
    "plt.plot(x,x*x*sin(1/x))\n",
    "plt.ylim(-0.5,0.5)\n",
    "plt.xlim(-0.5,0.5)\n",
    "plt.fill_between([-0.5,0.5,0.5,-0.5,-0.5],[-0.1,-0.1,0.1,0.1,-0.1],color=\"pink\")\n",
    "plt.axis(\"equal\")"
   ]
  },
  {
   "cell_type": "markdown",
   "metadata": {},
   "source": [
    "2.2 Rules of Differentiation\n",
    "---\n",
    "1. $(c)' = 0$ for any constant $c$.\n",
    "- $(x^n)' = n x^{n - 1}$ for $x > 0$ and $n \\in \\mathbb{R}$. Here, a\n",
    "    example for $n = - 1$:\n",
    "\n",
    "\\begin{eqnarray*}\n",
    " \\left(\\frac{1}{x}\\right)' & = & \\lim_{h \\rightarrow 0} \\frac{\\frac{1}{x + h} -\n",
    " \\frac{1}{x}}{h}\\\\\n",
    " & = & \\lim_{h \\rightarrow 0} \\frac{x - (x + h)}{x h (x + h)}\\\\\n",
    " & = & \\frac{- 1}{x^2}\n",
    "\\end{eqnarray*}\n",
    "\n",
    "- $(f \\pm g)' = f' \\pm g'$ ,    \n",
    "- $(f \\cdot g)' = f' g + g' f$,\n",
    "- $(f / g)' = (f' g - g' f) / g^2$ suppose that $g (x) \\neq 0$ for any\n",
    "    $x$,\n",
    "- (Power Rule) $(x^r)' = r x^{r - 1}$ for $r > 0$,\n",
    "- (Chain's Rule) $(f \\circ g)' = (f (g (x)))' = f' (g (x)) g' (x)$  \n",
    "$$\n",
    " (f (g (x)))' = \\frac{d f (g (x))}{\\color{red}{d\\not{g (x)}}} \\cdot\n",
    "     \\frac{{\\color{red}{d\\not{g (x)}}}}{d x}\n",
    "$$     \n",
    " The following diagram says everything about chain's rule:\n",
    "\n",
    "\\begin{eqnarray*}\n",
    "      \\begin{array}{ccccc}\n",
    "        &  &  &  & \\\\\n",
    "        & g(x) &  & f(u) & \\\\\n",
    "        x & \\longrightarrow & u=g(x) & \\longrightarrow & f(g(x))\\\\\n",
    "        & \\downarrow &  & \\downarrow & \\\\\n",
    "        & \\color{brown}{g'(x)} & \\times & \\color{brown}{f'(u)} & \\\\\n",
    "        &  & \\downarrow &  & \\\\\n",
    "        &  & \\color{brown}{f'(g(x))g'(x) }&  & \n",
    "      \\end{array} &  & \n",
    "\\end{eqnarray*}\n",
    "\n",
    "- $(\\sin x)' = \\cos x$, $(\\cos x)' = - \\sin x$, $(\\tan x)' = \\sec^2 x$, $(\\cot x)' = - \\csc^2 x$, $(\\sec x)' = \\sec x \\tan x$, $(\\csc x)' = - \\csc x \\cot x$;\n",
    "- (Logarithmic Rule):\n",
    "   - $(\\ln x)' = (\\log_e x)' = 1 / x$, where $\\ln (\\bullet)$ means\n",
    "      logarithm with base $e \\cong 2.71428 \\cdots$ where $e$, Euler number, is an irrational\n",
    "      number;\n",
    "   - $(\\log_a x)' = 1 / (x \\ln a)$ where $a > 0$;\n",
    "- (Exponential Rules):\n",
    "    - $(e^x)' = e^x$;\n",
    "    - $(a^x)' = a^x \\ln a$, where $a > 0$ and $a \\neq 1$."
   ]
  },
  {
   "cell_type": "markdown",
   "metadata": {},
   "source": [
    "Example\n",
    "---\n",
    "\n",
    "\\begin{eqnarray}\n",
    "\\left(\\frac{\\sin x}{1-\\cos x}\\right)'&=&\\frac{(\\sin x)'(1-\\cos x)-\\sin x (1-\\cos x)'}{(1-\\cos x)^2}\\\\\n",
    "  &=& \\frac{\\cos x(1-\\cos x)-\\sin x \\sin x}{(1-\\cos x)^2}\\\\\n",
    "  &=& \\frac{1}{\\cos x -1}\n",
    "\\end{eqnarray}\n"
   ]
  },
  {
   "cell_type": "markdown",
   "metadata": {},
   "source": [
    "Example\n",
    "---\n",
    "$\\left[(1 + x^2)^{100} \\right]' = 2 x \\cdot 100 (1 + x^2)^{99} = 200 x (1 + x^2)^{99}$\n",
    "    \n",
    "\\begin{eqnarray*}\n",
    " \\begin{array}{ccccc}\n",
    "  &  &  &  & \\\\\n",
    "  & 1 + x^2 &  & (\\cdot)^{100} & \\\\\n",
    "  x & \\longrightarrow & 1 + x^2 & \\longrightarrow & (1 + x^2)^{100}\\\\\n",
    "  & \\downarrow &  & \\downarrow & \\\\\n",
    "  & 2 x & \\cdot & 100 (\\cdot)^{99} & \\\\\n",
    "  &  & \\downarrow &  & \\\\\n",
    "  &  & 2 x \\cdot 100 (1 + x^2)^{99} &  & \n",
    " \\end{array} &  & \n",
    "\\end{eqnarray*}\n"
   ]
  },
  {
   "cell_type": "markdown",
   "metadata": {},
   "source": [
    "Example\n",
    "---\n",
    "$\\left(\\sin (x^2)\\right)' = 2 x \\cos x^2$\n",
    "    \n",
    "\\begin{array}{ccccc}\n",
    "  &  &  &  & \\\\\n",
    "  & x^2 &  & \\sin (\\cdot) & \\\\\n",
    "  x & \\longrightarrow & x^2 & \\longrightarrow & \\sin (x^2)\\\\\n",
    "  & \\downarrow &  & \\downarrow & \\\\\n",
    "  & 2 x & \\cdot & \\cos (\\cdot) & \\\\\n",
    "  &  & \\downarrow &  & \\\\\n",
    "  &  & 2 x \\cdot \\cos (x^2)^{} &  & \n",
    "\\end{array}\n",
    "    \n"
   ]
  },
  {
   "cell_type": "markdown",
   "metadata": {},
   "source": [
    "Example\n",
    "---\n",
    "$\\left(\\sin^2 x\\right)' = 2 \\sin x \\cos x$\n",
    "\n",
    "\\begin{array}{ccccc}\n",
    " &  &  &  & \\\\\n",
    " & \\sin x &  & (\\cdot)^2 & \\\\\n",
    " x & \\longrightarrow & \\sin x & \\longrightarrow & \\sin^2 (x)\\\\\n",
    " & \\downarrow &  & \\downarrow & \\\\\n",
    " & \\cos x & \\cdot & 2 (\\cdot) & \\\\\n",
    " &  & \\downarrow &  & \\\\\n",
    " &  & \\cos x \\cdot 2 (\\sin x)^{} &  & \n",
    "\\end{array}\n"
   ]
  },
  {
   "cell_type": "code",
   "execution_count": 30,
   "metadata": {
    "collapsed": true
   },
   "outputs": [],
   "source": [
    "from sympy import Symbol, diff,sin,cos,sqrt,pprint,Function,tan"
   ]
  },
  {
   "cell_type": "code",
   "execution_count": 26,
   "metadata": {
    "collapsed": false
   },
   "outputs": [],
   "source": [
    "x=Symbol(\"x\")\n",
    "u=Symbol(\"u\")\n",
    "def ChainRule(f,g):\n",
    "    u=Symbol(\"u\")\n",
    "    l1=diff(f,u)\n",
    "    l2=diff(g,x)\n",
    "    print(\"f'(g(x)) =\",l1*l2,\", where g(x) = u = \",g)"
   ]
  },
  {
   "cell_type": "markdown",
   "metadata": {},
   "source": [
    "Examples\n",
    "---\n",
    "Differentiate a) $\\sqrt{2x^2-1}$ b). $u=x^3+1, u^3-u^2+u+1$ c). $3\\cos x^2$"
   ]
  },
  {
   "cell_type": "code",
   "execution_count": 27,
   "metadata": {
    "collapsed": false
   },
   "outputs": [
    {
     "name": "stdout",
     "output_type": "stream",
     "text": [
      "f'(g(x)) = 2*x/sqrt(u) , where g(x) = u =  2*x**2 - 1\n"
     ]
    }
   ],
   "source": [
    "ChainRule(sqrt(u),2*x*x-1)"
   ]
  },
  {
   "cell_type": "code",
   "execution_count": 28,
   "metadata": {
    "collapsed": false
   },
   "outputs": [
    {
     "name": "stdout",
     "output_type": "stream",
     "text": [
      "f'(g(x)) = 3*x**2*(3*u**2 - 2*u + 1) , where g(x) = u =  x**3 + 1\n"
     ]
    }
   ],
   "source": [
    "ChainRule(u*u*u-u*u+u+1,x*x*x+1)"
   ]
  },
  {
   "cell_type": "code",
   "execution_count": 29,
   "metadata": {
    "collapsed": false
   },
   "outputs": [
    {
     "name": "stdout",
     "output_type": "stream",
     "text": [
      "f'(g(x)) = -6*x*sin(u) , where g(x) = u =  x**2\n"
     ]
    }
   ],
   "source": [
    "ChainRule(3*cos(u),x*x)"
   ]
  },
  {
   "cell_type": "code",
   "execution_count": 31,
   "metadata": {
    "collapsed": false
   },
   "outputs": [
    {
     "name": "stdout",
     "output_type": "stream",
     "text": [
      "f'(g(x)) = 6*x*(3*tan(u)**2 + 3)*tan(u)**2 , where g(x) = u =  3*x**2 + 1\n"
     ]
    }
   ],
   "source": [
    "ChainRule(tan(u)*tan(u)*tan(u),3*x*x+1)"
   ]
  },
  {
   "cell_type": "markdown",
   "metadata": {},
   "source": [
    "Example\n",
    "---\n",
    "Find the tangent line of $f(x)=x^2\\sin 3x$ at $x=\\pi/2$\n",
    "\n",
    "a). $\\left.(x^2\\sin 3x)'=2x\\sin(3x)+x^2\\cdot 3\\cos 3x\\right|_{\\quad x=\\pi/2}=-\\pi$<br>\n",
    "b). $f(\\pi/2)=-\\pi^2/4$<br>\n",
    "c). tangent line: $\\left(y-f(\\pi/2)\\right)=f'(\\pi/2)(x-\\pi/2)$, i.e. $y+\\pi^2/4=-\\pi(x-\\pi/2)$"
   ]
  },
  {
   "cell_type": "code",
   "execution_count": 46,
   "metadata": {
    "collapsed": false
   },
   "outputs": [
    {
     "data": {
      "text/plain": [
       "<matplotlib.text.Text at 0x10bbc6ef0>"
      ]
     },
     "execution_count": 46,
     "metadata": {},
     "output_type": "execute_result"
    },
    {
     "data": {
      "image/png": "[encoded data removed]",
      "text/plain": [
       "<matplotlib.figure.Figure at 0x10addc3c8>"
      ]
     },
     "metadata": {},
     "output_type": "display_data"
    }
   ],
   "source": [
    "from numpy import pi,sin\n",
    "x=np.linspace(0,pi,101)\n",
    "plt.plot(x,x*x*sin(3*x))\n",
    "t=x[20:-20]\n",
    "f=-pi*t+pi*pi/4\n",
    "plt.plot(t,f,color='red')\n",
    "plt.scatter([pi/2],[-pi*pi/4])\n",
    "plt.text(1.1,-1,'$(\\pi/2,-\\pi^2/4)$',size=14)\n",
    "plt.text(1,-5,'$y=-\\pi x+\\pi^2/4$',size=14,color='red')"
   ]
  },
  {
   "cell_type": "markdown",
   "metadata": {},
   "source": [
    "Example\n",
    "---\n",
    "Differentiate the following function, $x^x$.\n",
    "\n",
    "<font color=\"red\">**Right or Wrong**</font>\n",
    "- If it is a power function, then $ (x^x)' = x x^{x - 1} = x^x$;\n",
    "- If it is an exponential function, then $(x^x)' = x^x \\ln x$.\n",
    "  \n",
    "But it is neither power function nor exponential function. Then we have to\n",
    "  modify it to be one of them. As well known, $2 = \\begin{array}{c}\n",
    "    10\n",
    "  \\end{array}^{\\log_{10} 2}$, then\n",
    "\n",
    "\\begin{eqnarray*}\n",
    " & x^x = e^{x \\log_e x} & = e^{x \\ln x}\n",
    "\\end{eqnarray*}\n",
    "  \n",
    "Then\n",
    "  \n",
    "\\begin{array}{ccccc}\n",
    " &  &  &  & \\\\\n",
    " & x \\ln x &  & e^{(\\cdot)} & \\\\\n",
    " x & \\longrightarrow & x \\ln x & \\longrightarrow & e^{x \\ln x}\\\\\n",
    " & \\downarrow &  & \\downarrow & \\\\\n",
    " & \\ln x + 1 & \\cdot & e^{(\\cdot)} & \\\\\n",
    " &  & (\\ln x + 1) \\cdot e^{x \\ln x} &  & \n",
    "\\end{array}\n",
    "  \n",
    "  i.e. $(x^x)'=(1 + \\ln x) x^x$.\n"
   ]
  },
  {
   "cell_type": "markdown",
   "metadata": {},
   "source": [
    "Higher-order Derivatives\n",
    "---\n",
    "Suppose that $f(x)$ is smooth function; the second order derivative is defined as follows:\n",
    "$$ f'' (x) = \\frac{d^2}{d x^2} f (x)  = D_x^2 f (x) =\\frac{d}{d x} f'(x) $$\n",
    "And the more higher order derivatives, ($n$-th)-order for instance, are defined by the recurive formula:\n",
    "\\begin{eqnarray}\n",
    " f^{(3)}(x)&=& \\frac{d^3}{d x^3} f (x)  = D_x^3 f (x)=  \\frac{d}{d x} f'' (x) \\\\\n",
    " &\\vdots&\\\\\n",
    " f^{(n)} (x) &=& \\frac{d^n}{d x^n} f (x)  = D_x^n f (x)=  \\frac{d}{d x} f^{(n-1)} (x) \n",
    "\\end{eqnarray} \n"
   ]
  },
  {
   "cell_type": "markdown",
   "metadata": {},
   "source": [
    "Example\n",
    "---\n",
    "Investigate the derivatives of $f (x) = x^2 \\sin x$.\n",
    "  \n",
    "**Sol:**\n",
    "  \n",
    " The first order of derivative is:\n",
    "\\begin{eqnarray*}\n",
    " f' (x) & = & (x^2 \\sin x)'\\\\\n",
    " & = & (x^2)' \\sin x + x^2 (\\sin x)'\\\\\n",
    " & = & 2 x \\sin x + x^2 \\cos x\n",
    "\\end{eqnarray*}\n",
    "And the second order derivative is:\n",
    "\\begin{eqnarray*}\n",
    "  f'' (x) & = & (x^2 \\sin x)'' \\\\\n",
    "  & = & (2 x \\sin x + x^2 \\cos x)'\\\\\n",
    "  & = & (2 x)' \\sin x + 2 x (\\sin x)' + (x^2)' \\cos x + x^2 (\\cos x)'\\\\\n",
    "  & = & 2 \\sin x + 2 x \\cos x + 2 x \\cos x - x^2 \\sin x\\\\\n",
    "  & = & 2 \\sin x + 4 x \\cos x - x^2 \\sin x\n",
    "\\end{eqnarray*}\n",
    "Exactly, the last result is equal to the following:\n",
    "$$\n",
    "C (2, 0) (x^2)'' \\sin x + C (2, 1) (x^2)' (\\sin x)' + C (2, 2) x^2 (\\sin\n",
    "     x)'' \n",
    "$$\n",
    "where $C (n, k) = n! / k! (n - k)$! and $n! = 1 \\cdot 2 \\cdot 3\n",
    "  \\cdots n$, the factorial of $n$. \n",
    "  \n",
    "This relation can be extended to the more higher differentiation:\n",
    "\n",
    "\\begin{eqnarray*}\n",
    "  f^{(n)} & = & (x^2 \\sin x)^{(n)}\\\\\n",
    "  & = & C (n, 2) (x^2)'' (\\sin x)^{(n - 2)} + C (n, 1) (x^2)' (\\sin x)^{(n- 1)} + C (n, 0) x^2 (\\sin x)^{(n)}\\\\\n",
    "  & = & n (n - 1) (\\sin x)^{(n - 2)} + 2 n x (\\sin x)^{(n - 1)} + x^2 (\\sin x)^{(n)}\n",
    "\\end{eqnarray*}\n",
    "\n",
    "By the last result, the derivative of $10$-th order is\n",
    "$$ f^{(10)} (x) = 90 \\sin x + 20 x \\cos x - x^2 \\sin x $$\n",
    "  \n"
   ]
  },
  {
   "cell_type": "markdown",
   "metadata": {},
   "source": [
    "Differention with Sympy\n",
    "---"
   ]
  },
  {
   "cell_type": "code",
   "execution_count": 21,
   "metadata": {
    "collapsed": true
   },
   "outputs": [],
   "source": [
    "from sympy import Symbol, diff,sin,cos,exp,pi,pprint,Abs\n",
    "x=Symbol(\"x\")"
   ]
  },
  {
   "cell_type": "code",
   "execution_count": 6,
   "metadata": {
    "collapsed": true
   },
   "outputs": [],
   "source": [
    "x=Symbol(\"x\")\n"
   ]
  },
  {
   "cell_type": "code",
   "execution_count": 3,
   "metadata": {
    "collapsed": false
   },
   "outputs": [
    {
     "data": {
      "text/plain": [
       "-x**2*sin(x) + 20*x*cos(x) + 90*sin(x)"
      ]
     },
     "execution_count": 3,
     "metadata": {},
     "output_type": "execute_result"
    }
   ],
   "source": [
    "diff(x*x*sin(x),x,10)"
   ]
  },
  {
   "cell_type": "code",
   "execution_count": 4,
   "metadata": {
    "collapsed": false
   },
   "outputs": [
    {
     "name": "stdout",
     "output_type": "stream",
     "text": [
      "1). the 1-order derivative is: \n",
      " 2                    \n",
      "x ⋅cos(x) + 2⋅x⋅sin(x)\n",
      "\n",
      "\n",
      "2). the 2-order derivative is: \n",
      "   2                               \n",
      "- x ⋅sin(x) + 4⋅x⋅cos(x) + 2⋅sin(x)\n",
      "\n",
      "\n",
      "3). the 3-order derivative is: \n",
      "   2                               \n",
      "- x ⋅cos(x) - 6⋅x⋅sin(x) + 6⋅cos(x)\n",
      "\n",
      "\n",
      "4). the 4-order derivative is: \n",
      " 2                                \n",
      "x ⋅sin(x) - 8⋅x⋅cos(x) - 12⋅sin(x)\n",
      "\n",
      "\n",
      "5). the 5-order derivative is: \n",
      " 2                                 \n",
      "x ⋅cos(x) + 10⋅x⋅sin(x) - 20⋅cos(x)\n",
      "\n",
      "\n",
      "6). the 6-order derivative is: \n",
      "   2                                 \n",
      "- x ⋅sin(x) + 12⋅x⋅cos(x) + 30⋅sin(x)\n",
      "\n",
      "\n",
      "7). the 7-order derivative is: \n",
      "   2                                 \n",
      "- x ⋅cos(x) - 14⋅x⋅sin(x) + 42⋅cos(x)\n",
      "\n",
      "\n",
      "8). the 8-order derivative is: \n",
      " 2                                 \n",
      "x ⋅sin(x) - 16⋅x⋅cos(x) - 56⋅sin(x)\n",
      "\n",
      "\n",
      "9). the 9-order derivative is: \n",
      " 2                                 \n",
      "x ⋅cos(x) + 18⋅x⋅sin(x) - 72⋅cos(x)\n",
      "\n",
      "\n",
      "10). the 10-order derivative is: \n",
      "   2                                 \n",
      "- x ⋅sin(x) + 20⋅x⋅cos(x) + 90⋅sin(x)\n",
      "\n",
      "\n"
     ]
    }
   ],
   "source": [
    "for i in range(1,11):\n",
    "    print(\"%d). the %d-order derivative is: \" %(i,i))\n",
    "    pprint(diff(x*x*sin(x),x,i))\n",
    "    print(\"\\n\")"
   ]
  },
  {
   "cell_type": "code",
   "execution_count": 11,
   "metadata": {
    "collapsed": false
   },
   "outputs": [],
   "source": [
    "u=Symbol(\"u\")\n",
    "def ChainRule(f,g):\n",
    "    u=Symbol(\"u\")\n",
    "    l1=diff(f,u).subs({u:g})\n",
    "    l2=diff(g,x)\n",
    "    print(\"f'(g(x)) =\",l1*l2,\", where u = \",g)"
   ]
  },
  {
   "cell_type": "code",
   "execution_count": 24,
   "metadata": {
    "collapsed": false
   },
   "outputs": [],
   "source": [
    "u=Symbol(\"u\")\n",
    "def ChainRule2(f,g):\n",
    "    u=Symbol(\"u\")\n",
    "    l1=diff(f,u).subs({u:g})\n",
    "    l2=diff(g,x)\n",
    "    print(\"(f(g(x)))' =\",l1*l2,\", \\nwhere f(u) = \",f, \" and u = g = \",g)"
   ]
  },
  {
   "cell_type": "code",
   "execution_count": 48,
   "metadata": {
    "collapsed": true
   },
   "outputs": [],
   "source": [
    "u=Symbol(\"u\")\n",
    "def ChainRule3(f,g):\n",
    "    u=Symbol(\"u\")\n",
    "    fu=diff(f,u)\n",
    "    fx=diff(f,u).subs({u:g})\n",
    "    gx=diff(g,x)\n",
    "    fg=f.subs({u:g})\n",
    "    print(\"   \",g,\"\\t\",f,\"\\n\", \\\n",
    "          \"x\",\"  ⟶  \",g,\"   ⟶   \",fg, \"\\n\",\\\n",
    "          \"     ↓     ×       ↓\", \"\\n\",\\\n",
    "          \"   \",gx,\"\\t\",fu,\"\\n\",\\\n",
    "          \"           ↓    \\n\", \\\n",
    "          \"     \", gx*fx\n",
    "         )\n",
    "    #print(\"(f(g(x)))' =\",l1*l2,\", \\nwhere f(u) = \",f, \" and u = g = \",g)"
   ]
  },
  {
   "cell_type": "code",
   "execution_count": null,
   "metadata": {
    "collapsed": true
   },
   "outputs": [],
   "source": []
  },
  {
   "cell_type": "code",
   "execution_count": 23,
   "metadata": {
    "collapsed": false
   },
   "outputs": [],
   "source": [
    "u=Symbol(\"u\")\n",
    "def ChainRule3(f,g):\n",
    "    \"\"\"\n",
    "    Differentiate f(g(x))\n",
    "    f=f(u)\n",
    "    g=u=g(x)\n",
    "    e.g. (sin(x**2+1))' uses\n",
    "    ChainRule3(sin(u),x**2)\n",
    "    \"\"\"\n",
    "    u=Symbol(\"u\")\n",
    "    fu=str(diff(f,u))\n",
    "    fx=str(diff(f,u).subs({u:g}))\n",
    "    gx=str(diff(g,x))\n",
    "    fgx= str(diff(g,x)*diff(f,u).subs({u:g}))\n",
    "    gfunc=str(g)\n",
    "    ffunc0=str(f)\n",
    "    ffunc=str(f.subs({u:g}))\n",
    "    print('{:3}'.format(\" \"),'{:10.8}'.format(gfunc),'{:12}'.format(\" \"),'{:8.8}'.format(ffunc0))\n",
    "    print('{:3}'.format(\"x\"),'{:4}'.format(\"⟶\"),'u =','{:12}'.format(gfunc),\n",
    "          '{:5}'.format(\"⟶\"),'{:12}'.format(ffunc))\n",
    "    print('{:3}'.format(\" \"),'{:20}'.format(\"↓\"),'{:2}'.format(\" \"),\"↓\")\n",
    "    print('{:3}'.format(\" \"),'{:10.8}'.format(gx),'{:8}'.format(\" × \"),'{:2}'.format(\" \"),'{:8}'.format(fu))\n",
    "    print('{:15}'.format(\" \"),\"↓\")\n",
    "    print('(',ffunc,\")'=\",'{:15}'.format(fgx))\n"
   ]
  },
  {
   "cell_type": "code",
   "execution_count": 24,
   "metadata": {
    "collapsed": true
   },
   "outputs": [],
   "source": [
    "?ChainRule3"
   ]
  },
  {
   "cell_type": "code",
   "execution_count": 53,
   "metadata": {
    "collapsed": false
   },
   "outputs": [
    {
     "name": "stdout",
     "output_type": "stream",
     "text": [
      "f'(g(x)) = 2*sin(x)*cos(x) , where u =  sin(x)\n"
     ]
    }
   ],
   "source": [
    "ChainRule(u**2,sin(x))"
   ]
  },
  {
   "cell_type": "code",
   "execution_count": 54,
   "metadata": {
    "collapsed": false
   },
   "outputs": [
    {
     "name": "stdout",
     "output_type": "stream",
     "text": [
      "(f(g(x)))' = 2*x*cos(x**2) , \n",
      "where f(u) =  sin(u)  and u = g =  x**2\n"
     ]
    }
   ],
   "source": [
    "ChainRule2(sin(u),x**2)"
   ]
  },
  {
   "cell_type": "code",
   "execution_count": 16,
   "metadata": {
    "collapsed": false
   },
   "outputs": [
    {
     "name": "stdout",
     "output_type": "stream",
     "text": [
      "    x**2                    sin(u)  \n",
      "x   ⟶    u = x**2         ⟶     sin(x**2)   \n",
      "    ↓                       ↓\n",
      "    2*x         ×          cos(u)  \n",
      "                ↓\n",
      "( sin(x**2) )'= 2*x*cos(x**2)  \n"
     ]
    }
   ],
   "source": [
    "ChainRule3(sin(u),x**2)"
   ]
  },
  {
   "cell_type": "code",
   "execution_count": 17,
   "metadata": {
    "collapsed": false
   },
   "outputs": [
    {
     "name": "stdout",
     "output_type": "stream",
     "text": [
      "    cos(x)                  u**2    \n",
      "x   ⟶    u = cos(x)       ⟶     cos(x)**2   \n",
      "    ↓                       ↓\n",
      "    -sin(x)     ×          2*u     \n",
      "                ↓\n",
      "( cos(x)**2 )'= -2*sin(x)*cos(x)\n"
     ]
    }
   ],
   "source": [
    "ChainRule3(u**2,cos(x))"
   ]
  },
  {
   "cell_type": "code",
   "execution_count": 18,
   "metadata": {
    "collapsed": false
   },
   "outputs": [
    {
     "name": "stdout",
     "output_type": "stream",
     "text": [
      "    x**2 + x                sin(u)  \n",
      "x   ⟶    u = x**2 + x     ⟶     sin(x**2 + x)\n",
      "    ↓                       ↓\n",
      "    2*x + 1     ×          cos(u)  \n",
      "                ↓\n",
      "( sin(x**2 + x) )'= (2*x + 1)*cos(x**2 + x)\n"
     ]
    }
   ],
   "source": [
    "ChainRule3(sin(u),x**2+x)"
   ]
  },
  {
   "cell_type": "code",
   "execution_count": 20,
   "metadata": {
    "collapsed": false
   },
   "outputs": [
    {
     "name": "stdout",
     "output_type": "stream",
     "text": [
      "    x**2 + x                -cos(u) \n",
      "x   ⟶    u = x**2 + x     ⟶     -cos(x**2 + x)\n",
      "    ↓                       ↓\n",
      "    2*x + 1     ×          sin(u)  \n",
      "                ↓\n",
      "( -cos(x**2 + x) )'= (2*x + 1)*sin(x**2 + x)\n"
     ]
    }
   ],
   "source": [
    "ChainRule3(cos(pi-u),x**2+x)"
   ]
  },
  {
   "cell_type": "markdown",
   "metadata": {},
   "source": [
    "Exercise, p190\n",
    "---\n"
   ]
  },
  {
   "cell_type": "markdown",
   "metadata": {},
   "source": [
    "(20).\n",
    "\n",
    "\\begin{eqnarray}\n",
    "\\left(\\frac{1-\\tan x}{1+\\cot x}\\right)'&=&\\frac{(1-\\tan x)'(1+\\cot x)-(1-\\tan x) (1+\\cot x)'}{(1+\\cot x)^2}\\\\\n",
    "  &=& \\color{white}{\\frac{-\\sec^2 x(1+\\cot x)-(1-\\tan x) (-\\csc^2x)}{(1+\\cot x)^2}}\\\\\n",
    "\\end{eqnarray}\n",
    "\n"
   ]
  },
  {
   "cell_type": "markdown",
   "metadata": {},
   "source": [
    "(48).\n",
    "\n",
    "\\begin{eqnarray}\n",
    "\\lim\\limits_{h\\to0}\\frac{\\frac{1}{\\sin(x+h)}-\\frac{1}{\\sin x }}{h}&=&\\lim\\limits_{h\\to0}\\frac{\\csc(x+h)-\\csc x }{h}\\\\\n",
    "  &=& \\color{white}{(\\csc x)'=-\\csc x \\cot x}\\\\\n",
    "\\end{eqnarray}\n"
   ]
  },
  {
   "cell_type": "markdown",
   "metadata": {},
   "source": [
    "Exercise, p201\n",
    "---\n"
   ]
  },
  {
   "cell_type": "code",
   "execution_count": 57,
   "metadata": {
    "collapsed": true
   },
   "outputs": [],
   "source": [
    "from sympy import diff, Symbol,symbols,sin,cos"
   ]
  },
  {
   "cell_type": "code",
   "execution_count": 58,
   "metadata": {
    "collapsed": true
   },
   "outputs": [],
   "source": [
    "x,t=symbols(\" x t\")"
   ]
  },
  {
   "cell_type": "code",
   "execution_count": 60,
   "metadata": {
    "collapsed": false
   },
   "outputs": [
    {
     "name": "stdout",
     "output_type": "stream",
     "text": [
      "        3              \n",
      "     4⋅x         2⋅x   \n",
      "- ───────── + ─────────\n",
      "          3           2\n",
      "  ⎛ 2    ⎞    ⎛ 2    ⎞ \n",
      "  ⎝x  + 3⎠    ⎝x  + 3⎠ \n"
     ]
    }
   ],
   "source": [
    "# 12\n",
    "pprint(diff(((x*x+3)/x)**(-2),x))"
   ]
  },
  {
   "cell_type": "code",
   "execution_count": 63,
   "metadata": {
    "collapsed": false
   },
   "outputs": [
    {
     "name": "stdout",
     "output_type": "stream",
     "text": [
      "                  3             2\n",
      "(-4⋅t - 4)⋅(t + 1)     3⋅(t + 1) \n",
      "─────────────────── + ───────────\n",
      "              3                 2\n",
      "    ⎛ 2      ⎞        ⎛ 2      ⎞ \n",
      "    ⎝t  + 2⋅t⎠        ⎝t  + 2⋅t⎠ \n"
     ]
    }
   ],
   "source": [
    "#24\n",
    "pprint(diff((t+1)**3/(t**2+2*t)**2,t))"
   ]
  },
  {
   "cell_type": "code",
   "execution_count": 65,
   "metadata": {
    "collapsed": false
   },
   "outputs": [
    {
     "name": "stdout",
     "output_type": "stream",
     "text": [
      "f'(g(x)) = 3*u**2*cos(x) , where u =  sin(x)\n"
     ]
    }
   ],
   "source": [
    "#29\n",
    "ChainRule(u**3,sin(x))"
   ]
  },
  {
   "cell_type": "code",
   "execution_count": 22,
   "metadata": {
    "collapsed": false
   },
   "outputs": [
    {
     "name": "stdout",
     "output_type": "stream",
     "text": [
      "    sin(x)                  u**3    \n",
      "x   ⟶    u = sin(x)       ⟶     sin(x)**3   \n",
      "    ↓                       ↓\n",
      "    cos(x)      ×          3*u**2  \n",
      "                ↓\n",
      "( sin(x)**3 )'= 3*sin(x)**2*cos(x)\n"
     ]
    }
   ],
   "source": [
    "#29\n",
    "ChainRule3(u**3,sin(x))"
   ]
  },
  {
   "cell_type": "code",
   "execution_count": 66,
   "metadata": {
    "collapsed": false
   },
   "outputs": [
    {
     "name": "stdout",
     "output_type": "stream",
     "text": [
      "f'(g(x)) = -3*x**2*sin(u) , where u =  x**3\n"
     ]
    }
   ],
   "source": [
    "#36\n",
    "ChainRule(cos(u),x**3)"
   ]
  },
  {
   "cell_type": "code",
   "execution_count": 19,
   "metadata": {
    "collapsed": false
   },
   "outputs": [
    {
     "name": "stdout",
     "output_type": "stream",
     "text": [
      "    x**3                    cos(u)  \n",
      "x   ⟶    u = x**3         ⟶     cos(x**3)   \n",
      "    ↓                       ↓\n",
      "    3*x**2      ×          -sin(u) \n",
      "                ↓\n",
      "( cos(x**3) )'= -3*x**2*sin(x**3)\n"
     ]
    }
   ],
   "source": [
    "#36\n",
    "ChainRule3(cos(u),x**3)"
   ]
  },
  {
   "cell_type": "code",
   "execution_count": 67,
   "metadata": {
    "collapsed": false
   },
   "outputs": [
    {
     "name": "stdout",
     "output_type": "stream",
     "text": [
      "            ⎛1⎞\n",
      "         cos⎜─⎟\n",
      "   ⎛1⎞      ⎝x⎠\n",
      "sin⎜─⎟ - ──────\n",
      "   ⎝x⎠     x   \n"
     ]
    }
   ],
   "source": [
    "#44\n",
    "pprint(diff(x*sin(1/x),x))"
   ]
  },
  {
   "cell_type": "code",
   "execution_count": 68,
   "metadata": {
    "collapsed": false
   },
   "outputs": [
    {
     "name": "stdout",
     "output_type": "stream",
     "text": [
      "    ⎛1⎞ \n",
      "-sin⎜─⎟ \n",
      "    ⎝x⎠ \n",
      "────────\n",
      "    3   \n",
      "   x    \n"
     ]
    }
   ],
   "source": [
    "#60\n",
    "pprint(diff(x*sin(1/x),x,2))"
   ]
  },
  {
   "cell_type": "markdown",
   "metadata": {},
   "source": [
    "(77). Find the derivative of \n",
    "$$\\frac{|x|}{\\sqrt{2-x^2}}$$\n",
    "for $x\\ne0$ and make its picture (like bullet-nose)."
   ]
  },
  {
   "cell_type": "code",
   "execution_count": 19,
   "metadata": {
    "collapsed": false
   },
   "outputs": [
    {
     "data": {
      "text/plain": [
       "(0, 10)"
      ]
     },
     "execution_count": 19,
     "metadata": {},
     "output_type": "execute_result"
    },
    {
     "data": {
      "image/png": "[encoded data removed]",
      "text/plain": [
       "<matplotlib.figure.Figure at 0x1086b9128>"
      ]
     },
     "metadata": {},
     "output_type": "display_data"
    }
   ],
   "source": [
    "from numpy import abs,sqrt\n",
    "epsilon=1e-6\n",
    "x=np.linspace(-sqrt(2)+epsilon,sqrt(2)-epsilon,101)\n",
    "plt.plot(x,abs(x)/sqrt(2-x*x))\n",
    "plt.ylim(0,10)"
   ]
  },
  {
   "cell_type": "markdown",
   "metadata": {},
   "source": [
    "(99).\n",
    "---\n",
    "Suppose that\n",
    "$$ f (x) = \\left\\{ \\begin{array}{ll}\n",
    "  x^2 \\sin (1 / x), &\\text{ if } x \\neq 0,\\\\\n",
    "  0, &\\text{ if } x = 0\n",
    "\\end{array} \\right. $$\n",
    "\n",
    "a). For $x\\ne0$,\n",
    "$$ f'(x)= 2x\\sin(1/x)+x^2\\cdot (-1/x^2)\\cos(1/x)=2x\\sin(1/x)-\\cos(1/x)$$\n",
    "b). If $x=0$, then\n",
    "$$ f'(0)=\\lim\\limits_{x\\to0}\\frac{x^2 \\sin (1 / x)-0}{x}=0$$\n",
    "by squeeze value theorem. Thus\n",
    "$$\n",
    "f '(x) = \\left\\{ \\begin{array}{ll}\n",
    " 2x\\sin(1/x)-\\cos(1/x), &\\text{ if } x \\neq 0,\\\\\n",
    "  0, &\\text{ if } x = 0\n",
    "\\end{array} \\right. \n",
    "$$\n",
    "\n",
    "c). For $x\\ne0$,\n",
    "$$ f''(x)= \\left( 2x\\sin(1/x)-\\cos(1/x) \\right)'=2\\sin(1/x)-\\frac{2\\cos(1/x)}{x}-\\frac{\\sin(1/x)}{x^2}$$\n",
    "d). but $f''(0)$ fails to exist since the limit\n",
    "$$ f''(0)=\\lim\\limits_{x\\to0}\\frac{2x\\sin(1/x)-\\cos(1/x)}{x}$$\n",
    "doesn't exist."
   ]
  },
  {
   "cell_type": "code",
   "execution_count": 70,
   "metadata": {
    "collapsed": false
   },
   "outputs": [
    {
     "name": "stdout",
     "output_type": "stream",
     "text": [
      "       ⎛1⎞      ⎛1⎞\n",
      "2⋅x⋅sin⎜─⎟ - cos⎜─⎟\n",
      "       ⎝x⎠      ⎝x⎠\n"
     ]
    }
   ],
   "source": [
    "pprint(diff(x**2*sin(1/x),x))"
   ]
  },
  {
   "cell_type": "code",
   "execution_count": 69,
   "metadata": {
    "collapsed": false
   },
   "outputs": [
    {
     "name": "stdout",
     "output_type": "stream",
     "text": [
      "                ⎛1⎞      ⎛1⎞\n",
      "           2⋅cos⎜─⎟   sin⎜─⎟\n",
      "     ⎛1⎞        ⎝x⎠      ⎝x⎠\n",
      "2⋅sin⎜─⎟ - ──────── - ──────\n",
      "     ⎝x⎠      x          2  \n",
      "                        x   \n"
     ]
    }
   ],
   "source": [
    "pprint(diff(x**2*sin(1/x),x,2))"
   ]
  },
  {
   "cell_type": "code",
   "execution_count": 75,
   "metadata": {
    "collapsed": false
   },
   "outputs": [
    {
     "name": "stderr",
     "output_type": "stream",
     "text": [
      "/Users/cch/anaconda/lib/python3.5/site-packages/ipykernel/__main__.py:4: RuntimeWarning: divide by zero encountered in true_divide\n",
      "/Users/cch/anaconda/lib/python3.5/site-packages/ipykernel/__main__.py:4: RuntimeWarning: invalid value encountered in sin\n",
      "/Users/cch/anaconda/lib/python3.5/site-packages/ipykernel/__main__.py:4: RuntimeWarning: invalid value encountered in cos\n"
     ]
    },
    {
     "data": {
      "text/plain": [
       "(-5, 5)"
      ]
     },
     "execution_count": 75,
     "metadata": {},
     "output_type": "execute_result"
    },
    {
     "data": {
      "image/png": "[encoded data removed]",
      "text/plain": [
       "<matplotlib.figure.Figure at 0x10bdce668>"
      ]
     },
     "metadata": {},
     "output_type": "display_data"
    }
   ],
   "source": [
    "from numpy import sin,cos\n",
    "epsilon=1e-6\n",
    "x=np.linspace(-1,1,401)\n",
    "plt.plot(x,(2*x*sin(1/x)-cos(1/x))/x)\n",
    "plt.ylim(-5,5)"
   ]
  },
  {
   "cell_type": "code",
   "execution_count": null,
   "metadata": {
    "collapsed": true
   },
   "outputs": [],
   "source": []
  },
  {
   "cell_type": "markdown",
   "metadata": {},
   "source": [
    "(100).\n",
    "$$|u|'=(\\sqrt{u^2})'=2u\\cdot u'\\cdot\\frac{1}{2\\sqrt{u^2}}=\\frac{u'u}{|u|}$$"
   ]
  },
  {
   "cell_type": "markdown",
   "metadata": {},
   "source": [
    "Implicit Differentiation\n",
    "---\n",
    "\n",
    "Definition\n",
    "---\n",
    "  $F (x, y) = 0$ is called equation of $x$ and $y$ of $y$ is called an\n",
    "  implicit function of $x$.\n",
    "\n",
    "\n"
   ]
  },
  {
   "cell_type": "markdown",
   "metadata": {},
   "source": [
    "Example\n",
    "---\n",
    "The circle, $x^2 + y^2 = r^2$, is a famous known equation. And how do we find\n",
    "the tangent line at the point on the circle? Implicit differentiation says\n",
    "that $y$ can be treated as function of $x$ locally, i.e. $y = y (x)$. Then\n",
    "\n",
    "\\begin{eqnarray*}\n",
    "  & x^2 + (y (x))^2 = r^2 & \\\\\n",
    "  \\Longrightarrow & [x^2 + (y (x))^2]' = [r^2]' & \\text{ by differentiating both sides}\\\\\n",
    "  \\Longrightarrow & 2 x + 2 y (x) y' (x) = 0 & \\\\\n",
    "  \\Longrightarrow & y' (x) = - \\frac{x}{y (x)} & \\text{ if }y (x) \\neq 0\n",
    "\\end{eqnarray*}\n",
    "\n",
    "This means that $y' (x)$ depends on both $x$ and $y$. For example,\n",
    "- At $(x, y) = (1 / \\sqrt{2}, 1 / \\sqrt{2})$, \n",
    "  $y' (x) = - \\sqrt{2} /  \\sqrt{2} = -1$;\n",
    "- at $(x, y) = (- 3 / 5, 4 / 5)$, $ y' (x) = - [(- 3 / 5) / (4\n",
    "  / 5)] =  3 / 4$"
   ]
  },
  {
   "cell_type": "markdown",
   "metadata": {},
   "source": [
    "Example\n",
    "---\n",
    "Find out $y' (x)$ if $x^3 + y^3 - 3 x y = 0$.\n",
    "  \n",
    "By implicit differention:\n",
    "\\begin{eqnarray*}\n",
    "    & [x^3 + y^3 - 3 x y]' & = 0\\\\\n",
    "    \\Longrightarrow & 3 x^2 + 3 y^2 y' - 3 (y + x y') & = 0\\\\\n",
    "    \\Longrightarrow & y'(3 y^2 - 3 x)  & = 3 (y - x^2)\\\\\n",
    "    \\Longrightarrow & y' & = \\frac{ x^2-y}{x-y^2}\n",
    "  \\end{eqnarray*}\n",
    "  if $y^2 - x \\neq 0$ or $x\\ne y^2$.\n"
   ]
  },
  {
   "cell_type": "markdown",
   "metadata": {},
   "source": [
    "Why no Derivative at $(x,y)=(0,0)$ and $\\left(2^{2/3},2^{1/3}\\right)$\n",
    "---\n",
    "<img src=\"imgs/1/sage0.png\" width=40% />\n",
    "\n",
    "It's very clear:\n",
    "- the curve of $x^3+y^3-3xy=0$ crosses origin, $(0,0)$, twice with different tangent; and this is why its tangent can't exist at origin even that the tangent lines exist.  \n",
    "- The latter case, it is obvious that there exists a vertical tangent line at the case, i.e. $\\left.f'\\right|_{(2^{2/3},2^{1/3})}=\\infty$, does not exist.\n",
    "\n",
    "Note\n",
    "---\n",
    "Above image was created by another CAS, <a href=\"www.sagemath.org\">Sage</a>, which owns powerful plotting functionalities for math works. "
   ]
  },
  {
   "cell_type": "code",
   "execution_count": 6,
   "metadata": {
    "collapsed": false
   },
   "outputs": [],
   "source": [
    "from sympy import Function,solve,Derivative\n",
    "y=Function(\"y\")\n",
    "y=y(x)"
   ]
  },
  {
   "cell_type": "code",
   "execution_count": 7,
   "metadata": {
    "collapsed": false
   },
   "outputs": [
    {
     "data": {
      "text/plain": [
       "3*x**2 - 3*x*Derivative(y(x), x) + 3*y(x)**2*Derivative(y(x), x) - 3*y(x)"
      ]
     },
     "execution_count": 7,
     "metadata": {},
     "output_type": "execute_result"
    }
   ],
   "source": [
    "l=diff(x**3+y**3-3*x*y,x);\n",
    "l"
   ]
  },
  {
   "cell_type": "code",
   "execution_count": 9,
   "metadata": {
    "collapsed": false
   },
   "outputs": [
    {
     "data": {
      "text/plain": [
       "[(x**2 - y(x))/(x - y(x)**2)]"
      ]
     },
     "execution_count": 9,
     "metadata": {},
     "output_type": "execute_result"
    }
   ],
   "source": [
    "solve(l,Derivative(y,x))"
   ]
  },
  {
   "cell_type": "code",
   "execution_count": 41,
   "metadata": {
    "collapsed": false
   },
   "outputs": [],
   "source": [
    "def ImplicitDiff(express):\n",
    "    l=diff(express,x);\n",
    "    print(\"y'(x) =\",solve(l,Derivative(y,x))[0])"
   ]
  },
  {
   "cell_type": "code",
   "execution_count": 44,
   "metadata": {
    "collapsed": false
   },
   "outputs": [
    {
     "name": "stdout",
     "output_type": "stream",
     "text": [
      "y'(x) = (x**2 - y(x))/(x - y(x)**2)\n"
     ]
    }
   ],
   "source": [
    "ImplicitDiff(x**3+y**3-3*x*y)"
   ]
  },
  {
   "cell_type": "markdown",
   "metadata": {
    "collapsed": true
   },
   "source": [
    "Inverse of Function\n",
    "---\n",
    "\n",
    "Inverse Differentiation\n",
    "---\n",
    "Suppose that the inverse of $y=f(x)$ exists and is equal to $x=f^{-1}(y)$. Then\n",
    "$$\\frac{d x}{dy}=\\frac{1}{dy/dx}$$\n",
    "i.e.\n",
    "$$\\left(f^{-1}(y)\\right)'=\\frac{1}{f'(x)}$$\n",
    "\n",
    "Example\n",
    "---\n",
    "The inverse of $\\sin$ is defined as follows:\n",
    "$$ y=\\text{Sin}^{-1} x \\text{ if }x=\\sin(y), \\text{ for } y\\in(-\\pi/2,\\pi/2)$$ \n",
    "\n",
    "\\begin{eqnarray}\n",
    "\\frac{d \\text{Sin}^{-1} x}{d x}&=&\\frac{d y}{d x}\\\\\n",
    "  &=& \\frac{1}{d x/d y}\\\\\n",
    "  &=& \\frac{1}{d(\\sin y)/d y}\\\\\n",
    "  &=& \\frac{1}{\\cos y}=\\frac{1}{\\sqrt{1-\\sin^2y}}=\\frac{1}{\\sqrt{1-x^2}}\\\\\n",
    "\\end{eqnarray}\n",
    "\n",
    "Note\n",
    "---\n",
    "Other derivatives for inverse trigonometric functions are:\n",
    "- $\\left(\\text{Tan}^{-1}(x)\\right)'=\\frac{1}{1+x^2}$,\n",
    "-  $\\left(\\text{Sec}^{-1}(x)\\right)'=\\frac{1}{|x|\\sqrt{x^2-1}}$,"
   ]
  },
  {
   "cell_type": "code",
   "execution_count": 85,
   "metadata": {
    "collapsed": false
   },
   "outputs": [],
   "source": [
    "from sympy import asin,atan,asec,simplify"
   ]
  },
  {
   "cell_type": "code",
   "execution_count": 79,
   "metadata": {
    "collapsed": false
   },
   "outputs": [
    {
     "data": {
      "text/plain": [
       "1/sqrt(-x**2 + 1)"
      ]
     },
     "execution_count": 79,
     "metadata": {},
     "output_type": "execute_result"
    }
   ],
   "source": [
    "diff(asin(x),x)"
   ]
  },
  {
   "cell_type": "code",
   "execution_count": 88,
   "metadata": {
    "collapsed": false
   },
   "outputs": [
    {
     "name": "stdout",
     "output_type": "stream",
     "text": [
      "  1   \n",
      "──────\n",
      " 2    \n",
      "x  + 1\n"
     ]
    }
   ],
   "source": [
    "pprint(diff(atan(x),x))\n"
   ]
  },
  {
   "cell_type": "code",
   "execution_count": null,
   "metadata": {
    "collapsed": true
   },
   "outputs": [],
   "source": []
  }
 ],
 "metadata": {
  "kernelspec": {
   "display_name": "Python 3",
   "language": "python",
   "name": "python3"
  },
  "language_info": {
   "codemirror_mode": {
    "name": "ipython",
    "version": 3
   },
   "file_extension": ".py",
   "mimetype": "text/x-python",
   "name": "python",
   "nbconvert_exporter": "python",
   "pygments_lexer": "ipython3",
   "version": "3.5.2"
  }
 },
 "nbformat": 4,
 "nbformat_minor": 1
}
